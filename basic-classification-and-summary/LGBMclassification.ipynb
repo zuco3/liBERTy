{
 "cells": [
  {
   "cell_type": "code",
   "execution_count": 1,
   "id": "9095f81a",
   "metadata": {
    "scrolled": true
   },
   "outputs": [
    {
     "name": "stdout",
     "output_type": "stream",
     "text": [
      "Requirement already satisfied: sklearn in /home/azusa/anaconda3/envs/ai/lib/python3.10/site-packages (0.0.post1)\n",
      "Requirement already satisfied: transformers in /home/azusa/anaconda3/envs/ai/lib/python3.10/site-packages (4.25.1)\n",
      "Requirement already satisfied: filelock in /home/azusa/anaconda3/envs/ai/lib/python3.10/site-packages (from transformers) (3.9.0)\n",
      "Requirement already satisfied: numpy>=1.17 in /home/azusa/anaconda3/envs/ai/lib/python3.10/site-packages (from transformers) (1.23.5)\n",
      "Requirement already satisfied: pyyaml>=5.1 in /home/azusa/anaconda3/envs/ai/lib/python3.10/site-packages (from transformers) (6.0)\n",
      "Requirement already satisfied: tokenizers!=0.11.3,<0.14,>=0.11.1 in /home/azusa/anaconda3/envs/ai/lib/python3.10/site-packages (from transformers) (0.13.2)\n",
      "Requirement already satisfied: packaging>=20.0 in /home/azusa/anaconda3/envs/ai/lib/python3.10/site-packages (from transformers) (22.0)\n",
      "Requirement already satisfied: requests in /home/azusa/anaconda3/envs/ai/lib/python3.10/site-packages (from transformers) (2.28.1)\n",
      "Requirement already satisfied: regex!=2019.12.17 in /home/azusa/anaconda3/envs/ai/lib/python3.10/site-packages (from transformers) (2022.10.31)\n",
      "Requirement already satisfied: huggingface-hub<1.0,>=0.10.0 in /home/azusa/anaconda3/envs/ai/lib/python3.10/site-packages (from transformers) (0.11.1)\n",
      "Requirement already satisfied: tqdm>=4.27 in /home/azusa/anaconda3/envs/ai/lib/python3.10/site-packages (from transformers) (4.64.1)\n",
      "Requirement already satisfied: typing-extensions>=3.7.4.3 in /home/azusa/anaconda3/envs/ai/lib/python3.10/site-packages (from huggingface-hub<1.0,>=0.10.0->transformers) (4.4.0)\n",
      "Requirement already satisfied: certifi>=2017.4.17 in /home/azusa/anaconda3/envs/ai/lib/python3.10/site-packages (from requests->transformers) (2022.12.7)\n",
      "Requirement already satisfied: charset-normalizer<3,>=2 in /home/azusa/anaconda3/envs/ai/lib/python3.10/site-packages (from requests->transformers) (2.0.4)\n",
      "Requirement already satisfied: urllib3<1.27,>=1.21.1 in /home/azusa/anaconda3/envs/ai/lib/python3.10/site-packages (from requests->transformers) (1.26.13)\n",
      "Requirement already satisfied: idna<4,>=2.5 in /home/azusa/anaconda3/envs/ai/lib/python3.10/site-packages (from requests->transformers) (3.4)\n",
      "\u001b[1;31mE: \u001b[0mCould not open lock file /var/lib/dpkg/lock-frontend - open (13: Permission denied)\u001b[0m\n",
      "\u001b[1;31mE: \u001b[0mUnable to acquire the dpkg frontend lock (/var/lib/dpkg/lock-frontend), are you root?\u001b[0m\n",
      "Requirement already satisfied: sentencepiece in /home/azusa/anaconda3/envs/ai/lib/python3.10/site-packages (0.1.97)\n"
     ]
    }
   ],
   "source": [
    "!pip3 install sklearn\n",
    "!pip install transformers\n",
    "!apt install swig\n",
    "# Sentencepieceのインストール\n",
    "!pip install sentencepiece\n",
    "from transformers import T5Tokenizer\n",
    "tokenizer = T5Tokenizer.from_pretrained(\"rinna/japanese-roberta-base\")\n",
    "tokenizer.do_lower_case = True  # due to some bug of tokenizer config loading"
   ]
  },
  {
   "cell_type": "code",
   "execution_count": 2,
   "id": "baebc28f",
   "metadata": {},
   "outputs": [],
   "source": [
    "import numpy as np\n",
    "import pandas as pd\n",
    "import lightgbm\n",
    "from sklearn.model_selection import train_test_split\n",
    "from sklearn.metrics import accuracy_score, roc_auc_score, confusion_matrix, precision_score, recall_score, f1_score\n",
    "from sklearn.feature_extraction.text import TfidfVectorizer\n",
    "#from sklearn.model_selection import learning_curve\n",
    "#from sklearn import linear_model\n",
    "import warnings\n",
    "warnings.filterwarnings('ignore')\n",
    "\n",
    "import matplotlib.pyplot as plt\n",
    "import os\n",
    "import re\n",
    "import csv\n",
    "import glob"
   ]
  },
  {
   "cell_type": "code",
   "execution_count": 3,
   "id": "7e7828f5",
   "metadata": {},
   "outputs": [],
   "source": [
    "# 2つをニュースメディアのジャンルを選定\n",
    "mydata = '/export/livedoor' \n",
    "#処理をした結果を保存するファイル名 \n",
    "tsv_fname = \"all_text.tsv\" \n",
    "\n",
    "def remove_brackets(inp):\n",
    "    output = re.sub(u'[〃-〿]', '',(re.sub('＝|=|※|×|\\(|\\)|“|”|（|）|／|\\[|\\]| |　|…|・|：|\\n|\\t|/|＜|＞|@|＠', '', re.sub(u'[ℊ-⿻]', '', inp)))) #210A ~ 2FFF\n",
    "    return output\n",
    "\n",
    "def read_title(f):\n",
    "    next(f)\n",
    "    next(f)\n",
    "    title = next(f)\n",
    "    title = remove_brackets(title.encode().decode('utf-8'))\n",
    "    return title[:-1]\n",
    "\n",
    "def read_para(f):\n",
    "    p = ''\n",
    "    while True:\n",
    "        try:\n",
    "            para = next(f)\n",
    "            para = remove_brackets(para.encode().decode('utf-8'))\n",
    "            p += para\n",
    "        except StopIteration:\n",
    "            break\n",
    "    return p [:-1]"
   ]
  },
  {
   "cell_type": "markdown",
   "id": "4a61c6c7",
   "metadata": {},
   "source": [
    "data kakunou"
   ]
  },
  {
   "cell_type": "code",
   "execution_count": 4,
   "id": "9a14f2bd",
   "metadata": {},
   "outputs": [],
   "source": [
    "directory = ['/export/livedoor/dokujo-tsushin', '/export/livedoor/it-life-hack']\n",
    "target_genre = [\"dokujo-tsushin\", \"it-life-hack\"] \n",
    "#directory = ['/export/livedoor/dokujo-tsushin', '/export/livedoor/peachy']\n",
    "#target_genre = [\"dokujo-tsushin\", \"peachy\"] \n",
    "zero_fnames = []\n",
    "one_fnames = []\n",
    "\n",
    "if os.path.exists(tsv_fname) == True:\n",
    "    with open(tsv_fname, \"r+\") as f:\n",
    "        f.truncate(0)\n",
    "\n",
    "for i in range(2):\n",
    "    for filename in os.listdir(directory[i]):\n",
    "        if \"LICENSE.txt\" in filename:\n",
    "            continue\n",
    "        f = os.path.join(directory[i], filename)\n",
    "        #if os.path.isfile(f):\n",
    "        #    print(f)\n",
    "        if target_genre[0] in f and f.endswith(\".txt\"):\n",
    "            with open(tsv_fname, \"a\") as wf:\n",
    "                writer = csv.writer(wf, delimiter='\\t')\n",
    "                with open(f) as zf:\n",
    "                    title = read_title(zf)\n",
    "                    para = read_para(zf)\n",
    "                    row = [target_genre[0], '0', title, para]\n",
    "                    writer.writerow(row)\n",
    "            continue\n",
    "        if target_genre[1] in f and f.endswith(\".txt\"):\n",
    "            with open(tsv_fname, \"a\") as wf:\n",
    "                writer = csv.writer(wf, delimiter='\\t')\n",
    "                with open(f) as zf:\n",
    "                    title = read_title(zf)\n",
    "                    para = read_para(zf)\n",
    "                    row = [target_genre[1], '1', title, para]\n",
    "                    writer.writerow(row)\n",
    "            continue"
   ]
  },
  {
   "cell_type": "code",
   "execution_count": 5,
   "id": "0a9db5f8",
   "metadata": {},
   "outputs": [
    {
     "name": "stdout",
     "output_type": "stream",
     "text": [
      "データサイズ： (1740, 4)\n"
     ]
    },
    {
     "data": {
      "text/html": [
       "<div>\n",
       "<style scoped>\n",
       "    .dataframe tbody tr th:only-of-type {\n",
       "        vertical-align: middle;\n",
       "    }\n",
       "\n",
       "    .dataframe tbody tr th {\n",
       "        vertical-align: top;\n",
       "    }\n",
       "\n",
       "    .dataframe thead th {\n",
       "        text-align: right;\n",
       "    }\n",
       "</style>\n",
       "<table border=\"1\" class=\"dataframe\">\n",
       "  <thead>\n",
       "    <tr style=\"text-align: right;\">\n",
       "      <th></th>\n",
       "      <th>media_name</th>\n",
       "      <th>label</th>\n",
       "      <th>title</th>\n",
       "      <th>sentence</th>\n",
       "    </tr>\n",
       "  </thead>\n",
       "  <tbody>\n",
       "    <tr>\n",
       "      <th>649</th>\n",
       "      <td>dokujo-tsushin</td>\n",
       "      <td>0</td>\n",
       "      <td>独女たちの名言集feat.ニーチ</td>\n",
       "      <td>今年1月に発売してから、現在50万部突破のベストセラー本超訳ニーチェの言葉白取春彦編訳ディス...</td>\n",
       "    </tr>\n",
       "    <tr>\n",
       "      <th>522</th>\n",
       "      <td>dokujo-tsushin</td>\n",
       "      <td>0</td>\n",
       "      <td>梅村ゆずの結婚どころじゃないんですっ！vol.3Presentedbyゆるっとcaf</td>\n",
       "      <td>こんにちは。ちょっとした運動で、４日は筋肉痛になってしまう独身エロ漫画家、梅村ゆず33です。...</td>\n",
       "    </tr>\n",
       "    <tr>\n",
       "      <th>1712</th>\n",
       "      <td>it-life-hack</td>\n",
       "      <td>1</td>\n",
       "      <td>来たぜ！お祭り第3弾！GIGABYTE板祭でZ77マザーのレビューアーを大募</td>\n",
       "      <td>ソーシャルレビューコミュニティzigsowジグソーは、GIGABYTE板祭Returnsの第...</td>\n",
       "    </tr>\n",
       "    <tr>\n",
       "      <th>1219</th>\n",
       "      <td>it-life-hack</td>\n",
       "      <td>1</td>\n",
       "      <td>フリップカバーにスタンド＆バッテリーまで内蔵！GALAXYSIII専用ケースイケショップのレア</td>\n",
       "      <td>2012年今夏の最強スマートフォンとの呼び声を欲しいままにしているのがドコモのGALAXYS...</td>\n",
       "    </tr>\n",
       "    <tr>\n",
       "      <th>886</th>\n",
       "      <td>it-life-hack</td>\n",
       "      <td>1</td>\n",
       "      <td>Webで認知症チェックができる！日本初の認知機能チェックサービス脳測正式公</td>\n",
       "      <td>株式会社シグナルトークは、認知機能をチェック管理できるWebサービス脳測のうそくの正式サービ...</td>\n",
       "    </tr>\n",
       "    <tr>\n",
       "      <th>493</th>\n",
       "      <td>dokujo-tsushin</td>\n",
       "      <td>0</td>\n",
       "      <td>自転車女子、はじめましたvol.01Presentedbyゆるっとcaf</td>\n",
       "      <td>自転車には興味はあれど、さてどうしようかとお悩みの独女の皆様。まったく興味はないけど、北条晶...</td>\n",
       "    </tr>\n",
       "    <tr>\n",
       "      <th>956</th>\n",
       "      <td>it-life-hack</td>\n",
       "      <td>1</td>\n",
       "      <td>ハードルが高いダブルすれちがいドラクエXですれちがいは盛り上がるか?デジ</td>\n",
       "      <td>2009年に発売されたニンテンドーDS用ソフトのドラクエは、DSのすれちがい通信機能で宝の地...</td>\n",
       "    </tr>\n",
       "    <tr>\n",
       "      <th>1515</th>\n",
       "      <td>it-life-hack</td>\n",
       "      <td>1</td>\n",
       "      <td>iPhone、iPodの音質が劇的改善！FANTABITで音楽に革命をデジ</td>\n",
       "      <td>iOSiPhone、iPad、iPodtouch用の音楽アプリで有料にも関わらず大人気のもの...</td>\n",
       "    </tr>\n",
       "    <tr>\n",
       "      <th>1287</th>\n",
       "      <td>it-life-hack</td>\n",
       "      <td>1</td>\n",
       "      <td>Wordで何行書いたかひと目でわかるようにする方法知っ得虎の</td>\n",
       "      <td>Wordで長文を作成している場合、総行数を知りたいことがある。とはいえ、１ページに入っている...</td>\n",
       "    </tr>\n",
       "    <tr>\n",
       "      <th>537</th>\n",
       "      <td>dokujo-tsushin</td>\n",
       "      <td>0</td>\n",
       "      <td>がむしゃらに婚活しなくても幸せになれる！？まずは趣味</td>\n",
       "      <td>美枝さんIT関係37歳は婚活ブームの初期の頃、同僚に誘われて大人数制の婚活パーティーに何度か...</td>\n",
       "    </tr>\n",
       "  </tbody>\n",
       "</table>\n",
       "</div>"
      ],
      "text/plain": [
       "          media_name  label                                            title  \\\n",
       "649   dokujo-tsushin      0                                 独女たちの名言集feat.ニーチ   \n",
       "522   dokujo-tsushin      0       梅村ゆずの結婚どころじゃないんですっ！vol.3Presentedbyゆるっとcaf   \n",
       "1712    it-life-hack      1           来たぜ！お祭り第3弾！GIGABYTE板祭でZ77マザーのレビューアーを大募   \n",
       "1219    it-life-hack      1  フリップカバーにスタンド＆バッテリーまで内蔵！GALAXYSIII専用ケースイケショップのレア   \n",
       "886     it-life-hack      1            Webで認知症チェックができる！日本初の認知機能チェックサービス脳測正式公   \n",
       "493   dokujo-tsushin      0             自転車女子、はじめましたvol.01Presentedbyゆるっとcaf   \n",
       "956     it-life-hack      1             ハードルが高いダブルすれちがいドラクエXですれちがいは盛り上がるか?デジ   \n",
       "1515    it-life-hack      1            iPhone、iPodの音質が劇的改善！FANTABITで音楽に革命をデジ   \n",
       "1287    it-life-hack      1                   Wordで何行書いたかひと目でわかるようにする方法知っ得虎の   \n",
       "537   dokujo-tsushin      0                       がむしゃらに婚活しなくても幸せになれる！？まずは趣味   \n",
       "\n",
       "                                               sentence  \n",
       "649   今年1月に発売してから、現在50万部突破のベストセラー本超訳ニーチェの言葉白取春彦編訳ディス...  \n",
       "522   こんにちは。ちょっとした運動で、４日は筋肉痛になってしまう独身エロ漫画家、梅村ゆず33です。...  \n",
       "1712  ソーシャルレビューコミュニティzigsowジグソーは、GIGABYTE板祭Returnsの第...  \n",
       "1219  2012年今夏の最強スマートフォンとの呼び声を欲しいままにしているのがドコモのGALAXYS...  \n",
       "886   株式会社シグナルトークは、認知機能をチェック管理できるWebサービス脳測のうそくの正式サービ...  \n",
       "493   自転車には興味はあれど、さてどうしようかとお悩みの独女の皆様。まったく興味はないけど、北条晶...  \n",
       "956   2009年に発売されたニンテンドーDS用ソフトのドラクエは、DSのすれちがい通信機能で宝の地...  \n",
       "1515  iOSiPhone、iPad、iPodtouch用の音楽アプリで有料にも関わらず大人気のもの...  \n",
       "1287  Wordで長文を作成している場合、総行数を知りたいことがある。とはいえ、１ページに入っている...  \n",
       "537   美枝さんIT関係37歳は婚活ブームの初期の頃、同僚に誘われて大人数制の婚活パーティーに何度か...  "
      ]
     },
     "execution_count": 5,
     "metadata": {},
     "output_type": "execute_result"
    }
   ],
   "source": [
    "import pandas as pd\n",
    "# データの読み込み\n",
    "df = pd.read_csv(\"all_text.tsv\", \n",
    "                 delimiter='\\t', header=None, names=['media_name', 'label','title','sentence'])\n",
    "# データの確認\n",
    "print(f'データサイズ： {df.shape}')\n",
    "df.sample(10)"
   ]
  },
  {
   "cell_type": "code",
   "execution_count": 6,
   "id": "5f56e68f",
   "metadata": {},
   "outputs": [],
   "source": [
    "mn = df.media_name.values\n",
    "labels = df.label.values\n",
    "titles = df.title.values\n",
    "sentences = df.sentence.values"
   ]
  },
  {
   "cell_type": "code",
   "execution_count": 7,
   "id": "d04e3ade",
   "metadata": {},
   "outputs": [
    {
     "name": "stdout",
     "output_type": "stream",
     "text": [
      " Original:  あなたはどんな人物？何を目指している？あなたにとって一番大切なものは何？庶民でありながらも成績優秀で大学を卒業し、エリートコースまっしぐらの生活を送るため、ゴールドマンサックスの面接にやってきたアニースカーレットヨハンソン。簡単な質問だわと答えるも、言葉が出てこない。母親の期待に応えるため、ひたすら勝ち組になるために頑張って来たアニーにとって、エリートコースはあくまでも母が決めた道。自分のことが、分からない！！なんとなく大学に行き、なんとなく就職し、なんとなく年を取ってしまった。自分を見失う瞬間は、誰にでも必ずあるもの。アニーのように初めは20代でやってくるのかもしれない。でもきっと、30代、40代、50代になっても、同じように立ち止まる瞬間がやってくる。自分の人生、このままでいいのだろうか？いまの自分が本当の自分なのだろうか？自分にとっての幸せとは何なのだろうか？自分探しと言えば、旅行や留学が定番ですが、彼女が選んだのは、いまの自分とかけ離れた世界職業に身を置いてみるという方法。優秀な成績で大学を卒業した人がなかなか就く事はないナニーベビーシッターよりは乳母に近いという職業。でもただのナニーではなく、上流階級の家のナニーというところが面白い！自分が目指していたエリート階級の生活を近くで観察できる状況に置かれたことで、自分が大切にしなければならないものに気付いていく。一番心に残っているのは、アニーが雇い主のミセスXのことを友達に話すシーン。ミセスXは何もかも手に入れているのに、ちっとも幸せそうじゃないのというアニーに対して、あなたと彼女は似た者同士よという友達の言葉の深さに、ハッとさせられます。お金持ちと結婚し、子供を授かり、豪邸に住み、ショッピングにエステ三昧のミセスX。端から見たら、誰もが羨む憧れのセレブリティ。でも彼女が幸せじゃないのは、何を持っていれば幸せなのかが分かっていないから。結局はいくらお金があっても、仕事が成功しても、結婚出産というステータスがあっても、自分の人生にとって何が一番大切なものなのかが分かっていなければ、幸せにはなれないという、とても厳しいメッセージ。いま自分が目指しているものは、肩書きだけ、表面的なものではないか？アニーの立場からも、ミセスXの立場からも、考えさせられます。自分が進んできた道は間違っていなかったはずなのに、なぜか幸せを感じられない。そんな時、手に取って欲しい作品！！安部沙織C2007TheWeinsteinCompany,LLC\n",
      "Tokenized:  ['▁', 'あなた', 'は', 'どんな', '人物', '?', '何', 'を目指している', '?', 'あなた', 'にとって', '一番', '大切な', 'ものは', '何', '?', '庶民', 'でありながら', 'も', '成績', '優秀', 'で', '大学を卒業', 'し', '、', 'エリート', 'コース', 'ま', 'っ', 'し', 'ぐら', 'の', '生活を送る', 'ため', '、', 'ゴールド', 'マン', 'サックス', 'の', '面接', 'に', 'やってきた', 'アニ', 'ース', 'カー', 'レット', 'ヨハン', 'ソン', '。', '簡単な', '質問', 'だ', 'わ', 'と', '答える', 'も', '、', '言葉', 'が', '出て', 'こ', 'ない', '。', '母親の', '期待', 'に応え', 'るため', '、', 'ひたすら', '勝ち', '組', 'になるため', 'に', '頑張', 'って', '来た', 'ア', 'ニー', 'にとって', '、', 'エリート', 'コース', 'は', 'あくまでも', '母', 'が', '決めた', '道', '。', '自分の', 'ことが', '、', '分からない', '!!', 'なん', 'と', 'なく', '大学', 'に行き', '、', 'なん', 'と', 'なく', '就職', 'し', '、', 'なん', 'と', 'なく', '年', 'を取って', 'しまった', '。', '自分', 'を見', '失', 'う', '瞬間', 'は', '、', '誰', 'に', 'でも', '必ず', 'あるもの', '。', 'ア', 'ニー', 'のように', '初め', 'は', '20', '代', 'で', 'や', 'ってくる', 'の', 'かもしれない', '。', 'でも', 'き', 'っと', '、', '30', '代', '、', '40', '代', '、', '50', '代', 'になっても', '、', '同じように', '立ち', '止ま', 'る', '瞬間', 'が', 'や', 'ってくる', '。', '自分の', '人生', '、', 'このまま', 'で', 'いい', 'の', 'だろうか', '?', 'いま', 'の', '自分が', '本当の', '自分', 'な', 'の', 'だろうか', '?', '自分', 'にとって', 'の', '幸せ', 'と', 'は何', 'な', 'の', 'だろうか', '?', '自分', '探し', 'と', '言えば', '、', '旅行', 'や', '留学', 'が', '定番', 'です', 'が', '、', '彼女が', '選んだ', 'の', 'は', '、', 'いま', 'の', '自分', 'と', 'かけ', '離れた', '世界', '職業', 'に身を', '置いて', 'みる', 'という', '方法', '。', '優秀な', '成績', 'で', '大学を卒業', 'した', '人が', 'なかなか', '就', 'く', '事', 'はない', 'ナ', 'ニー', 'ベビー', 'シ', 'ッター', 'より', 'は', '乳', '母', 'に近い', 'という', '職業', '。', 'でも', 'ただ', 'の', 'ナ', 'ニー', 'ではなく', '、', '上流階級', 'の', '家の', 'ナ', 'ニー', 'という', 'ところ', 'が', '面白い', '!', '自分が', '目指', 'していた', 'エリート', '階級', 'の', '生活を', '近くで', '観察', 'できる', '状況', 'に置かれた', 'ことで', '、', '自分が', '大切に', 'しなければならない', 'ものに', '気', '付いて', 'いく', '。', '一番', '心', 'に', '残っている', 'の', 'は', '、', 'ア', 'ニー', 'が', '雇い', '主', 'の', 'ミ', 'セス', 'x', 'のことを', '友達', 'に', '話す', 'シーン', '。', 'ミ', 'セス', 'x', 'は', '何も', 'か', 'も', '手', 'に入れ', 'ている', 'の', 'に', '、', 'ち', 'っと', 'も', '幸せ', 'そう', 'じゃない', 'の', 'という', 'ア', 'ニー', 'に対して', '、', 'あなた', 'と', '彼女は', '似た', '者', '同士', 'よ', 'という', '友達', 'の言葉', 'の', '深さ', 'に', '、', 'ハッ', 'と', 'させられ', 'ます', '。', 'お金', '持ち', 'と結婚し', '、', '子供', 'を', '授', 'かり', '、', '豪', '邸', 'に住み', '、', 'ショッピング', 'に', 'エステ', '三', '昧', 'の', 'ミ', 'セス', 'x', '。', '端', 'から', '見た', 'ら', '、', '誰も', 'が', '羨', 'む', '憧れ', 'の', 'セレブ', 'リティ', '。', 'でも', '彼女が', '幸せ', 'じゃない', 'の', 'は', '、', '何', 'を持って', 'いれば', '幸せ', 'なのか', 'が', '分かっていない', 'から', '。', '結局', 'は', 'いく', 'ら', 'お金', 'があって', 'も', '、', '仕事', 'が', '成功', 'しても', '、', '結婚', '出産', 'という', 'ステータス', 'があって', 'も', '、', '自分の', '人生', 'にとって', '何', 'が', '一番', '大切な', 'もの', 'なのか', 'が', '分かって', 'い', 'なければ', '、', '幸せ', 'には', 'な', 'れない', 'という', '、', 'とても', '厳しい', 'メッセージ', '。', 'いま', '自分が', '目指', 'している', 'ものは', '、', '肩書き', 'だけ', '、', '表面', '的なもの', 'ではないか', '?', 'ア', 'ニー', 'の立場から', 'も', '、', 'ミ', 'セス', 'x', 'の立場から', 'も', '、', '考え', 'させられ', 'ます', '。', '自分が', '進んで', 'きた', '道', 'は', '間違って', 'いなかった', 'はず', 'な', 'の', 'に', '、', 'なぜか', '幸せ', 'を感じ', 'られない', '。', 'そんな', '時', '、', '手に', '取って', '欲しい', '作品', '!!', '安', '部', '沙', '織', 'c', '2007', 'the', 'we', 'in', 'stein', 'com', 'pan', 'y', ',', 'll', 'c']\n",
      "Token IDs:  [9, 5465, 11, 10150, 929, 3017, 1059, 21952, 3017, 5465, 1522, 3028, 27990, 2303, 1059, 3017, 9817, 8650, 30, 3468, 7502, 19, 16663, 32, 7, 17713, 1565, 428, 1315, 32, 17977, 10, 24606, 97, 7, 4970, 239, 22745, 10, 25806, 17, 12082, 7135, 8110, 410, 2603, 7108, 701, 8, 14695, 6782, 314, 704, 20, 21878, 30, 7, 2261, 12, 9220, 315, 278, 8, 19119, 2605, 12577, 4972, 7, 30492, 1699, 633, 17497, 17, 25685, 341, 8300, 88, 560, 1522, 7, 17713, 1565, 11, 17333, 865, 12, 17697, 162, 8, 1393, 655, 7, 19788, 4045, 4547, 20, 1179, 183, 14383, 7, 4547, 20, 1179, 9779, 32, 7, 4547, 20, 1179, 16, 12138, 12051, 8, 3064, 1429, 2901, 307, 8845, 11, 7, 5943, 17, 153, 7054, 21355, 8, 88, 560, 775, 4810, 11, 110, 261, 19, 26, 9123, 10, 6254, 8, 153, 203, 7160, 7, 141, 261, 7, 438, 261, 7, 413, 261, 17855, 7, 26060, 2226, 14883, 56, 8845, 12, 26, 9123, 8, 1393, 4221, 7, 24316, 19, 2505, 10, 25907, 3017, 7992, 10, 5144, 18408, 3064, 57, 10, 25907, 3017, 3064, 1522, 10, 15199, 20, 11637, 57, 10, 25907, 3017, 3064, 21297, 20, 10321, 7, 2640, 26, 6488, 12, 19010, 2767, 12, 7, 11405, 17421, 10, 11, 7, 7992, 10, 3064, 20, 4348, 6414, 301, 5083, 25576, 25808, 16298, 49, 1180, 8, 12211, 3468, 19, 16663, 29, 732, 10781, 5388, 195, 324, 1612, 145, 560, 20217, 243, 5340, 94, 11, 2456, 865, 1808, 49, 5083, 8, 153, 4770, 10, 145, 560, 586, 7, 29592, 10, 1175, 145, 560, 49, 917, 12, 22346, 543, 5144, 24480, 133, 17713, 2723, 10, 12359, 16978, 4554, 355, 916, 12088, 627, 7, 5144, 24395, 6807, 7198, 474, 10905, 2478, 8, 3028, 509, 17, 7224, 10, 11, 7, 88, 560, 12, 22841, 517, 10, 318, 10043, 282, 6822, 14087, 17, 12487, 1652, 8, 318, 10043, 282, 11, 8026, 95, 30, 224, 15456, 68, 10, 17, 7, 662, 7160, 30, 15199, 1043, 14042, 10, 49, 88, 560, 347, 7, 5465, 20, 5107, 14086, 147, 6874, 842, 49, 14087, 7128, 10, 13939, 17, 7, 9018, 20, 16995, 3418, 8, 19135, 1468, 9405, 7, 2038, 18, 8734, 4418, 7, 4201, 4901, 16753, 7, 19342, 17, 17728, 171, 31037, 10, 318, 10043, 282, 8, 1718, 28, 7057, 154, 7, 10365, 12, 31057, 561, 19184, 10, 30227, 10935, 8, 153, 11405, 15199, 14042, 10, 11, 7, 1059, 4385, 19281, 15199, 9529, 12, 26140, 28, 8, 3511, 11, 2478, 154, 19135, 10070, 30, 7, 2416, 12, 2664, 3557, 7, 1743, 11624, 49, 25098, 10070, 30, 7, 1393, 4221, 1522, 1059, 12, 3028, 27990, 375, 9529, 12, 18824, 128, 3714, 7, 15199, 42, 57, 7291, 49, 7, 8391, 5209, 4839, 8, 7992, 5144, 24480, 54, 2303, 7, 28451, 926, 7, 4359, 9291, 14221, 3017, 88, 560, 23142, 30, 7, 318, 10043, 282, 23142, 30, 7, 2699, 16995, 3418, 8, 5144, 8335, 2241, 162, 11, 28823, 6745, 9522, 57, 10, 17, 7, 27122, 15199, 7192, 9163, 8, 11152, 180, 7, 7524, 12691, 19024, 258, 4045, 465, 126, 4708, 5084, 186, 1475, 781, 5569, 1210, 28164, 3123, 10710, 407, 83, 6125, 186]\n"
     ]
    }
   ],
   "source": [
    "# 元文章\n",
    "print(' Original: ', sentences[0])\n",
    "# Tokenizer\n",
    "print('Tokenized: ', tokenizer.tokenize(sentences[0]))\n",
    "# Token-id\n",
    "print('Token IDs: ', tokenizer.convert_tokens_to_ids(tokenizer.tokenize(sentences[0])))"
   ]
  },
  {
   "cell_type": "code",
   "execution_count": 8,
   "id": "3639f963",
   "metadata": {},
   "outputs": [
    {
     "name": "stdout",
     "output_type": "stream",
     "text": [
      "<class 'pandas.core.frame.DataFrame'>\n"
     ]
    }
   ],
   "source": [
    "sents = []\n",
    "\n",
    "for i in range(df.shape[0]):\n",
    "    sents.append(tokenizer.convert_tokens_to_ids(tokenizer.tokenize(sentences[i])))\n",
    "\n",
    "#print(sents)\n",
    "sents = pd.DataFrame(sents)\n",
    "print(type(sents))"
   ]
  },
  {
   "cell_type": "code",
   "execution_count": 9,
   "id": "e830548c",
   "metadata": {},
   "outputs": [],
   "source": [
    "X_train, X_test, y_train, y_test = train_test_split(sents, labels, test_size=0.3, random_state=42, shuffle=True)"
   ]
  },
  {
   "cell_type": "code",
   "execution_count": 10,
   "id": "6f479367",
   "metadata": {},
   "outputs": [
    {
     "data": {
      "text/plain": [
       "pandas.core.frame.DataFrame"
      ]
     },
     "execution_count": 10,
     "metadata": {},
     "output_type": "execute_result"
    }
   ],
   "source": [
    "type(X_train)"
   ]
  },
  {
   "cell_type": "code",
   "execution_count": 11,
   "id": "9bc7355c",
   "metadata": {},
   "outputs": [
    {
     "name": "stdout",
     "output_type": "stream",
     "text": [
      "[5]\ttraining's binary_logloss: 0.488519\tvalid_0's binary_logloss: 0.586848\n",
      "[10]\ttraining's binary_logloss: 0.363246\tvalid_0's binary_logloss: 0.538842\n",
      "[15]\ttraining's binary_logloss: 0.278012\tvalid_0's binary_logloss: 0.517364\n",
      "[20]\ttraining's binary_logloss: 0.216269\tvalid_0's binary_logloss: 0.505013\n",
      "[25]\ttraining's binary_logloss: 0.167189\tvalid_0's binary_logloss: 0.494486\n",
      "[30]\ttraining's binary_logloss: 0.130547\tvalid_0's binary_logloss: 0.486614\n",
      "[35]\ttraining's binary_logloss: 0.101932\tvalid_0's binary_logloss: 0.48411\n",
      "[40]\ttraining's binary_logloss: 0.0799092\tvalid_0's binary_logloss: 0.483089\n",
      "[45]\ttraining's binary_logloss: 0.0628684\tvalid_0's binary_logloss: 0.483823\n",
      "[50]\ttraining's binary_logloss: 0.0498085\tvalid_0's binary_logloss: 0.484092\n"
     ]
    },
    {
     "data": {
      "text/plain": [
       "LGBMClassifier(max_depth=50, num_iterations=50)"
      ]
     },
     "execution_count": 11,
     "metadata": {},
     "output_type": "execute_result"
    }
   ],
   "source": [
    "lgb_clf = lightgbm.LGBMClassifier(max_depth=50, num_iterations=50)\n",
    "eval_res = {}\n",
    "lgb_clf.fit(X_train, y_train, eval_set=[(X_test, y_test), (X_train, y_train)], verbose=5)"
   ]
  },
  {
   "cell_type": "code",
   "execution_count": 12,
   "id": "ae80e9e9",
   "metadata": {},
   "outputs": [
    {
     "name": "stdout",
     "output_type": "stream",
     "text": [
      "Accuracy score = \t 1.0\n",
      "Precision score = \t 1.0\n",
      "Recall score =   \t 1.0\n",
      "F1 score =      \t 1.0\n"
     ]
    }
   ],
   "source": [
    "y_tra_pred = lgb_clf.predict(X_train)\n",
    "print('Accuracy score = \\t {}'.format(accuracy_score(y_train, y_tra_pred)))\n",
    "print('Precision score = \\t {}'.format(precision_score(y_train, y_tra_pred)))\n",
    "print('Recall score =   \\t {}'.format(recall_score(y_train, y_tra_pred)))\n",
    "print('F1 score =      \\t {}'.format(f1_score(y_train, y_tra_pred)))"
   ]
  },
  {
   "cell_type": "code",
   "execution_count": 13,
   "id": "8c2c226b",
   "metadata": {},
   "outputs": [],
   "source": [
    "#X_train"
   ]
  },
  {
   "cell_type": "code",
   "execution_count": 14,
   "id": "cf648d7a",
   "metadata": {},
   "outputs": [
    {
     "name": "stdout",
     "output_type": "stream",
     "text": [
      "Accuracy score = \t 0.764367816091954\n",
      "Precision score = \t 0.8063063063063063\n",
      "Recall score =   \t 0.6911196911196911\n",
      "F1 score =      \t 0.7442827442827443\n"
     ]
    }
   ],
   "source": [
    "y_pred = lgb_clf.predict(X_test)\n",
    "print('Accuracy score = \\t {}'.format(accuracy_score(y_test, y_pred)))\n",
    "print('Precision score = \\t {}'.format(precision_score(y_test, y_pred)))\n",
    "print('Recall score =   \\t {}'.format(recall_score(y_test, y_pred)))\n",
    "print('F1 score =      \\t {}'.format(f1_score(y_test, y_pred)))"
   ]
  },
  {
   "cell_type": "code",
   "execution_count": 15,
   "id": "2847544c",
   "metadata": {},
   "outputs": [
    {
     "data": {
      "text/plain": [
       "<AxesSubplot: title={'center': 'Metric during training'}, xlabel='Iterations', ylabel='binary_logloss'>"
      ]
     },
     "execution_count": 15,
     "metadata": {},
     "output_type": "execute_result"
    },
    {
     "data": {
      "image/png": "[encoded data removed]",
      "text/plain": [
       "<Figure size 640x480 with 1 Axes>"
      ]
     },
     "metadata": {},
     "output_type": "display_data"
    }
   ],
   "source": [
    "lightgbm.plot_metric(lgb_clf)"
   ]
  },
  {
   "cell_type": "code",
   "execution_count": 16,
   "id": "c46039c4",
   "metadata": {},
   "outputs": [
    {
     "data": {
      "text/plain": [
       "'\\n# https://panda-clip.com/learning-curve/\\n\\ntrain_sizes, train_scores, valid_scores = learning_curve(\\n                                              linear_model.Ridge(alpha=10),\\n                                              X=X_train.values, y=y_train,\\n                                              train_sizes=np.linspace(0.1, 1.0, 10),\\n                                              cv=5)\\n\\ntrain_mean = np.mean(train_scores, axis=1)\\ntrain_std  = np.std(train_scores, axis=1)\\nvalid_mean = np.mean(valid_scores, axis=1)\\nvalid_std  = np.std(valid_scores, axis=1)\\n'"
      ]
     },
     "execution_count": 16,
     "metadata": {},
     "output_type": "execute_result"
    }
   ],
   "source": [
    "'''\n",
    "# https://panda-clip.com/learning-curve/\n",
    "\n",
    "train_sizes, train_scores, valid_scores = learning_curve(\n",
    "                                              linear_model.Ridge(alpha=10),\n",
    "                                              X=X_train.values, y=y_train,\n",
    "                                              train_sizes=np.linspace(0.1, 1.0, 10),\n",
    "                                              cv=5)\n",
    "\n",
    "train_mean = np.mean(train_scores, axis=1)\n",
    "train_std  = np.std(train_scores, axis=1)\n",
    "valid_mean = np.mean(valid_scores, axis=1)\n",
    "valid_std  = np.std(valid_scores, axis=1)\n",
    "'''"
   ]
  }
 ],
 "metadata": {
  "kernelspec": {
   "display_name": "Python 3 (ipykernel)",
   "language": "python",
   "name": "python3"
  },
  "language_info": {
   "codemirror_mode": {
    "name": "ipython",
    "version": 3
   },
   "file_extension": ".py",
   "mimetype": "text/x-python",
   "name": "python",
   "nbconvert_exporter": "python",
   "pygments_lexer": "ipython3",
   "version": "3.10.8"
  }
 },
 "nbformat": 4,
 "nbformat_minor": 5
}
