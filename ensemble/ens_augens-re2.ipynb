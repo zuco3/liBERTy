{
 "cells": [
  {
   "cell_type": "markdown",
   "metadata": {
    "id": "0wcOk2ZzAAQr"
   },
   "source": [
    "# Hugging Face Library 'Transformer'およびT5Tokenizerのダウンロード\n",
    "\n",
    "参考( https://qiita.com/takubb/items/fd972f0ac3dba909c293 )これを基に改造し、最新のGoogle Colaboratoryで動作するようにした"
   ]
  },
  {
   "cell_type": "code",
   "execution_count": 1,
   "metadata": {},
   "outputs": [
    {
     "name": "stdout",
     "output_type": "stream",
     "text": [
      "num_of_learn: 100  max_epoch: 20  num_of_batch: 50  articletype: dokujo_it\n",
      "l:100_e:20_b:50_t:rids_a:dokujo_it\n"
     ]
    }
   ],
   "source": [
    "import argparse\n",
    "\n",
    "parser = argparse.ArgumentParser(description='liBERTy testbed')\n",
    "tp = lambda x:list(map(str, x.split(',')))\n",
    "parser.add_argument('-l', '--num_of_learn', type=int, default=50, help='number of learn, which determins the rate of dataset for the use of learning.')\n",
    "parser.add_argument('-e', '--max_epoch', type=int, default=20, help='number of epoch to be executed for learning loop')\n",
    "parser.add_argument('-b', '--batch_size', type=int, default=64, help='size of batch for learning process')\n",
    "parser.add_argument('-t', '--transformflags', type=tp, default=['r','i','d','s'], help='r:synreplace(1) i:randinsert(3) d:randdelete(0.15) s:randswap(2)')\n",
    "parser.add_argument('-a', '--article_type', type=int, default=0, choices=[0,1], help='article type (0: dokujo_it, 1:dokujo_peachy')\n",
    "parser.add_argument('-f', '--jupyter', default='CMD', help='executed from jupyter')\n",
    "args = parser.parse_args()\n",
    "\n",
    "if args.jupyter == 'CMD':\n",
    "    numof_learn = args.num_of_learn\n",
    "    max_epoch = args.max_epoch\n",
    "    batch_size = args.batch_size\n",
    "    transformflags = args.transformflags\n",
    "    articletype = args.article_type\n",
    "else:\n",
    "    numof_learn = 50\n",
    "    max_epoch = 20\n",
    "    batch_size = 64\n",
    "    transformflags = ['r','i','d','s']\n",
    "    articletype = 0\n",
    "articlelabel = ['dokujo_it', 'dokujo_peachy']\n",
    "print(\"num_of_learn:\",numof_learn,\" max_epoch:\", max_epoch,\" num_of_batch:\", batch_size,\n",
    "      \" articletype:\", articlelabel[articletype])\n",
    "filestr = \"l:\"+str(numof_learn)+\"_e:\"+str(max_epoch)+\"_b:\"+str(batch_size)+\"_t:\"+''.join(transformflags)+\"_a:\"+articlelabel[articletype]\n",
    "print(filestr)"
   ]
  },
  {
   "cell_type": "code",
   "execution_count": 2,
   "metadata": {
    "colab": {
     "base_uri": "https://localhost:8080/",
     "height": 1000,
     "referenced_widgets": [
      "0b407dd3170f4f55be7f8708c59d262b",
      "5616789e354d45699ea2040757dbd5c3",
      "d6bc8aac6ca74bff92bba66f17c20b00",
      "96fb1e06ef4349b5b6a071be230a711c",
      "8d05e54e5fc644d2a3c974758c5e439c",
      "9a20acb0a8fc4320af5a849c9d780649",
      "45555846fc9746af9a06d76c6c9aee1b",
      "a0880f15772d4156a9eb94d6314c2d9e",
      "d337eb6795e241389d9b35805a59fc22",
      "efd4beed83d947b9a5eec5918dcd2319",
      "1aff4434a10549e387f749140d4721f4",
      "73fb8df2799443d996d165878dc526a8",
      "c9f368ede2d24e3095242e9a3cf8c545",
      "4535f833bfac4540a8add9686f623b54",
      "7803695cfa5742bf85208ee04193acb0",
      "423c0b6849204bbc96c7b039633373f9",
      "937dd0c1d06e4d69824b7be991cc52f0",
      "11cc64e4ce0843ae88a651762d68b844",
      "9279616c547b47de92a436ebb026fd79",
      "b3910389daf34e31af5f33ef7d539625",
      "d808ec79b0dd465a82077ca7f2c8feb6",
      "d2a46f9221b14f86a3330510812f258e",
      "dd6aadfe79224713b5a47dd108ff71b9",
      "cfd1b9e85db447fbaf01f66f6f0f6429",
      "705cf2ba17614d51853eeb9dfc74d540",
      "83cf06c42be34c068dbbf6fcc5cfd6d5",
      "9a9b67b9ebf94a13a95e759a696c884f",
      "2dc2139703bb4448969390f2a91e00f6",
      "46351ebb1bfd41b5b9fbc4de40e218e3",
      "3994b8f69c284d758c5f04deeb3fcca1",
      "08a0764a15bb4b45ab9bfdbe3a02c318",
      "f629f372d73b44efb31e8d7c5a45d4cd",
      "93c25b4c96e64fecbb7f569527e50722"
     ]
    },
    "executionInfo": {
     "elapsed": 30796,
     "status": "ok",
     "timestamp": 1661865111605,
     "user": {
      "displayName": "西梓",
      "userId": "09370432736438252128"
     },
     "user_tz": -540
    },
    "id": "DJ__bXJq_06p",
    "outputId": "b2d9fbba-45cc-4348-fadf-7b15798ffd4b"
   },
   "outputs": [],
   "source": [
    "#!export CUDA_LAUNCH_BLOCKING=1\n",
    "# !pip install torch\n",
    "#!pip install torchvision\n",
    "#!pip install transformers\n",
    "#!apt install swig\n",
    "#!pip install sentencepiece\n",
    "#!pip install mecab-python3\n",
    "from transformers import T5Tokenizer\n",
    "tokenizer = T5Tokenizer.from_pretrained(\"rinna/japanese-roberta-base\")\n",
    "tokenizer.do_lower_case = True  # due to some bug of tokenizer config loading"
   ]
  },
  {
   "cell_type": "code",
   "execution_count": 3,
   "metadata": {},
   "outputs": [],
   "source": [
    "import os\n",
    "#os.environ['CUDA_LAUNCH_BLOCKING'] = \"1\"  # pytorchを同期実行させる\n",
    "#os.environ['KMP_DUPLICATE_LIB_OK']='TRUE' # ライブラリ重複を無視\n",
    "import gzip\n",
    "import shutil\n",
    "import sqlite3\n",
    "import random\n",
    "from math import ceil\n",
    "import re\n",
    "import csv\n",
    "import glob\n",
    "import torchvision\n",
    "import statistics\n",
    "import numpy as np\n",
    "import pickle\n",
    "import statistics\n",
    "import MeCab\n",
    "import re\n",
    "import copy\n",
    "import scipy.stats as stats\n",
    "\n",
    "import warnings\n",
    "warnings.filterwarnings('ignore')"
   ]
  },
  {
   "cell_type": "markdown",
   "metadata": {
    "id": "wpCa2h0oAU51"
   },
   "source": [
    "# PyTorchとGPU設定"
   ]
  },
  {
   "cell_type": "code",
   "execution_count": 4,
   "metadata": {
    "colab": {
     "base_uri": "https://localhost:8080/"
    },
    "executionInfo": {
     "elapsed": 5548,
     "status": "ok",
     "timestamp": 1661865117146,
     "user": {
      "displayName": "西梓",
      "userId": "09370432736438252128"
     },
     "user_tz": -540
    },
    "id": "hLV4lS8CAWCZ",
    "outputId": "6fa5cea1-0ec6-4aa3-82d5-53328e8b1c8c"
   },
   "outputs": [
    {
     "name": "stdout",
     "output_type": "stream",
     "text": [
      "cuda:0\n"
     ]
    }
   ],
   "source": [
    "#!pip install torch\n",
    "import torch\n",
    "# GPUが使えれば利用する設定\n",
    "device = torch.device(\"cuda:0\" if torch.cuda.is_available() else \"cpu\")\n",
    "print(device)"
   ]
  },
  {
   "cell_type": "markdown",
   "metadata": {},
   "source": [
    "# Data Augmentation kansuu"
   ]
  },
  {
   "cell_type": "code",
   "execution_count": 5,
   "metadata": {},
   "outputs": [],
   "source": [
    "# synreplace - replace kasho kosuu\n",
    "# randinsert - tasu kotoba no kazu\n",
    "# randdelete - delete kakuritsu\n",
    "# randswap - swap kaisuu\n",
    "\n",
    "class synreplace(object):\n",
    "    def __init__(self, num):\n",
    "        self.num = num\n",
    "        self.model = RobertaForMaskedLM.from_pretrained(\"rinna/japanese-roberta-base\")\n",
    "    def __call__(self, textlist):\n",
    "        # textlist: honbun no list\n",
    "        textlen = torch.where(textlist == 3)[0][0]\n",
    "        for n in range(self.num):\n",
    "            # chikan shiro\n",
    "            masked_idx = random.randint(2, textlen-1)\n",
    "            textlist[masked_idx] = 6\n",
    "            # convert to tensor\n",
    "            token_tensor = torch.tensor(textlist)\n",
    "            # get the top 10 predictions of the masked token\n",
    "            self.model = self.model.eval()\n",
    "            with torch.no_grad():\n",
    "                outputs = self.model(torch.unsqueeze(token_tensor, 0))\n",
    "                predictions = outputs[0][0, masked_idx].topk(1)\n",
    "            for i, index_t in enumerate(predictions.indices):\n",
    "                index = index_t.item()\n",
    "            textlist[masked_idx] = index\n",
    "        return textlist\n",
    "\n",
    "class randinsert(object):\n",
    "    def __init__(self, num):\n",
    "        self.num = num\n",
    "    def __call__(self, textlist):\n",
    "        for n in range(self.num):\n",
    "            insword = textlist[random.randint(1,len(textlist)-1)]\n",
    "            i = random.randint(1,len(textlist)-1)\n",
    "#            print('len: ', len(textlist))\n",
    "#            print(i)\n",
    "            while textlist[i] == 3:\n",
    "                i = random.randint(1,len(textlist)-1)\n",
    "#                print(i)\n",
    "            textlist = torch.cat([textlist[0:i], torch.tensor([insword]), textlist[i:-1]])\n",
    "        return textlist\n",
    "\n",
    "class randdelete(object):\n",
    "    def __init__(self, num):\n",
    "        self.num = num\n",
    "    def __call__(self, textlist):\n",
    "#        print(textlist.shape)\n",
    "        for i in range(3,len(textlist)-1):\n",
    "            if textlist[i] == 3:\n",
    "                continue\n",
    "            r = random.uniform(0, 1)\n",
    "            if r < self.num:\n",
    "#                textlist.pop(i)\n",
    "                textlist = torch.cat([textlist[0:i], textlist[i+1:], torch.tensor([3])])\n",
    "#                print(textlist)\n",
    "        return textlist\n",
    "\n",
    "class randswap(object):\n",
    "    def __init__(self, num):\n",
    "        self.num = num\n",
    "    def __call__(self, textlist):\n",
    "        counter = 0\n",
    "        #rs_sents = np.zeros(len(textlist), dtype=object)\n",
    "        for i in range(len(textlist)):\n",
    "            while self.num > counter:\n",
    "                box = 0\n",
    "                random_idx_1 = random.randint(1, len(textlist)-1)\n",
    "                while textlist[random_idx_1] == 3:\n",
    "                    random_idx_1 = random.randint(0, len(textlist)-1)\n",
    "                random_idx_2 = random.randint(1, len(textlist)-1)\n",
    "                while random_idx_1 == random_idx_2 or textlist[random_idx_2] == 3:\n",
    "                    random_idx_2 = random.randint(0, len(textlist)-1)\n",
    "#                    print(random_idx_1, random_idx_2)\n",
    "                box = textlist[random_idx_1]\n",
    "                textlist[random_idx_1] = textlist[random_idx_2]\n",
    "                textlist[random_idx_2] = box\n",
    "                counter += 1\n",
    "        return textlist"
   ]
  },
  {
   "cell_type": "markdown",
   "metadata": {},
   "source": [
    "# Custom Tensor Dataset\n",
    "https://stackoverflow.com/questions/55588201/pytorch-transforms-on-tensordataset"
   ]
  },
  {
   "cell_type": "markdown",
   "metadata": {},
   "source": [
    "# データセットの準備"
   ]
  },
  {
   "cell_type": "markdown",
   "metadata": {},
   "source": [
    "ライブドアニュースコーパスをダウンロード\n",
    "\n",
    "    ダウンロードしたファイルは圧縮（tar.gz形式）ファイル\n",
    "    様々なジャンル（IT,スポーツ,家電,映画など）のWEBメディアごとにフォルダに記事がテキストファイルで保存されている\n",
    "    \n",
    "以下、ファイルを読み込んで、必要な部分を抽出"
   ]
  },
  {
   "cell_type": "code",
   "execution_count": 6,
   "metadata": {},
   "outputs": [],
   "source": [
    "#urllib.request.urlretrieve(\"https://www.rondhuit.com/download/ldcc-20140209.tar.gz\", \"ldcc-20140209.tar.gz\")\n",
    "# ダウンロードした圧縮ファイルのパスを設定\n",
    "#tgz_fname = \"ldcc-20140209.tar.gz\" \n",
    "# 2つをニュースメディアのジャンルを選定\n",
    "mydata = '/export/livedoor' \n",
    "#処理をした結果を保存するファイル名 \n",
    "tsv_fname = \"all_text.tsv\" \n",
    "\n",
    "def remove_brackets(inp):\n",
    "    output = re.sub(u'[〃-〿]', '',(re.sub('＝|=|×|\\(|\\)|“|”|（|）|／|\\[|\\]| |　|…|・|\\n|\\t|/|＜|＞|@|＠', '', re.sub(u'[ℊ-⿻]', '', inp)))) #210A ~ 2FFF\n",
    "    return output\n",
    "\n",
    "def read_title(f):\n",
    "    next(f)\n",
    "    next(f)\n",
    "    title = next(f)\n",
    "    title = remove_brackets(title.encode().decode('utf-8'))\n",
    "    return title[:-1]\n",
    "\n",
    "def read_para(f):\n",
    "    p = ''\n",
    "    while True:\n",
    "        try:\n",
    "            para = next(f)\n",
    "            para = remove_brackets(para.encode().decode('utf-8'))\n",
    "            p += para\n",
    "        except StopIteration:\n",
    "            break\n",
    "    return p [:-1]"
   ]
  },
  {
   "cell_type": "code",
   "execution_count": 7,
   "metadata": {},
   "outputs": [],
   "source": [
    "#directory = ['/export/livedoor/dokujo-tsushin', '/export/livedoor/it-life-hack']\n",
    "#target_genre = [\"dokujo-tsushin\", \"it-life-hack\"] \n",
    "directory = ['/export/livedoor/dokujo-tsushin', '/export/livedoor/peachy']\n",
    "target_genre = [\"dokujo-tsushin\", \"peachy\"] \n",
    "zero_fnames = []\n",
    "one_fnames = []\n",
    "\n",
    "if os.path.exists(tsv_fname) == True:\n",
    "    with open(tsv_fname, \"r+\") as f:\n",
    "        f.truncate(0)\n",
    "\n",
    "for i in range(2):\n",
    "    for filename in os.listdir(directory[i]):\n",
    "        if \"LICENSE.txt\" in filename:\n",
    "            continue\n",
    "        f = os.path.join(directory[i], filename)\n",
    "#        if os.path.isfile(f):\n",
    "#            print(f)\n",
    "        if target_genre[0] in f and f.endswith(\".txt\"):\n",
    "            with open(tsv_fname, \"a\") as wf:\n",
    "                writer = csv.writer(wf, delimiter='\\t')\n",
    "                with open(f) as zf:\n",
    "                    title = read_title(zf)\n",
    "                    para = read_para(zf)\n",
    "                    row = [target_genre[0], '0', title, para]\n",
    "                    writer.writerow(row)\n",
    "            continue\n",
    "        if target_genre[1] in f and f.endswith(\".txt\"):\n",
    "            with open(tsv_fname, \"a\") as wf:\n",
    "                writer = csv.writer(wf, delimiter='\\t')\n",
    "                with open(f) as zf:\n",
    "                    title = read_title(zf)\n",
    "                    para = read_para(zf)\n",
    "                    row = [target_genre[1], '1', title, para]\n",
    "                    writer.writerow(row)\n",
    "            continue"
   ]
  },
  {
   "cell_type": "markdown",
   "metadata": {
    "id": "MHvN-a5eBOAz"
   },
   "source": [
    "pandasでデータを読み込み"
   ]
  },
  {
   "cell_type": "code",
   "execution_count": 8,
   "metadata": {
    "colab": {
     "base_uri": "https://localhost:8080/",
     "height": 381
    },
    "executionInfo": {
     "elapsed": 31,
     "status": "ok",
     "timestamp": 1661699114833,
     "user": {
      "displayName": "西梓",
      "userId": "09370432736438252128"
     },
     "user_tz": -540
    },
    "id": "ks8ElHxNBLkJ",
    "outputId": "ec1e362f-f5e8-4e46-a292-61b26861585d"
   },
   "outputs": [],
   "source": [
    "import pandas as pd\n",
    "# データの読み込み\n",
    "df = pd.read_csv(\"all_text.tsv\", \n",
    "                 delimiter='\\t', header=None, names=['media_name', 'label','title','sentence'])\n",
    "\n",
    "if articletype == 0:\n",
    "    df_ = pd.read_csv(\"summary_set_dokujo_it.tsv\", \n",
    "                     delimiter='\\t', header=None, names=['summaries'])\n",
    "elif articletype == 0:\n",
    "    df_ = pd.read_csv(\"summary_set_dokujo_peachy.tsv\", \n",
    "                     delimiter='\\t', header=None, names=['summaries'])\n",
    "else:\n",
    "    print('No articles')\n",
    "    exit()\n",
    "# データの確認\n",
    "#print(f'データサイズ： {df.shape}')\n",
    "#print(df_.sample(10))"
   ]
  },
  {
   "cell_type": "markdown",
   "metadata": {
    "id": "5JN4ssEmBWda"
   },
   "source": [
    "//文章データをsentences、ラベルデータを labelsに保存、以降この2変数だけを利用"
   ]
  },
  {
   "cell_type": "code",
   "execution_count": 9,
   "metadata": {},
   "outputs": [],
   "source": [
    "mn = df.media_name.values\n",
    "labels = df.label.values\n",
    "titles = df.title.values\n",
    "sentences = df.sentence.values\n",
    "summaries = df_.summaries.values"
   ]
  },
  {
   "cell_type": "code",
   "execution_count": 10,
   "metadata": {},
   "outputs": [],
   "source": [
    "#print(\"len of summaries:\",len(summaries))"
   ]
  },
  {
   "cell_type": "code",
   "execution_count": 11,
   "metadata": {},
   "outputs": [],
   "source": [
    "tagger = MeCab.Tagger(\"-Owakati\")\n",
    "\n",
    "def make_wakati(sentence):\n",
    "  # MeCabで分かち書きを行う\n",
    "    sentence = tagger.parse(sentence)\n",
    "  # 半角全角英数字などは削除する\n",
    "#    sentence = re.sub(r'[0-9０-９a-zA-Zａ-ｚＡ-Ｚ]+', \" \", sentence)\n",
    "  # 記号なども削除する\n",
    "#    sentence = re.sub(r'[\\．_－―─！＠＃＄％＾＆\\-‐|\\\\＊\\“（）＿■×+α※÷⇒—●★☆〇◎◆▼◇△□(：〜～＋=)／*&^%$#@!~`){}［］…\\[\\]\\\"\\'\\”\\’:;<>?＜＞〔〕〈〉？、。・,\\./『』【】「」→←○《》≪≫\\n\\u3000]+', \"\", sentence)\n",
    "  # スペース区切で形態素の配列に変換する\n",
    "    wakati = sentence.split(\" \")\n",
    "  # 空要素を削除する\n",
    "    wakati = list(filter((\"\").__ne__, wakati))\n",
    "    return wakati"
   ]
  },
  {
   "cell_type": "code",
   "execution_count": 12,
   "metadata": {},
   "outputs": [],
   "source": [
    "wakati_sentences = []\n",
    "\n",
    "for i in range(len(sentences)):\n",
    "    wakati_sentences.append(make_wakati(sentences[i]))"
   ]
  },
  {
   "cell_type": "code",
   "execution_count": 13,
   "metadata": {},
   "outputs": [],
   "source": [
    "wcount = 256\n",
    "\n",
    "h_sentences = []\n",
    "t_sentences = []\n",
    "\n",
    "# wcount moji me kara kesu\n",
    "\n",
    "for i in enumerate(wakati_sentences):\n",
    "    h_len = 0\n",
    "    hn = 0\n",
    "    h_len += len(wakati_sentences[i[0]][0])\n",
    "    while h_len < wcount:\n",
    "        try:\n",
    "            hn += 1\n",
    "            if wakati_sentences[i[0]][hn]:\n",
    "#                print(hn, wakati_sentences[i[0]][hn])\n",
    "                h_len += len(wakati_sentences[i[0]][hn])\n",
    "        except IndexError:\n",
    "            break\n",
    "    h_sentences.append(sentences[i[0]][:hn])\n",
    "    \n",
    "    t_len = 0\n",
    "    tn = 2\n",
    "    t_len += len(wakati_sentences[i[0]][-2])\n",
    "    while t_len < wcount:\n",
    "        try:\n",
    "            tn += 1\n",
    "            if wakati_sentences[i[0]][tn]:\n",
    "#                print(tn, wakati_sentences[i[0]][tn])\n",
    "                t_len += len(wakati_sentences[i[0]][tn])\n",
    "        except IndexError:\n",
    "            break\n",
    "    t_sentences.append(sentences[i[0]][-tn-20:-20])"
   ]
  },
  {
   "cell_type": "code",
   "execution_count": 14,
   "metadata": {},
   "outputs": [],
   "source": [
    "#print(h_sentences[0])"
   ]
  },
  {
   "cell_type": "code",
   "execution_count": 15,
   "metadata": {},
   "outputs": [],
   "source": [
    "hsentences = np.array(h_sentences)\n",
    "tsentences = np.array(t_sentences)"
   ]
  },
  {
   "cell_type": "code",
   "execution_count": 16,
   "metadata": {},
   "outputs": [],
   "source": [
    "ssentences = np.array(summaries)"
   ]
  },
  {
   "cell_type": "code",
   "execution_count": 17,
   "metadata": {},
   "outputs": [],
   "source": [
    "#print(ssentences)"
   ]
  },
  {
   "cell_type": "code",
   "execution_count": 18,
   "metadata": {},
   "outputs": [],
   "source": [
    "#print(np.array(ssentences).shape)"
   ]
  },
  {
   "cell_type": "code",
   "execution_count": 19,
   "metadata": {},
   "outputs": [],
   "source": [
    "#print(tsentences)"
   ]
  },
  {
   "cell_type": "code",
   "execution_count": 20,
   "metadata": {},
   "outputs": [],
   "source": [
    "emp = []\n",
    "asentences = np.append(emp, copy.deepcopy(sentences))\n",
    "ksentences = np.append(emp, copy.deepcopy(sentences))\n",
    "kksentences = np.append(emp, copy.deepcopy(sentences))\n",
    "\n",
    "# wcount moji me kara kesu\n",
    "for i in enumerate(sentences):\n",
    "    if len(i[1])>wcount:\n",
    "        asentences[i[0]] = sentences[i[0]][:wcount]\n",
    "\n",
    "# ushiro kara wcount moji toru\n",
    "for i in enumerate(sentences):\n",
    "    if len(i[1])>wcount:\n",
    "        ksentences[i[0]] = sentences[i[0]][-wcount:]\n",
    "\n",
    "# ushiro kara wcount moji toru ichiban ketsu wa toranai\n",
    "for i in enumerate(sentences):\n",
    "    if len(i[1])>wcount:\n",
    "        am = wcount+20\n",
    "        a = sentences[i[0]][-am:]\n",
    "        kksentences[i[0]] = a[:wcount]"
   ]
  },
  {
   "cell_type": "code",
   "execution_count": 21,
   "metadata": {},
   "outputs": [],
   "source": [
    "#print(ksentences[2])"
   ]
  },
  {
   "cell_type": "code",
   "execution_count": 22,
   "metadata": {},
   "outputs": [],
   "source": [
    "#print(kksentences[2])"
   ]
  },
  {
   "cell_type": "markdown",
   "metadata": {
    "id": "NlNaKoNRBhuo"
   },
   "source": [
    "# BERT Tokenizerを用いて単語分割・IDへ変換\n",
    "## Tokenizerの準備\n",
    "単語分割とIDへ変換"
   ]
  },
  {
   "cell_type": "markdown",
   "metadata": {
    "id": "7ueumK1gF-D2"
   },
   "source": [
    "# テスト実行"
   ]
  },
  {
   "cell_type": "code",
   "execution_count": 23,
   "metadata": {
    "colab": {
     "base_uri": "https://localhost:8080/"
    },
    "executionInfo": {
     "elapsed": 13,
     "status": "ok",
     "timestamp": 1661699115434,
     "user": {
      "displayName": "西梓",
      "userId": "09370432736438252128"
     },
     "user_tz": -540
    },
    "id": "9k0mj33mGD0I",
    "outputId": "9b3f3369-617c-4706-bbd7-7a9d1d0bb7ab"
   },
   "outputs": [],
   "source": [
    "# 最大単語数の確認\n",
    "max_len = []\n",
    "# 1文づつ処理\n",
    "for sent in hsentences:\n",
    "    # Tokenizeで分割\n",
    "    h_token_words = tokenizer.tokenize(sent)\n",
    "    # 文章数を取得してリストへ格納\n",
    "    max_len.append(len(h_token_words))\n",
    "for sent in tsentences:\n",
    "    # Tokenizeで分割\n",
    "    t_token_words = tokenizer.tokenize(sent)\n",
    "    # 文章数を取得してリストへ格納\n",
    "    max_len.append(len(t_token_words))\n",
    "# 最大の値を確認\n",
    "#print('最大単語数: ', max(max_len))\n",
    "#print('上記の最大単語数にSpecial token（[CLS], [SEP]）の+2をした値が最大単語数')"
   ]
  },
  {
   "cell_type": "code",
   "execution_count": 24,
   "metadata": {},
   "outputs": [],
   "source": [
    "def dicttoken(sentence):\n",
    "    ids = []\n",
    "    masks = []\n",
    "    for sent in sentences:\n",
    "        dict = tokenizer.encode_plus(\n",
    "                sent,                      \n",
    "                add_special_tokens = True, # Special Tokenの追加\n",
    "                max_length = wcount+2,  # I think maximum 文章の長さを固定（Padding/Trancatinating）\n",
    "                truncation=True,                \n",
    "                pad_to_max_length = True,# PADDINGで埋める\n",
    "                return_attention_mask = True,   # Attention maksの作成\n",
    "                return_tensors = 'pt'     #  Pytorch tensorsで返す\n",
    "            )\n",
    "        ids.append(dict['input_ids'])\n",
    "        masks.append(dict['attention_mask'])\n",
    "    return ids, masks"
   ]
  },
  {
   "cell_type": "code",
   "execution_count": 25,
   "metadata": {
    "colab": {
     "base_uri": "https://localhost:8080/"
    },
    "executionInfo": {
     "elapsed": 540,
     "status": "ok",
     "timestamp": 1661699115966,
     "user": {
      "displayName": "西梓",
      "userId": "09370432736438252128"
     },
     "user_tz": -540
    },
    "id": "-xsginzEGHf5",
    "outputId": "6bf49efd-8a7d-452a-f16a-dd73d5f27b8b",
    "scrolled": true
   },
   "outputs": [],
   "source": [
    "h_input_ids, h_attention_masks = dicttoken(hsentences)\n",
    "t_input_ids, t_attention_masks = dicttoken(tsentences)\n",
    "a_input_ids, a_attention_masks = dicttoken(asentences)\n",
    "k_input_ids, k_attention_masks = dicttoken(ksentences)\n",
    "kk_input_ids, kk_attention_masks = dicttoken(kksentences)\n",
    "s_input_ids, s_attention_masks = dicttoken(ssentences)"
   ]
  },
  {
   "cell_type": "code",
   "execution_count": 26,
   "metadata": {},
   "outputs": [],
   "source": [
    "# リストに入ったtensorを縦方向（dim=0）へ結合\n",
    "h_input_ids = torch.cat(h_input_ids, dim=0)\n",
    "t_input_ids = torch.cat(t_input_ids, dim=0)\n",
    "a_input_ids = torch.cat(a_input_ids, dim=0)\n",
    "k_input_ids = torch.cat(k_input_ids, dim=0)\n",
    "kk_input_ids = torch.cat(kk_input_ids, dim=0)\n",
    "s_input_ids = torch.cat(s_input_ids, dim=0)\n",
    "h_attention_masks = torch.cat(h_attention_masks, dim=0)\n",
    "t_attention_masks = torch.cat(t_attention_masks, dim=0)\n",
    "a_attention_masks = torch.cat(a_attention_masks, dim=0)\n",
    "k_attention_masks = torch.cat(k_attention_masks, dim=0)\n",
    "kk_attention_masks = torch.cat(kk_attention_masks, dim=0)\n",
    "s_attention_masks = torch.cat(s_attention_masks, dim=0)\n",
    "\n",
    "# tenosor型に変換\n",
    "labels = torch.tensor(labels)"
   ]
  },
  {
   "cell_type": "code",
   "execution_count": 27,
   "metadata": {},
   "outputs": [
    {
     "data": {
      "text/plain": [
       "\"\\nprint('Original: ', hsentences[0])\\nprint('Original: ', ssentences[0])\\nprint('Token IDs:', s_input_ids[0])\\nprint(type(labels), labels)\\nprint('head')\\nprint(torch.Tensor.size(h_input_ids))\\nprint(torch.Tensor.size(h_attention_masks))\\nprint('summary')\\nprint(torch.Tensor.size(s_input_ids))\\nprint(torch.Tensor.size(s_attention_masks))\\nprint(torch.Tensor.size(labels))\\nprint(ssentences.size)\\n\""
      ]
     },
     "execution_count": 27,
     "metadata": {},
     "output_type": "execute_result"
    }
   ],
   "source": [
    "# 確認\n",
    "'''\n",
    "print('Original: ', hsentences[0])\n",
    "print('Original: ', ssentences[0])\n",
    "print('Token IDs:', s_input_ids[0])\n",
    "print(type(labels), labels)\n",
    "print('head')\n",
    "print(torch.Tensor.size(h_input_ids))\n",
    "print(torch.Tensor.size(h_attention_masks))\n",
    "print('summary')\n",
    "print(torch.Tensor.size(s_input_ids))\n",
    "print(torch.Tensor.size(s_attention_masks))\n",
    "print(torch.Tensor.size(labels))\n",
    "print(ssentences.size)\n",
    "'''"
   ]
  },
  {
   "cell_type": "code",
   "execution_count": 28,
   "metadata": {
    "colab": {
     "base_uri": "https://localhost:8080/"
    },
    "executionInfo": {
     "elapsed": 19,
     "status": "ok",
     "timestamp": 1661699115968,
     "user": {
      "displayName": "西梓",
      "userId": "09370432736438252128"
     },
     "user_tz": -540
    },
    "id": "uX3Hz3YNGKhH",
    "outputId": "bcba9374-dc24-4067-f46c-fa3d6343511c"
   },
   "outputs": [],
   "source": [
    "from torch.utils.data import TensorDataset, random_split\n",
    "from torch.utils.data import DataLoader, RandomSampler, SequentialSampler\n",
    "from torchvision import transforms, datasets\n",
    "from transformers import RobertaForMaskedLM\n",
    "\n",
    "# データセットクラスの作成\n",
    "# dataset = TensorDataset(h_input_ids, h_attention_masks, labels)\n",
    "hdataset = TensorDataset(h_input_ids, h_attention_masks, labels)\n",
    "tdataset = TensorDataset(t_input_ids, t_attention_masks, labels)\n",
    "adataset = TensorDataset(a_input_ids, a_attention_masks, labels)\n",
    "kdataset = TensorDataset(k_input_ids, k_attention_masks, labels)\n",
    "kkdataset = TensorDataset(kk_input_ids, kk_attention_masks, labels)\n",
    "sdataset = TensorDataset(s_input_ids, s_attention_masks, labels)"
   ]
  },
  {
   "cell_type": "code",
   "execution_count": 29,
   "metadata": {},
   "outputs": [
    {
     "data": {
      "text/plain": [
       "torch.Tensor"
      ]
     },
     "execution_count": 29,
     "metadata": {},
     "output_type": "execute_result"
    }
   ],
   "source": [
    "type(hdataset[0][0])"
   ]
  },
  {
   "cell_type": "code",
   "execution_count": 30,
   "metadata": {},
   "outputs": [],
   "source": [
    "num_dataset = len(hdataset)\n",
    "#train_size = int(0.1 * num_dataset)\n",
    "#val_size = num_dataset - train_size\n",
    "\n",
    "train_size = numof_learn\n",
    "val_size = len(hdataset) - train_size\n",
    "\n",
    "#print('訓練データ数:{}'.format(train_size))\n",
    "#print('検証データ数:{}'.format(val_size))"
   ]
  },
  {
   "cell_type": "code",
   "execution_count": 31,
   "metadata": {},
   "outputs": [],
   "source": [
    "# データローダーの作成\n",
    "transformmethods = []\n",
    "if 'r' in transformflags:\n",
    "    transformmethods.append(synreplace(1))\n",
    "#    print(\"synreplace\")\n",
    "if 'i' in transformflags:\n",
    "    transformmethods.append(randinsert(3))\n",
    "#    print(\"randinsert\")\n",
    "if 'd' in transformflags:\n",
    "    transformmethods.append(randdelete(0.15))\n",
    "#    print(\"randdelete\")\n",
    "if 's' in transformflags:\n",
    "    transformmethods.append(randswap(2))\n",
    "#    print(\"randswap\")\n",
    "data_transform = transforms.Compose(transformmethods)\n",
    "\n",
    "class MySubset(torch.utils.data.Dataset):\n",
    "    def __init__(self, dataset, indices, transform=None):\n",
    "        self.dataset = dataset\n",
    "        self.indices = indices\n",
    "        self.transform = transform\n",
    "\n",
    "    def __getitem__(self, idx):\n",
    "        xa, mask, label = self.dataset[self.indices[idx]]\n",
    "#        if self.transform:\n",
    "#            xa = self.transform(xa)\n",
    "        return xa, mask, label\n",
    "\n",
    "    def __len__(self):\n",
    "        return len(self.indices)\n",
    "    \n",
    "indices = np.random.choice(num_dataset, num_dataset, replace=False)\n",
    "\n",
    "# データセットを分割\n",
    "# http://localhost:8888/notebooks/bert-zuco/augmentation/BERTclassification-mydata-local-augmentation-aug.ipynb\n",
    "h_train_dataset, h_val_dataset = random_split(hdataset, [train_size, val_size])\n",
    "t_train_dataset, t_val_dataset = random_split(tdataset, [train_size, val_size])\n",
    "a_train_dataset, a_val_dataset = random_split(adataset, [train_size, val_size])\n",
    "k_train_dataset, k_val_dataset = random_split(kdataset, [train_size, val_size])\n",
    "kk_train_dataset, kk_val_dataset = random_split(kkdataset, [train_size, val_size])\n",
    "s_train_dataset, s_val_dataset = random_split(sdataset, [train_size, val_size])\n",
    "\n",
    "h_train_dataset = MySubset(hdataset, indices[:train_size], data_transform)\n",
    "h_val_dataset = MySubset(hdataset, indices[train_size:])\n",
    "t_train_dataset = MySubset(tdataset, indices[:train_size], data_transform)\n",
    "t_val_dataset = MySubset(tdataset, indices[train_size:])\n",
    "a_train_dataset = MySubset(adataset, indices[:train_size], data_transform)\n",
    "a_val_dataset = MySubset(adataset, indices[train_size:])\n",
    "k_train_dataset = MySubset(kdataset, indices[:train_size], data_transform)\n",
    "k_val_dataset = MySubset(kdataset, indices[train_size:])\n",
    "kk_train_dataset = MySubset(kkdataset, indices[:train_size], data_transform)\n",
    "kk_val_dataset = MySubset(kkdataset, indices[train_size:])\n",
    "s_train_dataset = MySubset(sdataset, indices[:train_size], data_transform)\n",
    "s_val_dataset = MySubset(sdataset, indices[train_size:])"
   ]
  },
  {
   "cell_type": "code",
   "execution_count": 32,
   "metadata": {},
   "outputs": [],
   "source": [
    "# 訓練データローダー\n",
    "# shuffle True/False to compare or not\n",
    "# wakati head\n",
    "h_train_dataloader = DataLoader(\n",
    "            h_train_dataset, batch_size = batch_size, shuffle = True, num_workers=8)\n",
    "# wakati tail\n",
    "t_train_dataloader = DataLoader(\n",
    "            t_train_dataset, batch_size = batch_size, shuffle = True, num_workers=8)\n",
    "# letters atama\n",
    "a_train_dataloader = DataLoader(\n",
    "            a_train_dataset, batch_size = batch_size, shuffle = True, num_workers=8)\n",
    "#letters ketsu\n",
    "k_train_dataloader = DataLoader(\n",
    "            k_train_dataset, batch_size = batch_size, shuffle = True, num_workers=8)\n",
    "# letters ketsu -10\n",
    "kk_train_dataloader = DataLoader(\n",
    "            kk_train_dataset, batch_size = batch_size, shuffle = True, num_workers=8)\n",
    "# summary\n",
    "s_train_dataloader = DataLoader(\n",
    "            s_train_dataset, batch_size = batch_size, shuffle = True, num_workers=8)\n",
    "\n",
    "# 検証データローダー\n",
    "h_validation_dataloader = DataLoader(\n",
    "            h_val_dataset, batch_size = 1, shuffle = False, num_workers = 8)\n",
    "t_validation_dataloader = DataLoader(\n",
    "            t_val_dataset, batch_size = 1, shuffle = False, num_workers = 8)\n",
    "a_validation_dataloader = DataLoader(\n",
    "            a_val_dataset, batch_size = 1, shuffle = False, num_workers = 8)\n",
    "k_validation_dataloader = DataLoader(\n",
    "            k_val_dataset, batch_size = 1, shuffle = False, num_workers = 8)\n",
    "kk_validation_dataloader = DataLoader(\n",
    "            kk_val_dataset, batch_size = 1, shuffle = False, num_workers = 8)\n",
    "s_validation_dataloader = DataLoader(\n",
    "            s_val_dataset, batch_size = 1, shuffle = False, num_workers = 8)"
   ]
  },
  {
   "cell_type": "code",
   "execution_count": 33,
   "metadata": {
    "colab": {
     "base_uri": "https://localhost:8080/",
     "height": 1000,
     "referenced_widgets": [
      "9929328cf8d246d2b5be77a5fca18c0f",
      "7ce3a9778e6841e38f6bb2c3d8cfe9b8",
      "8988d5fad2d14b9b97cd311e99093641",
      "e72ccacac3434f939cd0e4adfb3bcc4d",
      "a9503913e9204c7994b76af2f3fd7d3a",
      "105e552bd7bd468f976e099cbe7c74cf",
      "fe1020e5f4eb483fa3fce57764a2508c",
      "9bb08df9e5004f5da8678c2fd10c8eb2",
      "887ca9f3ec9247c4b402bc72745aad0d",
      "50d37681841a449094298dcb52ff9059",
      "9f37d02a0ba944dc9633a68d71891f87",
      "a93d3d99fab445ea80248bd9ae7b0d60",
      "fa68d1e07ae94cd2824d767335a63c64",
      "f69e8de282434b9aa8a457a73593d080",
      "1ed1c48157da42b7bc8719879f3c13c8",
      "7093eae4a1e94e7fbc341564be6a727c",
      "e13d9164a1a6418b87f8fc9f2f5d10eb",
      "c7b849cdaf324e108283b9930d31ec7e",
      "a6e9829602e047f5ab93e3dfb66195cb",
      "baa09b17fcba4d8593e8155907a72c31",
      "7481c5bc470c42cf8ef6d38b69c4ce8a",
      "240f4e1960d44c189adf177c9eb4a17e"
     ]
    },
    "executionInfo": {
     "elapsed": 28456,
     "status": "ok",
     "timestamp": 1661699144410,
     "user": {
      "displayName": "西梓",
      "userId": "09370432736438252128"
     },
     "user_tz": -540
    },
    "id": "tXUhEdWTGPRs",
    "outputId": "f525692a-ffa0-49cf-a54c-0f91707721b0"
   },
   "outputs": [],
   "source": [
    "from transformers import BertForSequenceClassification,AdamW,BertConfig\n",
    "\n",
    "# BertForSequenceClassification 学習済みモデルのロード\n",
    "def loadmodel():\n",
    "    model = BertForSequenceClassification.from_pretrained(\n",
    "        \"cl-tohoku/bert-base-japanese-whole-word-masking\", # 日本語Pre trainedモデルの指定\n",
    "        num_labels = 2, # ラベル数（今回はBinaryなので2、数値を増やせばマルチラベルも対応可）\n",
    "        output_attentions = False, # アテンションベクトルを出力するか\n",
    "        output_hidden_states = False, # 隠れ層を出力するか\n",
    "    ).to(device)\n",
    "    # 最適化手法の設定\n",
    "    optimizer = AdamW(model.parameters(), lr=2e-5)\n",
    "    return model, optimizer"
   ]
  },
  {
   "cell_type": "code",
   "execution_count": 34,
   "metadata": {},
   "outputs": [],
   "source": [
    "alloutputs = []\n",
    "\n",
    "def train(model, optimizer, dataloader):\n",
    "    model.train() # 訓練モードで実行\n",
    "    train_loss = 0\n",
    "    for batch in dataloader:# train_dataloaderはword_id, mask, labelを出力する点に注意\n",
    "        b_input_ids = batch[0].to(device)\n",
    "        b_input_mask = batch[1].to(device)\n",
    "        b_labels = batch[2].to(device)\n",
    "        optimizer.zero_grad()\n",
    "        output = model(b_input_ids, \n",
    "                             token_type_ids=None, \n",
    "                             attention_mask=b_input_mask, \n",
    "                             labels=b_labels)\n",
    "        loss = output.loss\n",
    "        loss.backward()\n",
    "        torch.nn.utils.clip_grad_norm_(model.parameters(), 1.0)\n",
    "        optimizer.step()\n",
    "        train_loss += loss.item()\n",
    "#                print(output)\n",
    "#                print(output['logits'])\n",
    "        alloutputs.append(output['logits'].to('cpu'))\n",
    "    return train_loss, alloutputs\n",
    "\n",
    "def validation(model, dataloader):\n",
    "    model.eval()# 訓練モードをオフ\n",
    "    val_loss = 0\n",
    "    alloutputs = []\n",
    "    with torch.no_grad(): # 勾配を計算しない\n",
    "        for batch in dataloader:\n",
    "            b_input_ids = batch[0].to(device)\n",
    "            b_input_mask = batch[1].to(device)\n",
    "            b_labels = batch[2].to(device)\n",
    "            with torch.no_grad():        \n",
    "                (loss, logits) = model(b_input_ids, \n",
    "                                    token_type_ids=None, \n",
    "                                    attention_mask=b_input_mask,\n",
    "                                    labels=b_labels)\n",
    "            output = model(b_input_ids, \n",
    "                             token_type_ids=None, \n",
    "                             attention_mask=b_input_mask, \n",
    "                             labels=b_labels)\n",
    "            loss = output.loss\n",
    "            val_loss += loss.item()\n",
    "            alloutputs.append(output['logits'].to('cpu'))\n",
    "    return val_loss, alloutputs"
   ]
  },
  {
   "cell_type": "code",
   "execution_count": 35,
   "metadata": {
    "id": "iPwWkV3HJtaG"
   },
   "outputs": [],
   "source": [
    "# 学習の実行\n",
    "t_train_loss_ = []\n",
    "t_test_loss_ = []\n",
    "h_train_loss_ = []\n",
    "h_test_loss_ = []\n",
    "a_train_loss_ = []\n",
    "a_test_loss_ = []\n",
    "k_train_loss_ = []\n",
    "k_test_loss_ = []\n",
    "kk_train_loss_ = []\n",
    "kk_test_loss_ = []\n",
    "s_train_loss_ = []\n",
    "s_test_loss_ = []\n",
    "\n",
    "h_train_loss = 0\n",
    "t_train_loss = 0\n",
    "a_train_loss = 0\n",
    "k_train_loss = 0\n",
    "kk_train_loss = 0\n",
    "s_train_loss = 0"
   ]
  },
  {
   "cell_type": "code",
   "execution_count": 36,
   "metadata": {},
   "outputs": [
    {
     "name": "stderr",
     "output_type": "stream",
     "text": [
<<<<<<< HEAD
      "Some weights of the model checkpoint at cl-tohoku/bert-base-japanese-whole-word-masking were not used when initializing BertForSequenceClassification: ['cls.predictions.transform.LayerNorm.bias', 'cls.predictions.transform.LayerNorm.weight', 'cls.predictions.bias', 'cls.seq_relationship.bias', 'cls.predictions.decoder.weight', 'cls.seq_relationship.weight', 'cls.predictions.transform.dense.bias', 'cls.predictions.transform.dense.weight']\n",
=======
      "Some weights of the model checkpoint at cl-tohoku/bert-base-japanese-whole-word-masking were not used when initializing BertForSequenceClassification: ['cls.predictions.transform.LayerNorm.weight', 'cls.seq_relationship.weight', 'cls.predictions.transform.dense.bias', 'cls.predictions.transform.LayerNorm.bias', 'cls.seq_relationship.bias', 'cls.predictions.bias', 'cls.predictions.decoder.weight', 'cls.predictions.transform.dense.weight']\n",
>>>>>>> refs/remotes/origin/main
      "- This IS expected if you are initializing BertForSequenceClassification from the checkpoint of a model trained on another task or with another architecture (e.g. initializing a BertForSequenceClassification model from a BertForPreTraining model).\n",
      "- This IS NOT expected if you are initializing BertForSequenceClassification from the checkpoint of a model that you expect to be exactly identical (initializing a BertForSequenceClassification model from a BertForSequenceClassification model).\n",
      "Some weights of BertForSequenceClassification were not initialized from the model checkpoint at cl-tohoku/bert-base-japanese-whole-word-masking and are newly initialized: ['classifier.bias', 'classifier.weight']\n",
      "You should probably TRAIN this model on a down-stream task to be able to use it for predictions and inference.\n"
     ]
    }
   ],
   "source": [
    "model, optimizer = loadmodel()\n",
    "for epoch in range(max_epoch):\n",
    "    h_train_ = train(model, optimizer,  h_train_dataloader)\n",
    "    h_train_loss_.append(h_train_)\n",
    "#    if epoch%10 == 0:\n",
    "#        print('epoch: ', epoch)\n",
    "h_test_loss_ = validation(model, h_validation_dataloader)"
   ]
  },
  {
   "cell_type": "code",
   "execution_count": 37,
   "metadata": {},
   "outputs": [
    {
     "name": "stderr",
     "output_type": "stream",
     "text": [
<<<<<<< HEAD
      "Some weights of the model checkpoint at cl-tohoku/bert-base-japanese-whole-word-masking were not used when initializing BertForSequenceClassification: ['cls.predictions.transform.LayerNorm.bias', 'cls.predictions.transform.LayerNorm.weight', 'cls.predictions.bias', 'cls.seq_relationship.bias', 'cls.predictions.decoder.weight', 'cls.seq_relationship.weight', 'cls.predictions.transform.dense.bias', 'cls.predictions.transform.dense.weight']\n",
=======
      "Some weights of the model checkpoint at cl-tohoku/bert-base-japanese-whole-word-masking were not used when initializing BertForSequenceClassification: ['cls.predictions.transform.LayerNorm.weight', 'cls.seq_relationship.weight', 'cls.predictions.transform.dense.bias', 'cls.predictions.transform.LayerNorm.bias', 'cls.seq_relationship.bias', 'cls.predictions.bias', 'cls.predictions.decoder.weight', 'cls.predictions.transform.dense.weight']\n",
>>>>>>> refs/remotes/origin/main
      "- This IS expected if you are initializing BertForSequenceClassification from the checkpoint of a model trained on another task or with another architecture (e.g. initializing a BertForSequenceClassification model from a BertForPreTraining model).\n",
      "- This IS NOT expected if you are initializing BertForSequenceClassification from the checkpoint of a model that you expect to be exactly identical (initializing a BertForSequenceClassification model from a BertForSequenceClassification model).\n",
      "Some weights of BertForSequenceClassification were not initialized from the model checkpoint at cl-tohoku/bert-base-japanese-whole-word-masking and are newly initialized: ['classifier.bias', 'classifier.weight']\n",
      "You should probably TRAIN this model on a down-stream task to be able to use it for predictions and inference.\n"
     ]
    }
   ],
   "source": [
    "model, optimizer = loadmodel()\n",
    "for epoch in range(max_epoch):\n",
    "    t_train_ = train(model, optimizer,  t_train_dataloader)\n",
    "    t_train_loss_.append(t_train_)\n",
    "#    if epoch%10 == 0:\n",
    "#        print('epoch: ', epoch)\n",
    "t_test_loss_ = validation(model, t_validation_dataloader)"
   ]
  },
  {
   "cell_type": "code",
   "execution_count": 38,
   "metadata": {},
   "outputs": [
    {
     "name": "stderr",
     "output_type": "stream",
     "text": [
<<<<<<< HEAD
      "Some weights of the model checkpoint at cl-tohoku/bert-base-japanese-whole-word-masking were not used when initializing BertForSequenceClassification: ['cls.predictions.transform.LayerNorm.bias', 'cls.predictions.transform.LayerNorm.weight', 'cls.predictions.bias', 'cls.seq_relationship.bias', 'cls.predictions.decoder.weight', 'cls.seq_relationship.weight', 'cls.predictions.transform.dense.bias', 'cls.predictions.transform.dense.weight']\n",
=======
      "Some weights of the model checkpoint at cl-tohoku/bert-base-japanese-whole-word-masking were not used when initializing BertForSequenceClassification: ['cls.predictions.transform.LayerNorm.weight', 'cls.seq_relationship.weight', 'cls.predictions.transform.dense.bias', 'cls.predictions.transform.LayerNorm.bias', 'cls.seq_relationship.bias', 'cls.predictions.bias', 'cls.predictions.decoder.weight', 'cls.predictions.transform.dense.weight']\n",
>>>>>>> refs/remotes/origin/main
      "- This IS expected if you are initializing BertForSequenceClassification from the checkpoint of a model trained on another task or with another architecture (e.g. initializing a BertForSequenceClassification model from a BertForPreTraining model).\n",
      "- This IS NOT expected if you are initializing BertForSequenceClassification from the checkpoint of a model that you expect to be exactly identical (initializing a BertForSequenceClassification model from a BertForSequenceClassification model).\n",
      "Some weights of BertForSequenceClassification were not initialized from the model checkpoint at cl-tohoku/bert-base-japanese-whole-word-masking and are newly initialized: ['classifier.bias', 'classifier.weight']\n",
      "You should probably TRAIN this model on a down-stream task to be able to use it for predictions and inference.\n"
     ]
    }
   ],
   "source": [
    "model, optimizer = loadmodel()\n",
    "for epoch in range(max_epoch):\n",
    "    a_train_ = train(model, optimizer,  a_train_dataloader)\n",
    "    a_train_loss_.append(a_train_)\n",
    "#    if epoch%10 == 0:\n",
    "#        print('epoch: ', epoch)\n",
    "a_test_loss_ = validation(model, a_validation_dataloader)"
   ]
  },
  {
   "cell_type": "code",
   "execution_count": 39,
   "metadata": {},
   "outputs": [
    {
     "name": "stderr",
     "output_type": "stream",
     "text": [
<<<<<<< HEAD
      "Some weights of the model checkpoint at cl-tohoku/bert-base-japanese-whole-word-masking were not used when initializing BertForSequenceClassification: ['cls.predictions.transform.LayerNorm.bias', 'cls.predictions.transform.LayerNorm.weight', 'cls.predictions.bias', 'cls.seq_relationship.bias', 'cls.predictions.decoder.weight', 'cls.seq_relationship.weight', 'cls.predictions.transform.dense.bias', 'cls.predictions.transform.dense.weight']\n",
=======
      "Some weights of the model checkpoint at cl-tohoku/bert-base-japanese-whole-word-masking were not used when initializing BertForSequenceClassification: ['cls.predictions.transform.LayerNorm.weight', 'cls.seq_relationship.weight', 'cls.predictions.transform.dense.bias', 'cls.predictions.transform.LayerNorm.bias', 'cls.seq_relationship.bias', 'cls.predictions.bias', 'cls.predictions.decoder.weight', 'cls.predictions.transform.dense.weight']\n",
>>>>>>> refs/remotes/origin/main
      "- This IS expected if you are initializing BertForSequenceClassification from the checkpoint of a model trained on another task or with another architecture (e.g. initializing a BertForSequenceClassification model from a BertForPreTraining model).\n",
      "- This IS NOT expected if you are initializing BertForSequenceClassification from the checkpoint of a model that you expect to be exactly identical (initializing a BertForSequenceClassification model from a BertForSequenceClassification model).\n",
      "Some weights of BertForSequenceClassification were not initialized from the model checkpoint at cl-tohoku/bert-base-japanese-whole-word-masking and are newly initialized: ['classifier.bias', 'classifier.weight']\n",
      "You should probably TRAIN this model on a down-stream task to be able to use it for predictions and inference.\n"
     ]
    }
   ],
   "source": [
    "model, optimizer = loadmodel()\n",
    "for epoch in range(max_epoch):\n",
    "    k_train_ = train(model, optimizer,  k_train_dataloader)\n",
    "    k_train_loss_.append(k_train_)\n",
    "#    if epoch%10 == 0:\n",
    "#        print('epoch: ', epoch)\n",
    "k_test_loss_ = validation(model, k_validation_dataloader)"
   ]
  },
  {
   "cell_type": "code",
   "execution_count": 40,
   "metadata": {},
   "outputs": [
    {
     "name": "stderr",
     "output_type": "stream",
     "text": [
<<<<<<< HEAD
      "Some weights of the model checkpoint at cl-tohoku/bert-base-japanese-whole-word-masking were not used when initializing BertForSequenceClassification: ['cls.predictions.transform.LayerNorm.bias', 'cls.predictions.transform.LayerNorm.weight', 'cls.predictions.bias', 'cls.seq_relationship.bias', 'cls.predictions.decoder.weight', 'cls.seq_relationship.weight', 'cls.predictions.transform.dense.bias', 'cls.predictions.transform.dense.weight']\n",
=======
      "Some weights of the model checkpoint at cl-tohoku/bert-base-japanese-whole-word-masking were not used when initializing BertForSequenceClassification: ['cls.predictions.transform.LayerNorm.weight', 'cls.seq_relationship.weight', 'cls.predictions.transform.dense.bias', 'cls.predictions.transform.LayerNorm.bias', 'cls.seq_relationship.bias', 'cls.predictions.bias', 'cls.predictions.decoder.weight', 'cls.predictions.transform.dense.weight']\n",
>>>>>>> refs/remotes/origin/main
      "- This IS expected if you are initializing BertForSequenceClassification from the checkpoint of a model trained on another task or with another architecture (e.g. initializing a BertForSequenceClassification model from a BertForPreTraining model).\n",
      "- This IS NOT expected if you are initializing BertForSequenceClassification from the checkpoint of a model that you expect to be exactly identical (initializing a BertForSequenceClassification model from a BertForSequenceClassification model).\n",
      "Some weights of BertForSequenceClassification were not initialized from the model checkpoint at cl-tohoku/bert-base-japanese-whole-word-masking and are newly initialized: ['classifier.bias', 'classifier.weight']\n",
      "You should probably TRAIN this model on a down-stream task to be able to use it for predictions and inference.\n"
     ]
    }
   ],
   "source": [
    "model, optimizer = loadmodel()\n",
    "for epoch in range(max_epoch):\n",
    "    kk_train_ = train(model, optimizer,  kk_train_dataloader)\n",
    "    kk_train_loss_.append(kk_train_)\n",
    "#    if epoch%10 == 0:\n",
    "#        print('epoch: ', epoch)\n",
    "kk_test_loss_ = validation(model, kk_validation_dataloader)"
   ]
  },
  {
   "cell_type": "code",
   "execution_count": 41,
   "metadata": {},
   "outputs": [
    {
     "name": "stderr",
     "output_type": "stream",
     "text": [
<<<<<<< HEAD
      "Some weights of the model checkpoint at cl-tohoku/bert-base-japanese-whole-word-masking were not used when initializing BertForSequenceClassification: ['cls.predictions.transform.LayerNorm.bias', 'cls.predictions.transform.LayerNorm.weight', 'cls.predictions.bias', 'cls.seq_relationship.bias', 'cls.predictions.decoder.weight', 'cls.seq_relationship.weight', 'cls.predictions.transform.dense.bias', 'cls.predictions.transform.dense.weight']\n",
=======
      "Some weights of the model checkpoint at cl-tohoku/bert-base-japanese-whole-word-masking were not used when initializing BertForSequenceClassification: ['cls.predictions.transform.LayerNorm.weight', 'cls.seq_relationship.weight', 'cls.predictions.transform.dense.bias', 'cls.predictions.transform.LayerNorm.bias', 'cls.seq_relationship.bias', 'cls.predictions.bias', 'cls.predictions.decoder.weight', 'cls.predictions.transform.dense.weight']\n",
>>>>>>> refs/remotes/origin/main
      "- This IS expected if you are initializing BertForSequenceClassification from the checkpoint of a model trained on another task or with another architecture (e.g. initializing a BertForSequenceClassification model from a BertForPreTraining model).\n",
      "- This IS NOT expected if you are initializing BertForSequenceClassification from the checkpoint of a model that you expect to be exactly identical (initializing a BertForSequenceClassification model from a BertForSequenceClassification model).\n",
      "Some weights of BertForSequenceClassification were not initialized from the model checkpoint at cl-tohoku/bert-base-japanese-whole-word-masking and are newly initialized: ['classifier.bias', 'classifier.weight']\n",
      "You should probably TRAIN this model on a down-stream task to be able to use it for predictions and inference.\n"
     ]
    }
   ],
   "source": [
    "model, optimizer = loadmodel()\n",
    "for epoch in range(max_epoch):\n",
    "    s_train_ = train(model, optimizer,  s_train_dataloader)\n",
    "    s_train_loss_.append(s_train_)\n",
    "#    if epoch%10 == 0:\n",
    "#        print('epoch: ', epoch)\n",
    "s_test_loss_ = validation(model, s_validation_dataloader)"
   ]
  },
  {
   "cell_type": "code",
   "execution_count": 42,
   "metadata": {},
   "outputs": [],
   "source": [
    "sents = []\n",
    "\n",
    "for i in range(df.shape[0]):\n",
    "    sents.append(tokenizer.convert_tokens_to_ids(tokenizer.tokenize(sentences[i])))\n",
    "\n",
    "#print(sents)\n",
    "sents = pd.DataFrame(sents)\n",
    "#print(type(sents))"
   ]
  },
  {
   "cell_type": "markdown",
   "metadata": {},
   "source": [
    "# type soroete X train test Y train test wo kaizan suru"
   ]
  },
  {
   "cell_type": "code",
   "execution_count": 43,
   "metadata": {},
   "outputs": [],
   "source": [
    "h_pred_ = []\n",
    "t_pred_ = []\n",
    "a_pred_ = []\n",
    "k_pred_ = []\n",
    "kk_pred_ = []\n",
    "s_pred_ = []\n",
    "\n",
    "for i in range(len(h_test_loss_[1])):\n",
    "    h_pred_.append(np.argmax(np.array(h_test_loss_[1][i])))\n",
    "    t_pred_.append(np.argmax(np.array(t_test_loss_[1][i])))\n",
    "    a_pred_.append(np.argmax(np.array(a_test_loss_[1][i])))\n",
    "    k_pred_.append(np.argmax(np.array(k_test_loss_[1][i])))\n",
    "    kk_pred_.append(np.argmax(np.array(kk_test_loss_[1][i])))\n",
    "    s_pred_.append(np.argmax(np.array(s_test_loss_[1][i])))"
   ]
  },
  {
   "cell_type": "code",
   "execution_count": 44,
   "metadata": {},
   "outputs": [],
   "source": [
    "vlabel = []\n",
    "for _,_,label in h_validation_dataloader:\n",
    "    # preventing Too many open files Error\n",
    "    vlabel.append(copy.deepcopy(label.detach().numpy()))"
   ]
  },
  {
   "cell_type": "code",
   "execution_count": 45,
   "metadata": {},
   "outputs": [
    {
     "data": {
      "text/html": [
       "<div>\n",
       "<style scoped>\n",
       "    .dataframe tbody tr th:only-of-type {\n",
       "        vertical-align: middle;\n",
       "    }\n",
       "\n",
       "    .dataframe tbody tr th {\n",
       "        vertical-align: top;\n",
       "    }\n",
       "\n",
       "    .dataframe thead th {\n",
       "        text-align: right;\n",
       "    }\n",
       "</style>\n",
       "<table border=\"1\" class=\"dataframe\">\n",
       "  <thead>\n",
       "    <tr style=\"text-align: right;\">\n",
       "      <th></th>\n",
       "      <th>h_pred_label</th>\n",
       "      <th>t_pred_label</th>\n",
       "      <th>a_pred_label</th>\n",
       "      <th>k_pred_label</th>\n",
       "      <th>kk_pred_label</th>\n",
       "      <th>s_pred_label</th>\n",
       "      <th>true_label</th>\n",
       "    </tr>\n",
       "  </thead>\n",
       "  <tbody>\n",
       "    <tr>\n",
       "      <th>0</th>\n",
<<<<<<< HEAD
       "      <td>1</td>\n",
       "      <td>1</td>\n",
       "      <td>0</td>\n",
       "      <td>1</td>\n",
       "      <td>1</td>\n",
       "      <td>1</td>\n",
       "      <td>1</td>\n",
=======
       "      <td>0</td>\n",
       "      <td>0</td>\n",
       "      <td>0</td>\n",
       "      <td>0</td>\n",
       "      <td>0</td>\n",
       "      <td>1</td>\n",
       "      <td>0</td>\n",
>>>>>>> refs/remotes/origin/main
       "    </tr>\n",
       "    <tr>\n",
       "      <th>1</th>\n",
       "      <td>0</td>\n",
<<<<<<< HEAD
       "      <td>1</td>\n",
       "      <td>1</td>\n",
       "      <td>1</td>\n",
       "      <td>1</td>\n",
       "      <td>1</td>\n",
       "      <td>1</td>\n",
=======
       "      <td>0</td>\n",
       "      <td>0</td>\n",
       "      <td>0</td>\n",
       "      <td>0</td>\n",
       "      <td>0</td>\n",
       "      <td>0</td>\n",
>>>>>>> refs/remotes/origin/main
       "    </tr>\n",
       "    <tr>\n",
       "      <th>2</th>\n",
       "      <td>0</td>\n",
       "      <td>0</td>\n",
       "      <td>0</td>\n",
<<<<<<< HEAD
       "      <td>1</td>\n",
       "      <td>0</td>\n",
       "      <td>0</td>\n",
       "      <td>1</td>\n",
       "    </tr>\n",
       "    <tr>\n",
       "      <th>3</th>\n",
       "      <td>1</td>\n",
       "      <td>1</td>\n",
       "      <td>1</td>\n",
       "      <td>1</td>\n",
       "      <td>1</td>\n",
       "      <td>1</td>\n",
       "      <td>1</td>\n",
=======
       "      <td>0</td>\n",
       "      <td>0</td>\n",
       "      <td>0</td>\n",
       "      <td>0</td>\n",
       "    </tr>\n",
       "    <tr>\n",
       "      <th>3</th>\n",
       "      <td>0</td>\n",
       "      <td>0</td>\n",
       "      <td>0</td>\n",
       "      <td>0</td>\n",
       "      <td>1</td>\n",
       "      <td>0</td>\n",
       "      <td>0</td>\n",
>>>>>>> refs/remotes/origin/main
       "    </tr>\n",
       "    <tr>\n",
       "      <th>4</th>\n",
       "      <td>0</td>\n",
       "      <td>0</td>\n",
       "      <td>0</td>\n",
<<<<<<< HEAD
       "      <td>1</td>\n",
       "      <td>0</td>\n",
=======
       "      <td>0</td>\n",
       "      <td>1</td>\n",
>>>>>>> refs/remotes/origin/main
       "      <td>0</td>\n",
       "      <td>1</td>\n",
       "    </tr>\n",
       "  </tbody>\n",
       "</table>\n",
       "</div>"
      ],
      "text/plain": [
       "   h_pred_label  t_pred_label  a_pred_label  k_pred_label  kk_pred_label  \\\n",
<<<<<<< HEAD
       "0             1             1             0             1              1   \n",
       "1             0             1             1             1              1   \n",
       "2             0             0             0             1              0   \n",
       "3             1             1             1             1              1   \n",
       "4             0             0             0             1              0   \n",
       "\n",
       "   s_pred_label  true_label  \n",
       "0             1           1  \n",
       "1             1           1  \n",
       "2             0           1  \n",
       "3             1           1  \n",
=======
       "0             0             0             0             0              0   \n",
       "1             0             0             0             0              0   \n",
       "2             0             0             0             0              0   \n",
       "3             0             0             0             0              1   \n",
       "4             0             0             0             0              1   \n",
       "\n",
       "   s_pred_label  true_label  \n",
       "0             1           0  \n",
       "1             0           0  \n",
       "2             0           0  \n",
       "3             0           0  \n",
>>>>>>> refs/remotes/origin/main
       "4             0           1  "
      ]
     },
     "execution_count": 45,
     "metadata": {},
     "output_type": "execute_result"
    }
   ],
   "source": [
    "h_pred_df = pd.DataFrame(h_pred_, columns=['h_pred_label'])\n",
    "t_pred_df = pd.DataFrame(t_pred_, columns=['t_pred_label'])\n",
    "a_pred_df = pd.DataFrame(a_pred_, columns=['a_pred_label'])\n",
    "k_pred_df = pd.DataFrame(k_pred_, columns=['k_pred_label'])\n",
    "kk_pred_df = pd.DataFrame(kk_pred_, columns=['kk_pred_label'])\n",
    "s_pred_df = pd.DataFrame(s_pred_, columns=['s_pred_label'])\n",
    "label_df = pd.DataFrame(vlabel, columns=['true_label'])\n",
    "accuracy_df = pd.concat([h_pred_df, t_pred_df, a_pred_df, k_pred_df, kk_pred_df, s_pred_df, label_df], axis=1)\n",
    "accuracy_df.head(5)"
   ]
  },
  {
   "cell_type": "code",
   "execution_count": 46,
   "metadata": {},
   "outputs": [],
   "source": [
    "hpreds = h_pred_df.values\n",
    "tpreds = t_pred_df.values\n",
    "apreds = a_pred_df.values\n",
    "kpreds = k_pred_df.values\n",
    "kkpreds = kk_pred_df.values\n",
    "spreds = s_pred_df.values\n",
    "preds = []\n",
    "pred = 0\n",
    "m = 7\n",
    "\n",
    "for i in range(len(hpreds)):\n",
    "    pred = hpreds[i]+tpreds[i]+apreds[i]+kpreds[i]+kkpreds[i]+spreds[i]\n",
    "    if pred/m < 0.5:\n",
    "        pred = 0\n",
    "    else:\n",
    "        pred = 1\n",
    "    preds.append(pred)"
   ]
  },
  {
   "cell_type": "code",
   "execution_count": 47,
   "metadata": {},
   "outputs": [],
   "source": [
    "preds_df = pd.DataFrame(preds, columns=['pred_label'])\n",
    "label_df = pd.DataFrame(vlabel, columns=['true_label'])\n",
    "ensaccuracy_df = pd.concat([preds_df, label_df], axis=1)\n",
    "#ensaccuracy_df"
   ]
  },
  {
   "cell_type": "markdown",
   "metadata": {},
   "source": [
    "# pred_label accuracy"
   ]
  },
  {
   "cell_type": "code",
   "execution_count": 48,
   "metadata": {},
   "outputs": [
    {
     "data": {
      "text/plain": [
<<<<<<< HEAD
       "77.85359801488833"
=======
       "78.78411910669975"
>>>>>>> refs/remotes/origin/main
      ]
     },
     "execution_count": 48,
     "metadata": {},
     "output_type": "execute_result"
    }
   ],
   "source": [
    "cor = 0\n",
    "ypnum = 0 #yosoku\n",
    "spnum = 0 #seikai\n",
    "pnum = 0\n",
    "rnum = 0\n",
    "for i in range(len(preds_df)):\n",
    "    if preds_df.values[i] == label_df.values[i]:\n",
    "        cor += 1\n",
    "    if preds_df.values[i] == 0:\n",
    "        ypnum += 1\n",
    "        if label_df.values[i] == 0:\n",
    "            pnum += 1\n",
    "    if label_df.values[i] == 0:\n",
    "        spnum += 1\n",
    "        if preds_df.values[i] == 0:\n",
    "            rnum += 1\n",
    "        \n",
    "100*cor/len(preds_df)"
   ]
  },
  {
   "cell_type": "markdown",
   "metadata": {},
   "source": [
    "# pred_label F1"
   ]
  },
  {
   "cell_type": "code",
   "execution_count": 49,
   "metadata": {},
   "outputs": [
    {
     "data": {
      "text/plain": [
       "'\\n# tekigou\\ntp = pnum/ypnum\\n# saigen\\nsp = rnum/spnum\\n(tp*sp)/(tp+sp)\\n'"
      ]
     },
     "execution_count": 49,
     "metadata": {},
     "output_type": "execute_result"
    }
   ],
   "source": [
    "'''\n",
    "# tekigou\n",
    "tp = pnum/ypnum\n",
    "# saigen\n",
    "sp = rnum/spnum\n",
    "(tp*sp)/(tp+sp)\n",
    "'''"
   ]
  },
  {
   "cell_type": "code",
   "execution_count": 50,
   "metadata": {},
   "outputs": [
    {
     "data": {
      "text/plain": [
<<<<<<< HEAD
       "1143"
=======
       "1251"
>>>>>>> refs/remotes/origin/main
      ]
     },
     "execution_count": 50,
     "metadata": {},
     "output_type": "execute_result"
    }
   ],
   "source": [
    "(hpreds == label_df.values).sum()"
   ]
  },
  {
   "cell_type": "code",
   "execution_count": 51,
   "metadata": {},
   "outputs": [],
   "source": [
    "from sklearn.metrics import f1_score\n",
    "def accuracy(pdf):\n",
    "    return (pdf == label_df.values).sum()/len(pdf)\n",
    "\n",
    "def fscore(pdf):\n",
    "    return f1_score(pdf, label_df.values)"
   ]
  },
  {
   "cell_type": "code",
   "execution_count": 52,
   "metadata": {
    "scrolled": true
   },
   "outputs": [
    {
     "name": "stdout",
     "output_type": "stream",
     "text": [
<<<<<<< HEAD
      "head 0.7090570719602978 0.6798634812286689\n",
      "tail 0.7158808933002482 0.6823855755894591\n",
      "atama 0.7617866004962779 0.7557251908396946\n",
      "ketsu 0.7704714640198511 0.798474945533769\n",
      "ketsu-10 0.7630272952853598 0.7679222357229647\n",
      "summary 0.7710918114143921 0.7668982943777637\n",
      "all 0.7785359801488834 0.7643564356435643\n"
=======
      "head 0.7760545905707196 0.79639029892837\n",
      "tail 0.7307692307692307 0.7019230769230769\n",
      "atama 0.7289081885856079 0.6831036983321247\n",
      "ketsu 0.7909429280397022 0.7702794819359237\n",
      "ketsu-10 0.749379652605459 0.7699316628701595\n",
      "summary 0.7574441687344913 0.7504786215698788\n",
      "all 0.7878411910669976 0.7660738714090287\n"
>>>>>>> refs/remotes/origin/main
     ]
    }
   ],
   "source": [
    "print('head', accuracy(hpreds), fscore(hpreds))\n",
    "print('tail', accuracy(tpreds), fscore(tpreds))\n",
    "print('atama', accuracy(apreds), fscore(apreds))\n",
    "print('ketsu', accuracy(kpreds), fscore(kpreds))\n",
    "print('ketsu-10', accuracy(kkpreds), fscore(kkpreds))\n",
    "print('summary', accuracy(spreds), fscore(spreds))\n",
    "print('all', accuracy(preds_df.values), fscore(preds_df.values))\n",
    "\n",
    "f = open('acc'+filestr+'.csv', 'w')\n",
    "f.write('head,'+str(accuracy(hpreds))+','+str(fscore(hpreds))+'\\n')\n",
    "f.write('tail,'+str(accuracy(tpreds))+','+str(fscore(tpreds))+'\\n')\n",
    "f.write('atama,'+str(accuracy(apreds))+','+str(fscore(apreds))+'\\n')\n",
    "f.write('ketsu,'+str(accuracy(kpreds))+','+str(fscore(kpreds))+'\\n')\n",
    "f.write('ketsu-10,'+str(accuracy(kkpreds))+','+str(fscore(kkpreds))+'\\n')\n",
    "f.write('summary,'+str(accuracy(spreds))+','+str(fscore(spreds))+'\\n')\n",
    "f.write('all,'+str(accuracy(preds_df.values))+','+str(fscore(preds_df.values))+'\\n')\n",
    "f.close()"
   ]
  },
  {
   "cell_type": "code",
   "execution_count": 53,
   "metadata": {},
   "outputs": [],
   "source": [
    "H_train_loss = []\n",
    "T_train_loss = []\n",
    "A_train_loss = []\n",
    "K_train_loss = []\n",
    "KK_train_loss = []\n",
    "S_train_loss = []\n",
    "\n",
    "for i in range(max_epoch):\n",
    "    H_train_loss.append(h_train_loss_[i][0])\n",
    "    T_train_loss.append(t_train_loss_[i][0])\n",
    "    A_train_loss.append(a_train_loss_[i][0])\n",
    "    K_train_loss.append(k_train_loss_[i][0])\n",
    "    KK_train_loss.append(kk_train_loss_[i][0])\n",
    "    S_train_loss.append(s_train_loss_[i][0])"
   ]
  },
  {
   "cell_type": "code",
   "execution_count": 54,
   "metadata": {},
   "outputs": [],
   "source": [
    "import csv\n",
    "f = open('ens_augens-re2-rep-'+filestr+'.csv', 'w')\n",
    "f.write('H, T, A, K, KK, S\\n')\n",
    "writer = csv.writer(f)\n",
    "writer.writerows(map(lambda h, t, a, k, kk, s: [h, t, a, k, kk, s], H_train_loss, T_train_loss, A_train_loss,\n",
    "                  K_train_loss, KK_train_loss, S_train_loss))\n",
    "f.close()"
   ]
  },
  {
   "cell_type": "code",
   "execution_count": 55,
   "metadata": {},
   "outputs": [
    {
     "data": {
<<<<<<< HEAD
      "image/png": "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\n",
=======
      "image/png": "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\n",
>>>>>>> refs/remotes/origin/main
      "text/plain": [
       "<Figure size 640x480 with 1 Axes>"
      ]
     },
     "metadata": {},
     "output_type": "display_data"
    }
   ],
   "source": [
    "import matplotlib.pyplot as plt\n",
    "\n",
    "plt.plot(range(len(H_train_loss)), H_train_loss, label=\"Head\")\n",
    "plt.plot(range(len(T_train_loss)), T_train_loss, label=\"Tail\")\n",
    "plt.plot(range(len(A_train_loss)), A_train_loss, label=\"WakatiHead\")\n",
    "plt.plot(range(len(K_train_loss)), K_train_loss, label=\"WakatiTail\")\n",
    "plt.plot(range(len(KK_train_loss)), KK_train_loss, label=\"WakatiTail-10\")\n",
    "plt.plot(range(len(S_train_loss)), S_train_loss, label=\"Summary\")\n",
    "plt.legend()\n",
    "plt.xlabel(\"Epochs\")\n",
    "plt.ylabel(\"Loss\")\n",
    "plt.savefig(\"ens_augens-re2-fig-\"+filestr+\".png\", format=\"png\", dpi=300)\n",
    "plt.show()"
   ]
  }
 ],
 "metadata": {
  "accelerator": "GPU",
  "colab": {
   "collapsed_sections": [],
   "name": "BERTclassification.ipynb",
   "provenance": [
    {
     "file_id": "1mxMTVW123hMPhZLg9UjVEhkL_vrFvMp7",
     "timestamp": 1659890794413
    }
   ]
  },
  "gpuClass": "standard",
  "kernelspec": {
   "display_name": "Python 3 (ipykernel)",
   "language": "python",
   "name": "python3"
  },
  "language_info": {
   "codemirror_mode": {
    "name": "ipython",
    "version": 3
   },
   "file_extension": ".py",
   "mimetype": "text/x-python",
   "name": "python",
   "nbconvert_exporter": "python",
   "pygments_lexer": "ipython3",
   "version": "3.9.15"
  },
  "widgets": {
   "application/vnd.jupyter.widget-state+json": {
    "08a0764a15bb4b45ab9bfdbe3a02c318": {
     "model_module": "@jupyter-widgets/controls",
     "model_module_version": "1.5.0",
     "model_name": "ProgressStyleModel",
     "state": {
      "_model_module": "@jupyter-widgets/controls",
      "_model_module_version": "1.5.0",
      "_model_name": "ProgressStyleModel",
      "_view_count": null,
      "_view_module": "@jupyter-widgets/base",
      "_view_module_version": "1.2.0",
      "_view_name": "StyleView",
      "bar_color": null,
      "description_width": ""
     }
    },
    "0b407dd3170f4f55be7f8708c59d262b": {
     "model_module": "@jupyter-widgets/controls",
     "model_module_version": "1.5.0",
     "model_name": "HBoxModel",
     "state": {
      "_dom_classes": [],
      "_model_module": "@jupyter-widgets/controls",
      "_model_module_version": "1.5.0",
      "_model_name": "HBoxModel",
      "_view_count": null,
      "_view_module": "@jupyter-widgets/controls",
      "_view_module_version": "1.5.0",
      "_view_name": "HBoxView",
      "box_style": "",
      "children": [
       "IPY_MODEL_5616789e354d45699ea2040757dbd5c3",
       "IPY_MODEL_d6bc8aac6ca74bff92bba66f17c20b00",
       "IPY_MODEL_96fb1e06ef4349b5b6a071be230a711c"
      ],
      "layout": "IPY_MODEL_8d05e54e5fc644d2a3c974758c5e439c"
     }
    },
    "105e552bd7bd468f976e099cbe7c74cf": {
     "model_module": "@jupyter-widgets/base",
     "model_module_version": "1.2.0",
     "model_name": "LayoutModel",
     "state": {
      "_model_module": "@jupyter-widgets/base",
      "_model_module_version": "1.2.0",
      "_model_name": "LayoutModel",
      "_view_count": null,
      "_view_module": "@jupyter-widgets/base",
      "_view_module_version": "1.2.0",
      "_view_name": "LayoutView",
      "align_content": null,
      "align_items": null,
      "align_self": null,
      "border": null,
      "bottom": null,
      "display": null,
      "flex": null,
      "flex_flow": null,
      "grid_area": null,
      "grid_auto_columns": null,
      "grid_auto_flow": null,
      "grid_auto_rows": null,
      "grid_column": null,
      "grid_gap": null,
      "grid_row": null,
      "grid_template_areas": null,
      "grid_template_columns": null,
      "grid_template_rows": null,
      "height": null,
      "justify_content": null,
      "justify_items": null,
      "left": null,
      "margin": null,
      "max_height": null,
      "max_width": null,
      "min_height": null,
      "min_width": null,
      "object_fit": null,
      "object_position": null,
      "order": null,
      "overflow": null,
      "overflow_x": null,
      "overflow_y": null,
      "padding": null,
      "right": null,
      "top": null,
      "visibility": null,
      "width": null
     }
    },
    "11cc64e4ce0843ae88a651762d68b844": {
     "model_module": "@jupyter-widgets/controls",
     "model_module_version": "1.5.0",
     "model_name": "DescriptionStyleModel",
     "state": {
      "_model_module": "@jupyter-widgets/controls",
      "_model_module_version": "1.5.0",
      "_model_name": "DescriptionStyleModel",
      "_view_count": null,
      "_view_module": "@jupyter-widgets/base",
      "_view_module_version": "1.2.0",
      "_view_name": "StyleView",
      "description_width": ""
     }
    },
    "1aff4434a10549e387f749140d4721f4": {
     "model_module": "@jupyter-widgets/controls",
     "model_module_version": "1.5.0",
     "model_name": "DescriptionStyleModel",
     "state": {
      "_model_module": "@jupyter-widgets/controls",
      "_model_module_version": "1.5.0",
      "_model_name": "DescriptionStyleModel",
      "_view_count": null,
      "_view_module": "@jupyter-widgets/base",
      "_view_module_version": "1.2.0",
      "_view_name": "StyleView",
      "description_width": ""
     }
    },
    "1ed1c48157da42b7bc8719879f3c13c8": {
     "model_module": "@jupyter-widgets/controls",
     "model_module_version": "1.5.0",
     "model_name": "HTMLModel",
     "state": {
      "_dom_classes": [],
      "_model_module": "@jupyter-widgets/controls",
      "_model_module_version": "1.5.0",
      "_model_name": "HTMLModel",
      "_view_count": null,
      "_view_module": "@jupyter-widgets/controls",
      "_view_module_version": "1.5.0",
      "_view_name": "HTMLView",
      "description": "",
      "description_tooltip": null,
      "layout": "IPY_MODEL_7481c5bc470c42cf8ef6d38b69c4ce8a",
      "placeholder": "​",
      "style": "IPY_MODEL_240f4e1960d44c189adf177c9eb4a17e",
      "value": " 424M/424M [00:15&lt;00:00, 54.9MB/s]"
     }
    },
    "240f4e1960d44c189adf177c9eb4a17e": {
     "model_module": "@jupyter-widgets/controls",
     "model_module_version": "1.5.0",
     "model_name": "DescriptionStyleModel",
     "state": {
      "_model_module": "@jupyter-widgets/controls",
      "_model_module_version": "1.5.0",
      "_model_name": "DescriptionStyleModel",
      "_view_count": null,
      "_view_module": "@jupyter-widgets/base",
      "_view_module_version": "1.2.0",
      "_view_name": "StyleView",
      "description_width": ""
     }
    },
    "2dc2139703bb4448969390f2a91e00f6": {
     "model_module": "@jupyter-widgets/base",
     "model_module_version": "1.2.0",
     "model_name": "LayoutModel",
     "state": {
      "_model_module": "@jupyter-widgets/base",
      "_model_module_version": "1.2.0",
      "_model_name": "LayoutModel",
      "_view_count": null,
      "_view_module": "@jupyter-widgets/base",
      "_view_module_version": "1.2.0",
      "_view_name": "LayoutView",
      "align_content": null,
      "align_items": null,
      "align_self": null,
      "border": null,
      "bottom": null,
      "display": null,
      "flex": null,
      "flex_flow": null,
      "grid_area": null,
      "grid_auto_columns": null,
      "grid_auto_flow": null,
      "grid_auto_rows": null,
      "grid_column": null,
      "grid_gap": null,
      "grid_row": null,
      "grid_template_areas": null,
      "grid_template_columns": null,
      "grid_template_rows": null,
      "height": null,
      "justify_content": null,
      "justify_items": null,
      "left": null,
      "margin": null,
      "max_height": null,
      "max_width": null,
      "min_height": null,
      "min_width": null,
      "object_fit": null,
      "object_position": null,
      "order": null,
      "overflow": null,
      "overflow_x": null,
      "overflow_y": null,
      "padding": null,
      "right": null,
      "top": null,
      "visibility": null,
      "width": null
     }
    },
    "3994b8f69c284d758c5f04deeb3fcca1": {
     "model_module": "@jupyter-widgets/base",
     "model_module_version": "1.2.0",
     "model_name": "LayoutModel",
     "state": {
      "_model_module": "@jupyter-widgets/base",
      "_model_module_version": "1.2.0",
      "_model_name": "LayoutModel",
      "_view_count": null,
      "_view_module": "@jupyter-widgets/base",
      "_view_module_version": "1.2.0",
      "_view_name": "LayoutView",
      "align_content": null,
      "align_items": null,
      "align_self": null,
      "border": null,
      "bottom": null,
      "display": null,
      "flex": null,
      "flex_flow": null,
      "grid_area": null,
      "grid_auto_columns": null,
      "grid_auto_flow": null,
      "grid_auto_rows": null,
      "grid_column": null,
      "grid_gap": null,
      "grid_row": null,
      "grid_template_areas": null,
      "grid_template_columns": null,
      "grid_template_rows": null,
      "height": null,
      "justify_content": null,
      "justify_items": null,
      "left": null,
      "margin": null,
      "max_height": null,
      "max_width": null,
      "min_height": null,
      "min_width": null,
      "object_fit": null,
      "object_position": null,
      "order": null,
      "overflow": null,
      "overflow_x": null,
      "overflow_y": null,
      "padding": null,
      "right": null,
      "top": null,
      "visibility": null,
      "width": null
     }
    },
    "423c0b6849204bbc96c7b039633373f9": {
     "model_module": "@jupyter-widgets/base",
     "model_module_version": "1.2.0",
     "model_name": "LayoutModel",
     "state": {
      "_model_module": "@jupyter-widgets/base",
      "_model_module_version": "1.2.0",
      "_model_name": "LayoutModel",
      "_view_count": null,
      "_view_module": "@jupyter-widgets/base",
      "_view_module_version": "1.2.0",
      "_view_name": "LayoutView",
      "align_content": null,
      "align_items": null,
      "align_self": null,
      "border": null,
      "bottom": null,
      "display": null,
      "flex": null,
      "flex_flow": null,
      "grid_area": null,
      "grid_auto_columns": null,
      "grid_auto_flow": null,
      "grid_auto_rows": null,
      "grid_column": null,
      "grid_gap": null,
      "grid_row": null,
      "grid_template_areas": null,
      "grid_template_columns": null,
      "grid_template_rows": null,
      "height": null,
      "justify_content": null,
      "justify_items": null,
      "left": null,
      "margin": null,
      "max_height": null,
      "max_width": null,
      "min_height": null,
      "min_width": null,
      "object_fit": null,
      "object_position": null,
      "order": null,
      "overflow": null,
      "overflow_x": null,
      "overflow_y": null,
      "padding": null,
      "right": null,
      "top": null,
      "visibility": null,
      "width": null
     }
    },
    "4535f833bfac4540a8add9686f623b54": {
     "model_module": "@jupyter-widgets/controls",
     "model_module_version": "1.5.0",
     "model_name": "FloatProgressModel",
     "state": {
      "_dom_classes": [],
      "_model_module": "@jupyter-widgets/controls",
      "_model_module_version": "1.5.0",
      "_model_name": "FloatProgressModel",
      "_view_count": null,
      "_view_module": "@jupyter-widgets/controls",
      "_view_module_version": "1.5.0",
      "_view_name": "ProgressView",
      "bar_style": "success",
      "description": "",
      "description_tooltip": null,
      "layout": "IPY_MODEL_9279616c547b47de92a436ebb026fd79",
      "max": 153,
      "min": 0,
      "orientation": "horizontal",
      "style": "IPY_MODEL_b3910389daf34e31af5f33ef7d539625",
      "value": 153
     }
    },
    "45555846fc9746af9a06d76c6c9aee1b": {
     "model_module": "@jupyter-widgets/controls",
     "model_module_version": "1.5.0",
     "model_name": "DescriptionStyleModel",
     "state": {
      "_model_module": "@jupyter-widgets/controls",
      "_model_module_version": "1.5.0",
      "_model_name": "DescriptionStyleModel",
      "_view_count": null,
      "_view_module": "@jupyter-widgets/base",
      "_view_module_version": "1.2.0",
      "_view_name": "StyleView",
      "description_width": ""
     }
    },
    "46351ebb1bfd41b5b9fbc4de40e218e3": {
     "model_module": "@jupyter-widgets/controls",
     "model_module_version": "1.5.0",
     "model_name": "DescriptionStyleModel",
     "state": {
      "_model_module": "@jupyter-widgets/controls",
      "_model_module_version": "1.5.0",
      "_model_name": "DescriptionStyleModel",
      "_view_count": null,
      "_view_module": "@jupyter-widgets/base",
      "_view_module_version": "1.2.0",
      "_view_name": "StyleView",
      "description_width": ""
     }
    },
    "50d37681841a449094298dcb52ff9059": {
     "model_module": "@jupyter-widgets/base",
     "model_module_version": "1.2.0",
     "model_name": "LayoutModel",
     "state": {
      "_model_module": "@jupyter-widgets/base",
      "_model_module_version": "1.2.0",
      "_model_name": "LayoutModel",
      "_view_count": null,
      "_view_module": "@jupyter-widgets/base",
      "_view_module_version": "1.2.0",
      "_view_name": "LayoutView",
      "align_content": null,
      "align_items": null,
      "align_self": null,
      "border": null,
      "bottom": null,
      "display": null,
      "flex": null,
      "flex_flow": null,
      "grid_area": null,
      "grid_auto_columns": null,
      "grid_auto_flow": null,
      "grid_auto_rows": null,
      "grid_column": null,
      "grid_gap": null,
      "grid_row": null,
      "grid_template_areas": null,
      "grid_template_columns": null,
      "grid_template_rows": null,
      "height": null,
      "justify_content": null,
      "justify_items": null,
      "left": null,
      "margin": null,
      "max_height": null,
      "max_width": null,
      "min_height": null,
      "min_width": null,
      "object_fit": null,
      "object_position": null,
      "order": null,
      "overflow": null,
      "overflow_x": null,
      "overflow_y": null,
      "padding": null,
      "right": null,
      "top": null,
      "visibility": null,
      "width": null
     }
    },
    "5616789e354d45699ea2040757dbd5c3": {
     "model_module": "@jupyter-widgets/controls",
     "model_module_version": "1.5.0",
     "model_name": "HTMLModel",
     "state": {
      "_dom_classes": [],
      "_model_module": "@jupyter-widgets/controls",
      "_model_module_version": "1.5.0",
      "_model_name": "HTMLModel",
      "_view_count": null,
      "_view_module": "@jupyter-widgets/controls",
      "_view_module_version": "1.5.0",
      "_view_name": "HTMLView",
      "description": "",
      "description_tooltip": null,
      "layout": "IPY_MODEL_9a20acb0a8fc4320af5a849c9d780649",
      "placeholder": "​",
      "style": "IPY_MODEL_45555846fc9746af9a06d76c6c9aee1b",
      "value": "Downloading spiece.model: 100%"
     }
    },
    "705cf2ba17614d51853eeb9dfc74d540": {
     "model_module": "@jupyter-widgets/controls",
     "model_module_version": "1.5.0",
     "model_name": "FloatProgressModel",
     "state": {
      "_dom_classes": [],
      "_model_module": "@jupyter-widgets/controls",
      "_model_module_version": "1.5.0",
      "_model_name": "FloatProgressModel",
      "_view_count": null,
      "_view_module": "@jupyter-widgets/controls",
      "_view_module_version": "1.5.0",
      "_view_name": "ProgressView",
      "bar_style": "success",
      "description": "",
      "description_tooltip": null,
      "layout": "IPY_MODEL_3994b8f69c284d758c5f04deeb3fcca1",
      "max": 259,
      "min": 0,
      "orientation": "horizontal",
      "style": "IPY_MODEL_08a0764a15bb4b45ab9bfdbe3a02c318",
      "value": 259
     }
    },
    "7093eae4a1e94e7fbc341564be6a727c": {
     "model_module": "@jupyter-widgets/base",
     "model_module_version": "1.2.0",
     "model_name": "LayoutModel",
     "state": {
      "_model_module": "@jupyter-widgets/base",
      "_model_module_version": "1.2.0",
      "_model_name": "LayoutModel",
      "_view_count": null,
      "_view_module": "@jupyter-widgets/base",
      "_view_module_version": "1.2.0",
      "_view_name": "LayoutView",
      "align_content": null,
      "align_items": null,
      "align_self": null,
      "border": null,
      "bottom": null,
      "display": null,
      "flex": null,
      "flex_flow": null,
      "grid_area": null,
      "grid_auto_columns": null,
      "grid_auto_flow": null,
      "grid_auto_rows": null,
      "grid_column": null,
      "grid_gap": null,
      "grid_row": null,
      "grid_template_areas": null,
      "grid_template_columns": null,
      "grid_template_rows": null,
      "height": null,
      "justify_content": null,
      "justify_items": null,
      "left": null,
      "margin": null,
      "max_height": null,
      "max_width": null,
      "min_height": null,
      "min_width": null,
      "object_fit": null,
      "object_position": null,
      "order": null,
      "overflow": null,
      "overflow_x": null,
      "overflow_y": null,
      "padding": null,
      "right": null,
      "top": null,
      "visibility": null,
      "width": null
     }
    },
    "73fb8df2799443d996d165878dc526a8": {
     "model_module": "@jupyter-widgets/controls",
     "model_module_version": "1.5.0",
     "model_name": "HBoxModel",
     "state": {
      "_dom_classes": [],
      "_model_module": "@jupyter-widgets/controls",
      "_model_module_version": "1.5.0",
      "_model_name": "HBoxModel",
      "_view_count": null,
      "_view_module": "@jupyter-widgets/controls",
      "_view_module_version": "1.5.0",
      "_view_name": "HBoxView",
      "box_style": "",
      "children": [
       "IPY_MODEL_c9f368ede2d24e3095242e9a3cf8c545",
       "IPY_MODEL_4535f833bfac4540a8add9686f623b54",
       "IPY_MODEL_7803695cfa5742bf85208ee04193acb0"
      ],
      "layout": "IPY_MODEL_423c0b6849204bbc96c7b039633373f9"
     }
    },
    "7481c5bc470c42cf8ef6d38b69c4ce8a": {
     "model_module": "@jupyter-widgets/base",
     "model_module_version": "1.2.0",
     "model_name": "LayoutModel",
     "state": {
      "_model_module": "@jupyter-widgets/base",
      "_model_module_version": "1.2.0",
      "_model_name": "LayoutModel",
      "_view_count": null,
      "_view_module": "@jupyter-widgets/base",
      "_view_module_version": "1.2.0",
      "_view_name": "LayoutView",
      "align_content": null,
      "align_items": null,
      "align_self": null,
      "border": null,
      "bottom": null,
      "display": null,
      "flex": null,
      "flex_flow": null,
      "grid_area": null,
      "grid_auto_columns": null,
      "grid_auto_flow": null,
      "grid_auto_rows": null,
      "grid_column": null,
      "grid_gap": null,
      "grid_row": null,
      "grid_template_areas": null,
      "grid_template_columns": null,
      "grid_template_rows": null,
      "height": null,
      "justify_content": null,
      "justify_items": null,
      "left": null,
      "margin": null,
      "max_height": null,
      "max_width": null,
      "min_height": null,
      "min_width": null,
      "object_fit": null,
      "object_position": null,
      "order": null,
      "overflow": null,
      "overflow_x": null,
      "overflow_y": null,
      "padding": null,
      "right": null,
      "top": null,
      "visibility": null,
      "width": null
     }
    },
    "7803695cfa5742bf85208ee04193acb0": {
     "model_module": "@jupyter-widgets/controls",
     "model_module_version": "1.5.0",
     "model_name": "HTMLModel",
     "state": {
      "_dom_classes": [],
      "_model_module": "@jupyter-widgets/controls",
      "_model_module_version": "1.5.0",
      "_model_name": "HTMLModel",
      "_view_count": null,
      "_view_module": "@jupyter-widgets/controls",
      "_view_module_version": "1.5.0",
      "_view_name": "HTMLView",
      "description": "",
      "description_tooltip": null,
      "layout": "IPY_MODEL_d808ec79b0dd465a82077ca7f2c8feb6",
      "placeholder": "​",
      "style": "IPY_MODEL_d2a46f9221b14f86a3330510812f258e",
      "value": " 153/153 [00:00&lt;00:00, 4.82kB/s]"
     }
    },
    "7ce3a9778e6841e38f6bb2c3d8cfe9b8": {
     "model_module": "@jupyter-widgets/controls",
     "model_module_version": "1.5.0",
     "model_name": "HTMLModel",
     "state": {
      "_dom_classes": [],
      "_model_module": "@jupyter-widgets/controls",
      "_model_module_version": "1.5.0",
      "_model_name": "HTMLModel",
      "_view_count": null,
      "_view_module": "@jupyter-widgets/controls",
      "_view_module_version": "1.5.0",
      "_view_name": "HTMLView",
      "description": "",
      "description_tooltip": null,
      "layout": "IPY_MODEL_105e552bd7bd468f976e099cbe7c74cf",
      "placeholder": "​",
      "style": "IPY_MODEL_fe1020e5f4eb483fa3fce57764a2508c",
      "value": "Downloading config.json: 100%"
     }
    },
    "83cf06c42be34c068dbbf6fcc5cfd6d5": {
     "model_module": "@jupyter-widgets/controls",
     "model_module_version": "1.5.0",
     "model_name": "HTMLModel",
     "state": {
      "_dom_classes": [],
      "_model_module": "@jupyter-widgets/controls",
      "_model_module_version": "1.5.0",
      "_model_name": "HTMLModel",
      "_view_count": null,
      "_view_module": "@jupyter-widgets/controls",
      "_view_module_version": "1.5.0",
      "_view_name": "HTMLView",
      "description": "",
      "description_tooltip": null,
      "layout": "IPY_MODEL_f629f372d73b44efb31e8d7c5a45d4cd",
      "placeholder": "​",
      "style": "IPY_MODEL_93c25b4c96e64fecbb7f569527e50722",
      "value": " 259/259 [00:00&lt;00:00, 8.26kB/s]"
     }
    },
    "887ca9f3ec9247c4b402bc72745aad0d": {
     "model_module": "@jupyter-widgets/controls",
     "model_module_version": "1.5.0",
     "model_name": "ProgressStyleModel",
     "state": {
      "_model_module": "@jupyter-widgets/controls",
      "_model_module_version": "1.5.0",
      "_model_name": "ProgressStyleModel",
      "_view_count": null,
      "_view_module": "@jupyter-widgets/base",
      "_view_module_version": "1.2.0",
      "_view_name": "StyleView",
      "bar_color": null,
      "description_width": ""
     }
    },
    "8988d5fad2d14b9b97cd311e99093641": {
     "model_module": "@jupyter-widgets/controls",
     "model_module_version": "1.5.0",
     "model_name": "FloatProgressModel",
     "state": {
      "_dom_classes": [],
      "_model_module": "@jupyter-widgets/controls",
      "_model_module_version": "1.5.0",
      "_model_name": "FloatProgressModel",
      "_view_count": null,
      "_view_module": "@jupyter-widgets/controls",
      "_view_module_version": "1.5.0",
      "_view_name": "ProgressView",
      "bar_style": "success",
      "description": "",
      "description_tooltip": null,
      "layout": "IPY_MODEL_9bb08df9e5004f5da8678c2fd10c8eb2",
      "max": 479,
      "min": 0,
      "orientation": "horizontal",
      "style": "IPY_MODEL_887ca9f3ec9247c4b402bc72745aad0d",
      "value": 479
     }
    },
    "8d05e54e5fc644d2a3c974758c5e439c": {
     "model_module": "@jupyter-widgets/base",
     "model_module_version": "1.2.0",
     "model_name": "LayoutModel",
     "state": {
      "_model_module": "@jupyter-widgets/base",
      "_model_module_version": "1.2.0",
      "_model_name": "LayoutModel",
      "_view_count": null,
      "_view_module": "@jupyter-widgets/base",
      "_view_module_version": "1.2.0",
      "_view_name": "LayoutView",
      "align_content": null,
      "align_items": null,
      "align_self": null,
      "border": null,
      "bottom": null,
      "display": null,
      "flex": null,
      "flex_flow": null,
      "grid_area": null,
      "grid_auto_columns": null,
      "grid_auto_flow": null,
      "grid_auto_rows": null,
      "grid_column": null,
      "grid_gap": null,
      "grid_row": null,
      "grid_template_areas": null,
      "grid_template_columns": null,
      "grid_template_rows": null,
      "height": null,
      "justify_content": null,
      "justify_items": null,
      "left": null,
      "margin": null,
      "max_height": null,
      "max_width": null,
      "min_height": null,
      "min_width": null,
      "object_fit": null,
      "object_position": null,
      "order": null,
      "overflow": null,
      "overflow_x": null,
      "overflow_y": null,
      "padding": null,
      "right": null,
      "top": null,
      "visibility": null,
      "width": null
     }
    },
    "9279616c547b47de92a436ebb026fd79": {
     "model_module": "@jupyter-widgets/base",
     "model_module_version": "1.2.0",
     "model_name": "LayoutModel",
     "state": {
      "_model_module": "@jupyter-widgets/base",
      "_model_module_version": "1.2.0",
      "_model_name": "LayoutModel",
      "_view_count": null,
      "_view_module": "@jupyter-widgets/base",
      "_view_module_version": "1.2.0",
      "_view_name": "LayoutView",
      "align_content": null,
      "align_items": null,
      "align_self": null,
      "border": null,
      "bottom": null,
      "display": null,
      "flex": null,
      "flex_flow": null,
      "grid_area": null,
      "grid_auto_columns": null,
      "grid_auto_flow": null,
      "grid_auto_rows": null,
      "grid_column": null,
      "grid_gap": null,
      "grid_row": null,
      "grid_template_areas": null,
      "grid_template_columns": null,
      "grid_template_rows": null,
      "height": null,
      "justify_content": null,
      "justify_items": null,
      "left": null,
      "margin": null,
      "max_height": null,
      "max_width": null,
      "min_height": null,
      "min_width": null,
      "object_fit": null,
      "object_position": null,
      "order": null,
      "overflow": null,
      "overflow_x": null,
      "overflow_y": null,
      "padding": null,
      "right": null,
      "top": null,
      "visibility": null,
      "width": null
     }
    },
    "937dd0c1d06e4d69824b7be991cc52f0": {
     "model_module": "@jupyter-widgets/base",
     "model_module_version": "1.2.0",
     "model_name": "LayoutModel",
     "state": {
      "_model_module": "@jupyter-widgets/base",
      "_model_module_version": "1.2.0",
      "_model_name": "LayoutModel",
      "_view_count": null,
      "_view_module": "@jupyter-widgets/base",
      "_view_module_version": "1.2.0",
      "_view_name": "LayoutView",
      "align_content": null,
      "align_items": null,
      "align_self": null,
      "border": null,
      "bottom": null,
      "display": null,
      "flex": null,
      "flex_flow": null,
      "grid_area": null,
      "grid_auto_columns": null,
      "grid_auto_flow": null,
      "grid_auto_rows": null,
      "grid_column": null,
      "grid_gap": null,
      "grid_row": null,
      "grid_template_areas": null,
      "grid_template_columns": null,
      "grid_template_rows": null,
      "height": null,
      "justify_content": null,
      "justify_items": null,
      "left": null,
      "margin": null,
      "max_height": null,
      "max_width": null,
      "min_height": null,
      "min_width": null,
      "object_fit": null,
      "object_position": null,
      "order": null,
      "overflow": null,
      "overflow_x": null,
      "overflow_y": null,
      "padding": null,
      "right": null,
      "top": null,
      "visibility": null,
      "width": null
     }
    },
    "93c25b4c96e64fecbb7f569527e50722": {
     "model_module": "@jupyter-widgets/controls",
     "model_module_version": "1.5.0",
     "model_name": "DescriptionStyleModel",
     "state": {
      "_model_module": "@jupyter-widgets/controls",
      "_model_module_version": "1.5.0",
      "_model_name": "DescriptionStyleModel",
      "_view_count": null,
      "_view_module": "@jupyter-widgets/base",
      "_view_module_version": "1.2.0",
      "_view_name": "StyleView",
      "description_width": ""
     }
    },
    "96fb1e06ef4349b5b6a071be230a711c": {
     "model_module": "@jupyter-widgets/controls",
     "model_module_version": "1.5.0",
     "model_name": "HTMLModel",
     "state": {
      "_dom_classes": [],
      "_model_module": "@jupyter-widgets/controls",
      "_model_module_version": "1.5.0",
      "_model_name": "HTMLModel",
      "_view_count": null,
      "_view_module": "@jupyter-widgets/controls",
      "_view_module_version": "1.5.0",
      "_view_name": "HTMLView",
      "description": "",
      "description_tooltip": null,
      "layout": "IPY_MODEL_efd4beed83d947b9a5eec5918dcd2319",
      "placeholder": "​",
      "style": "IPY_MODEL_1aff4434a10549e387f749140d4721f4",
      "value": " 787k/787k [00:00&lt;00:00, 11.4MB/s]"
     }
    },
    "9929328cf8d246d2b5be77a5fca18c0f": {
     "model_module": "@jupyter-widgets/controls",
     "model_module_version": "1.5.0",
     "model_name": "HBoxModel",
     "state": {
      "_dom_classes": [],
      "_model_module": "@jupyter-widgets/controls",
      "_model_module_version": "1.5.0",
      "_model_name": "HBoxModel",
      "_view_count": null,
      "_view_module": "@jupyter-widgets/controls",
      "_view_module_version": "1.5.0",
      "_view_name": "HBoxView",
      "box_style": "",
      "children": [
       "IPY_MODEL_7ce3a9778e6841e38f6bb2c3d8cfe9b8",
       "IPY_MODEL_8988d5fad2d14b9b97cd311e99093641",
       "IPY_MODEL_e72ccacac3434f939cd0e4adfb3bcc4d"
      ],
      "layout": "IPY_MODEL_a9503913e9204c7994b76af2f3fd7d3a"
     }
    },
    "9a20acb0a8fc4320af5a849c9d780649": {
     "model_module": "@jupyter-widgets/base",
     "model_module_version": "1.2.0",
     "model_name": "LayoutModel",
     "state": {
      "_model_module": "@jupyter-widgets/base",
      "_model_module_version": "1.2.0",
      "_model_name": "LayoutModel",
      "_view_count": null,
      "_view_module": "@jupyter-widgets/base",
      "_view_module_version": "1.2.0",
      "_view_name": "LayoutView",
      "align_content": null,
      "align_items": null,
      "align_self": null,
      "border": null,
      "bottom": null,
      "display": null,
      "flex": null,
      "flex_flow": null,
      "grid_area": null,
      "grid_auto_columns": null,
      "grid_auto_flow": null,
      "grid_auto_rows": null,
      "grid_column": null,
      "grid_gap": null,
      "grid_row": null,
      "grid_template_areas": null,
      "grid_template_columns": null,
      "grid_template_rows": null,
      "height": null,
      "justify_content": null,
      "justify_items": null,
      "left": null,
      "margin": null,
      "max_height": null,
      "max_width": null,
      "min_height": null,
      "min_width": null,
      "object_fit": null,
      "object_position": null,
      "order": null,
      "overflow": null,
      "overflow_x": null,
      "overflow_y": null,
      "padding": null,
      "right": null,
      "top": null,
      "visibility": null,
      "width": null
     }
    },
    "9a9b67b9ebf94a13a95e759a696c884f": {
     "model_module": "@jupyter-widgets/base",
     "model_module_version": "1.2.0",
     "model_name": "LayoutModel",
     "state": {
      "_model_module": "@jupyter-widgets/base",
      "_model_module_version": "1.2.0",
      "_model_name": "LayoutModel",
      "_view_count": null,
      "_view_module": "@jupyter-widgets/base",
      "_view_module_version": "1.2.0",
      "_view_name": "LayoutView",
      "align_content": null,
      "align_items": null,
      "align_self": null,
      "border": null,
      "bottom": null,
      "display": null,
      "flex": null,
      "flex_flow": null,
      "grid_area": null,
      "grid_auto_columns": null,
      "grid_auto_flow": null,
      "grid_auto_rows": null,
      "grid_column": null,
      "grid_gap": null,
      "grid_row": null,
      "grid_template_areas": null,
      "grid_template_columns": null,
      "grid_template_rows": null,
      "height": null,
      "justify_content": null,
      "justify_items": null,
      "left": null,
      "margin": null,
      "max_height": null,
      "max_width": null,
      "min_height": null,
      "min_width": null,
      "object_fit": null,
      "object_position": null,
      "order": null,
      "overflow": null,
      "overflow_x": null,
      "overflow_y": null,
      "padding": null,
      "right": null,
      "top": null,
      "visibility": null,
      "width": null
     }
    },
    "9bb08df9e5004f5da8678c2fd10c8eb2": {
     "model_module": "@jupyter-widgets/base",
     "model_module_version": "1.2.0",
     "model_name": "LayoutModel",
     "state": {
      "_model_module": "@jupyter-widgets/base",
      "_model_module_version": "1.2.0",
      "_model_name": "LayoutModel",
      "_view_count": null,
      "_view_module": "@jupyter-widgets/base",
      "_view_module_version": "1.2.0",
      "_view_name": "LayoutView",
      "align_content": null,
      "align_items": null,
      "align_self": null,
      "border": null,
      "bottom": null,
      "display": null,
      "flex": null,
      "flex_flow": null,
      "grid_area": null,
      "grid_auto_columns": null,
      "grid_auto_flow": null,
      "grid_auto_rows": null,
      "grid_column": null,
      "grid_gap": null,
      "grid_row": null,
      "grid_template_areas": null,
      "grid_template_columns": null,
      "grid_template_rows": null,
      "height": null,
      "justify_content": null,
      "justify_items": null,
      "left": null,
      "margin": null,
      "max_height": null,
      "max_width": null,
      "min_height": null,
      "min_width": null,
      "object_fit": null,
      "object_position": null,
      "order": null,
      "overflow": null,
      "overflow_x": null,
      "overflow_y": null,
      "padding": null,
      "right": null,
      "top": null,
      "visibility": null,
      "width": null
     }
    },
    "9f37d02a0ba944dc9633a68d71891f87": {
     "model_module": "@jupyter-widgets/controls",
     "model_module_version": "1.5.0",
     "model_name": "DescriptionStyleModel",
     "state": {
      "_model_module": "@jupyter-widgets/controls",
      "_model_module_version": "1.5.0",
      "_model_name": "DescriptionStyleModel",
      "_view_count": null,
      "_view_module": "@jupyter-widgets/base",
      "_view_module_version": "1.2.0",
      "_view_name": "StyleView",
      "description_width": ""
     }
    },
    "a0880f15772d4156a9eb94d6314c2d9e": {
     "model_module": "@jupyter-widgets/base",
     "model_module_version": "1.2.0",
     "model_name": "LayoutModel",
     "state": {
      "_model_module": "@jupyter-widgets/base",
      "_model_module_version": "1.2.0",
      "_model_name": "LayoutModel",
      "_view_count": null,
      "_view_module": "@jupyter-widgets/base",
      "_view_module_version": "1.2.0",
      "_view_name": "LayoutView",
      "align_content": null,
      "align_items": null,
      "align_self": null,
      "border": null,
      "bottom": null,
      "display": null,
      "flex": null,
      "flex_flow": null,
      "grid_area": null,
      "grid_auto_columns": null,
      "grid_auto_flow": null,
      "grid_auto_rows": null,
      "grid_column": null,
      "grid_gap": null,
      "grid_row": null,
      "grid_template_areas": null,
      "grid_template_columns": null,
      "grid_template_rows": null,
      "height": null,
      "justify_content": null,
      "justify_items": null,
      "left": null,
      "margin": null,
      "max_height": null,
      "max_width": null,
      "min_height": null,
      "min_width": null,
      "object_fit": null,
      "object_position": null,
      "order": null,
      "overflow": null,
      "overflow_x": null,
      "overflow_y": null,
      "padding": null,
      "right": null,
      "top": null,
      "visibility": null,
      "width": null
     }
    },
    "a6e9829602e047f5ab93e3dfb66195cb": {
     "model_module": "@jupyter-widgets/base",
     "model_module_version": "1.2.0",
     "model_name": "LayoutModel",
     "state": {
      "_model_module": "@jupyter-widgets/base",
      "_model_module_version": "1.2.0",
      "_model_name": "LayoutModel",
      "_view_count": null,
      "_view_module": "@jupyter-widgets/base",
      "_view_module_version": "1.2.0",
      "_view_name": "LayoutView",
      "align_content": null,
      "align_items": null,
      "align_self": null,
      "border": null,
      "bottom": null,
      "display": null,
      "flex": null,
      "flex_flow": null,
      "grid_area": null,
      "grid_auto_columns": null,
      "grid_auto_flow": null,
      "grid_auto_rows": null,
      "grid_column": null,
      "grid_gap": null,
      "grid_row": null,
      "grid_template_areas": null,
      "grid_template_columns": null,
      "grid_template_rows": null,
      "height": null,
      "justify_content": null,
      "justify_items": null,
      "left": null,
      "margin": null,
      "max_height": null,
      "max_width": null,
      "min_height": null,
      "min_width": null,
      "object_fit": null,
      "object_position": null,
      "order": null,
      "overflow": null,
      "overflow_x": null,
      "overflow_y": null,
      "padding": null,
      "right": null,
      "top": null,
      "visibility": null,
      "width": null
     }
    },
    "a93d3d99fab445ea80248bd9ae7b0d60": {
     "model_module": "@jupyter-widgets/controls",
     "model_module_version": "1.5.0",
     "model_name": "HBoxModel",
     "state": {
      "_dom_classes": [],
      "_model_module": "@jupyter-widgets/controls",
      "_model_module_version": "1.5.0",
      "_model_name": "HBoxModel",
      "_view_count": null,
      "_view_module": "@jupyter-widgets/controls",
      "_view_module_version": "1.5.0",
      "_view_name": "HBoxView",
      "box_style": "",
      "children": [
       "IPY_MODEL_fa68d1e07ae94cd2824d767335a63c64",
       "IPY_MODEL_f69e8de282434b9aa8a457a73593d080",
       "IPY_MODEL_1ed1c48157da42b7bc8719879f3c13c8"
      ],
      "layout": "IPY_MODEL_7093eae4a1e94e7fbc341564be6a727c"
     }
    },
    "a9503913e9204c7994b76af2f3fd7d3a": {
     "model_module": "@jupyter-widgets/base",
     "model_module_version": "1.2.0",
     "model_name": "LayoutModel",
     "state": {
      "_model_module": "@jupyter-widgets/base",
      "_model_module_version": "1.2.0",
      "_model_name": "LayoutModel",
      "_view_count": null,
      "_view_module": "@jupyter-widgets/base",
      "_view_module_version": "1.2.0",
      "_view_name": "LayoutView",
      "align_content": null,
      "align_items": null,
      "align_self": null,
      "border": null,
      "bottom": null,
      "display": null,
      "flex": null,
      "flex_flow": null,
      "grid_area": null,
      "grid_auto_columns": null,
      "grid_auto_flow": null,
      "grid_auto_rows": null,
      "grid_column": null,
      "grid_gap": null,
      "grid_row": null,
      "grid_template_areas": null,
      "grid_template_columns": null,
      "grid_template_rows": null,
      "height": null,
      "justify_content": null,
      "justify_items": null,
      "left": null,
      "margin": null,
      "max_height": null,
      "max_width": null,
      "min_height": null,
      "min_width": null,
      "object_fit": null,
      "object_position": null,
      "order": null,
      "overflow": null,
      "overflow_x": null,
      "overflow_y": null,
      "padding": null,
      "right": null,
      "top": null,
      "visibility": null,
      "width": null
     }
    },
    "b3910389daf34e31af5f33ef7d539625": {
     "model_module": "@jupyter-widgets/controls",
     "model_module_version": "1.5.0",
     "model_name": "ProgressStyleModel",
     "state": {
      "_model_module": "@jupyter-widgets/controls",
      "_model_module_version": "1.5.0",
      "_model_name": "ProgressStyleModel",
      "_view_count": null,
      "_view_module": "@jupyter-widgets/base",
      "_view_module_version": "1.2.0",
      "_view_name": "StyleView",
      "bar_color": null,
      "description_width": ""
     }
    },
    "baa09b17fcba4d8593e8155907a72c31": {
     "model_module": "@jupyter-widgets/controls",
     "model_module_version": "1.5.0",
     "model_name": "ProgressStyleModel",
     "state": {
      "_model_module": "@jupyter-widgets/controls",
      "_model_module_version": "1.5.0",
      "_model_name": "ProgressStyleModel",
      "_view_count": null,
      "_view_module": "@jupyter-widgets/base",
      "_view_module_version": "1.2.0",
      "_view_name": "StyleView",
      "bar_color": null,
      "description_width": ""
     }
    },
    "c7b849cdaf324e108283b9930d31ec7e": {
     "model_module": "@jupyter-widgets/controls",
     "model_module_version": "1.5.0",
     "model_name": "DescriptionStyleModel",
     "state": {
      "_model_module": "@jupyter-widgets/controls",
      "_model_module_version": "1.5.0",
      "_model_name": "DescriptionStyleModel",
      "_view_count": null,
      "_view_module": "@jupyter-widgets/base",
      "_view_module_version": "1.2.0",
      "_view_name": "StyleView",
      "description_width": ""
     }
    },
    "c9f368ede2d24e3095242e9a3cf8c545": {
     "model_module": "@jupyter-widgets/controls",
     "model_module_version": "1.5.0",
     "model_name": "HTMLModel",
     "state": {
      "_dom_classes": [],
      "_model_module": "@jupyter-widgets/controls",
      "_model_module_version": "1.5.0",
      "_model_name": "HTMLModel",
      "_view_count": null,
      "_view_module": "@jupyter-widgets/controls",
      "_view_module_version": "1.5.0",
      "_view_name": "HTMLView",
      "description": "",
      "description_tooltip": null,
      "layout": "IPY_MODEL_937dd0c1d06e4d69824b7be991cc52f0",
      "placeholder": "​",
      "style": "IPY_MODEL_11cc64e4ce0843ae88a651762d68b844",
      "value": "Downloading special_tokens_map.json: 100%"
     }
    },
    "cfd1b9e85db447fbaf01f66f6f0f6429": {
     "model_module": "@jupyter-widgets/controls",
     "model_module_version": "1.5.0",
     "model_name": "HTMLModel",
     "state": {
      "_dom_classes": [],
      "_model_module": "@jupyter-widgets/controls",
      "_model_module_version": "1.5.0",
      "_model_name": "HTMLModel",
      "_view_count": null,
      "_view_module": "@jupyter-widgets/controls",
      "_view_module_version": "1.5.0",
      "_view_name": "HTMLView",
      "description": "",
      "description_tooltip": null,
      "layout": "IPY_MODEL_2dc2139703bb4448969390f2a91e00f6",
      "placeholder": "​",
      "style": "IPY_MODEL_46351ebb1bfd41b5b9fbc4de40e218e3",
      "value": "Downloading tokenizer_config.json: 100%"
     }
    },
    "d2a46f9221b14f86a3330510812f258e": {
     "model_module": "@jupyter-widgets/controls",
     "model_module_version": "1.5.0",
     "model_name": "DescriptionStyleModel",
     "state": {
      "_model_module": "@jupyter-widgets/controls",
      "_model_module_version": "1.5.0",
      "_model_name": "DescriptionStyleModel",
      "_view_count": null,
      "_view_module": "@jupyter-widgets/base",
      "_view_module_version": "1.2.0",
      "_view_name": "StyleView",
      "description_width": ""
     }
    },
    "d337eb6795e241389d9b35805a59fc22": {
     "model_module": "@jupyter-widgets/controls",
     "model_module_version": "1.5.0",
     "model_name": "ProgressStyleModel",
     "state": {
      "_model_module": "@jupyter-widgets/controls",
      "_model_module_version": "1.5.0",
      "_model_name": "ProgressStyleModel",
      "_view_count": null,
      "_view_module": "@jupyter-widgets/base",
      "_view_module_version": "1.2.0",
      "_view_name": "StyleView",
      "bar_color": null,
      "description_width": ""
     }
    },
    "d6bc8aac6ca74bff92bba66f17c20b00": {
     "model_module": "@jupyter-widgets/controls",
     "model_module_version": "1.5.0",
     "model_name": "FloatProgressModel",
     "state": {
      "_dom_classes": [],
      "_model_module": "@jupyter-widgets/controls",
      "_model_module_version": "1.5.0",
      "_model_name": "FloatProgressModel",
      "_view_count": null,
      "_view_module": "@jupyter-widgets/controls",
      "_view_module_version": "1.5.0",
      "_view_name": "ProgressView",
      "bar_style": "success",
      "description": "",
      "description_tooltip": null,
      "layout": "IPY_MODEL_a0880f15772d4156a9eb94d6314c2d9e",
      "max": 805634,
      "min": 0,
      "orientation": "horizontal",
      "style": "IPY_MODEL_d337eb6795e241389d9b35805a59fc22",
      "value": 805634
     }
    },
    "d808ec79b0dd465a82077ca7f2c8feb6": {
     "model_module": "@jupyter-widgets/base",
     "model_module_version": "1.2.0",
     "model_name": "LayoutModel",
     "state": {
      "_model_module": "@jupyter-widgets/base",
      "_model_module_version": "1.2.0",
      "_model_name": "LayoutModel",
      "_view_count": null,
      "_view_module": "@jupyter-widgets/base",
      "_view_module_version": "1.2.0",
      "_view_name": "LayoutView",
      "align_content": null,
      "align_items": null,
      "align_self": null,
      "border": null,
      "bottom": null,
      "display": null,
      "flex": null,
      "flex_flow": null,
      "grid_area": null,
      "grid_auto_columns": null,
      "grid_auto_flow": null,
      "grid_auto_rows": null,
      "grid_column": null,
      "grid_gap": null,
      "grid_row": null,
      "grid_template_areas": null,
      "grid_template_columns": null,
      "grid_template_rows": null,
      "height": null,
      "justify_content": null,
      "justify_items": null,
      "left": null,
      "margin": null,
      "max_height": null,
      "max_width": null,
      "min_height": null,
      "min_width": null,
      "object_fit": null,
      "object_position": null,
      "order": null,
      "overflow": null,
      "overflow_x": null,
      "overflow_y": null,
      "padding": null,
      "right": null,
      "top": null,
      "visibility": null,
      "width": null
     }
    },
    "dd6aadfe79224713b5a47dd108ff71b9": {
     "model_module": "@jupyter-widgets/controls",
     "model_module_version": "1.5.0",
     "model_name": "HBoxModel",
     "state": {
      "_dom_classes": [],
      "_model_module": "@jupyter-widgets/controls",
      "_model_module_version": "1.5.0",
      "_model_name": "HBoxModel",
      "_view_count": null,
      "_view_module": "@jupyter-widgets/controls",
      "_view_module_version": "1.5.0",
      "_view_name": "HBoxView",
      "box_style": "",
      "children": [
       "IPY_MODEL_cfd1b9e85db447fbaf01f66f6f0f6429",
       "IPY_MODEL_705cf2ba17614d51853eeb9dfc74d540",
       "IPY_MODEL_83cf06c42be34c068dbbf6fcc5cfd6d5"
      ],
      "layout": "IPY_MODEL_9a9b67b9ebf94a13a95e759a696c884f"
     }
    },
    "e13d9164a1a6418b87f8fc9f2f5d10eb": {
     "model_module": "@jupyter-widgets/base",
     "model_module_version": "1.2.0",
     "model_name": "LayoutModel",
     "state": {
      "_model_module": "@jupyter-widgets/base",
      "_model_module_version": "1.2.0",
      "_model_name": "LayoutModel",
      "_view_count": null,
      "_view_module": "@jupyter-widgets/base",
      "_view_module_version": "1.2.0",
      "_view_name": "LayoutView",
      "align_content": null,
      "align_items": null,
      "align_self": null,
      "border": null,
      "bottom": null,
      "display": null,
      "flex": null,
      "flex_flow": null,
      "grid_area": null,
      "grid_auto_columns": null,
      "grid_auto_flow": null,
      "grid_auto_rows": null,
      "grid_column": null,
      "grid_gap": null,
      "grid_row": null,
      "grid_template_areas": null,
      "grid_template_columns": null,
      "grid_template_rows": null,
      "height": null,
      "justify_content": null,
      "justify_items": null,
      "left": null,
      "margin": null,
      "max_height": null,
      "max_width": null,
      "min_height": null,
      "min_width": null,
      "object_fit": null,
      "object_position": null,
      "order": null,
      "overflow": null,
      "overflow_x": null,
      "overflow_y": null,
      "padding": null,
      "right": null,
      "top": null,
      "visibility": null,
      "width": null
     }
    },
    "e72ccacac3434f939cd0e4adfb3bcc4d": {
     "model_module": "@jupyter-widgets/controls",
     "model_module_version": "1.5.0",
     "model_name": "HTMLModel",
     "state": {
      "_dom_classes": [],
      "_model_module": "@jupyter-widgets/controls",
      "_model_module_version": "1.5.0",
      "_model_name": "HTMLModel",
      "_view_count": null,
      "_view_module": "@jupyter-widgets/controls",
      "_view_module_version": "1.5.0",
      "_view_name": "HTMLView",
      "description": "",
      "description_tooltip": null,
      "layout": "IPY_MODEL_50d37681841a449094298dcb52ff9059",
      "placeholder": "​",
      "style": "IPY_MODEL_9f37d02a0ba944dc9633a68d71891f87",
      "value": " 479/479 [00:00&lt;00:00, 13.7kB/s]"
     }
    },
    "efd4beed83d947b9a5eec5918dcd2319": {
     "model_module": "@jupyter-widgets/base",
     "model_module_version": "1.2.0",
     "model_name": "LayoutModel",
     "state": {
      "_model_module": "@jupyter-widgets/base",
      "_model_module_version": "1.2.0",
      "_model_name": "LayoutModel",
      "_view_count": null,
      "_view_module": "@jupyter-widgets/base",
      "_view_module_version": "1.2.0",
      "_view_name": "LayoutView",
      "align_content": null,
      "align_items": null,
      "align_self": null,
      "border": null,
      "bottom": null,
      "display": null,
      "flex": null,
      "flex_flow": null,
      "grid_area": null,
      "grid_auto_columns": null,
      "grid_auto_flow": null,
      "grid_auto_rows": null,
      "grid_column": null,
      "grid_gap": null,
      "grid_row": null,
      "grid_template_areas": null,
      "grid_template_columns": null,
      "grid_template_rows": null,
      "height": null,
      "justify_content": null,
      "justify_items": null,
      "left": null,
      "margin": null,
      "max_height": null,
      "max_width": null,
      "min_height": null,
      "min_width": null,
      "object_fit": null,
      "object_position": null,
      "order": null,
      "overflow": null,
      "overflow_x": null,
      "overflow_y": null,
      "padding": null,
      "right": null,
      "top": null,
      "visibility": null,
      "width": null
     }
    },
    "f629f372d73b44efb31e8d7c5a45d4cd": {
     "model_module": "@jupyter-widgets/base",
     "model_module_version": "1.2.0",
     "model_name": "LayoutModel",
     "state": {
      "_model_module": "@jupyter-widgets/base",
      "_model_module_version": "1.2.0",
      "_model_name": "LayoutModel",
      "_view_count": null,
      "_view_module": "@jupyter-widgets/base",
      "_view_module_version": "1.2.0",
      "_view_name": "LayoutView",
      "align_content": null,
      "align_items": null,
      "align_self": null,
      "border": null,
      "bottom": null,
      "display": null,
      "flex": null,
      "flex_flow": null,
      "grid_area": null,
      "grid_auto_columns": null,
      "grid_auto_flow": null,
      "grid_auto_rows": null,
      "grid_column": null,
      "grid_gap": null,
      "grid_row": null,
      "grid_template_areas": null,
      "grid_template_columns": null,
      "grid_template_rows": null,
      "height": null,
      "justify_content": null,
      "justify_items": null,
      "left": null,
      "margin": null,
      "max_height": null,
      "max_width": null,
      "min_height": null,
      "min_width": null,
      "object_fit": null,
      "object_position": null,
      "order": null,
      "overflow": null,
      "overflow_x": null,
      "overflow_y": null,
      "padding": null,
      "right": null,
      "top": null,
      "visibility": null,
      "width": null
     }
    },
    "f69e8de282434b9aa8a457a73593d080": {
     "model_module": "@jupyter-widgets/controls",
     "model_module_version": "1.5.0",
     "model_name": "FloatProgressModel",
     "state": {
      "_dom_classes": [],
      "_model_module": "@jupyter-widgets/controls",
      "_model_module_version": "1.5.0",
      "_model_name": "FloatProgressModel",
      "_view_count": null,
      "_view_module": "@jupyter-widgets/controls",
      "_view_module_version": "1.5.0",
      "_view_name": "ProgressView",
      "bar_style": "success",
      "description": "",
      "description_tooltip": null,
      "layout": "IPY_MODEL_a6e9829602e047f5ab93e3dfb66195cb",
      "max": 445021143,
      "min": 0,
      "orientation": "horizontal",
      "style": "IPY_MODEL_baa09b17fcba4d8593e8155907a72c31",
      "value": 445021143
     }
    },
    "fa68d1e07ae94cd2824d767335a63c64": {
     "model_module": "@jupyter-widgets/controls",
     "model_module_version": "1.5.0",
     "model_name": "HTMLModel",
     "state": {
      "_dom_classes": [],
      "_model_module": "@jupyter-widgets/controls",
      "_model_module_version": "1.5.0",
      "_model_name": "HTMLModel",
      "_view_count": null,
      "_view_module": "@jupyter-widgets/controls",
      "_view_module_version": "1.5.0",
      "_view_name": "HTMLView",
      "description": "",
      "description_tooltip": null,
      "layout": "IPY_MODEL_e13d9164a1a6418b87f8fc9f2f5d10eb",
      "placeholder": "​",
      "style": "IPY_MODEL_c7b849cdaf324e108283b9930d31ec7e",
      "value": "Downloading pytorch_model.bin: 100%"
     }
    },
    "fe1020e5f4eb483fa3fce57764a2508c": {
     "model_module": "@jupyter-widgets/controls",
     "model_module_version": "1.5.0",
     "model_name": "DescriptionStyleModel",
     "state": {
      "_model_module": "@jupyter-widgets/controls",
      "_model_module_version": "1.5.0",
      "_model_name": "DescriptionStyleModel",
      "_view_count": null,
      "_view_module": "@jupyter-widgets/base",
      "_view_module_version": "1.2.0",
      "_view_name": "StyleView",
      "description_width": ""
     }
    }
   }
  }
 },
 "nbformat": 4,
 "nbformat_minor": 1
}
