{
 "cells": [
  {
   "cell_type": "markdown",
   "metadata": {
    "id": "0wcOk2ZzAAQr"
   },
   "source": [
    "# Hugging Face Library 'Transformer'およびT5Tokenizerのダウンロード\n",
    "\n",
    "参考( https://qiita.com/takubb/items/fd972f0ac3dba909c293 )これを基に改造し、最新のGoogle Colaboratoryで動作するようにした"
   ]
  },
  {
   "cell_type": "code",
   "execution_count": 1,
   "metadata": {},
   "outputs": [
    {
     "name": "stdout",
     "output_type": "stream",
     "text": [
      "num_of_learn: 100  max_epoch: 20  num_of_batch: 64  articletype: dokujo_it\n",
      "l:100_e:20_b:64_t:n_r:1_i:3_d:0.15_s:2_a:dokujo_it\n"
     ]
    }
   ],
   "source": [
    "import argparse\n",
    "import wandb\n",
    "\n",
    "parser = argparse.ArgumentParser(description='liBERTy testbed')\n",
    "#tp = lambda x:list(map(str, x.split(',')))\n",
    "parser.add_argument('-l', '--num_of_learn', type=int, default=100,\n",
    "    help='number (default 100) of learn, which determins the rate of dataset for the use of learning.')\n",
    "parser.add_argument('-v', '--num_of_validation', type=int, default=200,\n",
    "    help='number of validation to shorten the validation time.')\n",
    "parser.add_argument('-e', '--max_epoch', type=int, default=20, \n",
    "    help='number (default 20) of epoch to be executed for learning loop')\n",
    "parser.add_argument('-b', '--batch_size', type=int, default=64, \n",
    "    help='size (defaualt 64) of batch for learning process')\n",
    "parser.add_argument('-a', '--article_type', type=int, default=0, choices=[0,1], \n",
    "    help='article type (0: dokujo_it=default, 1:dokujo_peachy')\n",
    "parser.add_argument('-t', '--transformflags', default = 'n', #default='rids', \n",
    "    help='NLP-JP transformer (default n) r:synreplace i:randinsert d:randdelete s:randswap n:none')\n",
    "parser.add_argument('-r', '--synreplace_rate', type=int, default=1, \n",
    "    help='rate (default 1) of synreplace_rate par sentence as int for transformers.')\n",
    "parser.add_argument('-i', '--randinsert_rate', type=int, default=3, \n",
    "    help='rate (default 3) of randinsert of dataset par sentence as int for transformers.')\n",
    "parser.add_argument('-d', '--randdelete_rate', type=float, default=0.15, \n",
    "    help='probability (default 0.15) of lranddelete in a sentence as float of dataset for transformers.')\n",
    "parser.add_argument('-s', '--randswap_rate', type=int, default=2, \n",
    "    help='rate (default 2) of randswap of dataset per sentence as int for transformers.')\n",
    "parser.add_argument('-f', '--jupyter', default='CMD', \n",
    "    help='executed from jupyter')\n",
    "args = parser.parse_args()\n",
    "\n",
    "if args.jupyter == 'CMD':\n",
    "    numof_learn = args.num_of_learn\n",
    "    numof_validation = args.num_of_validation\n",
    "    max_epoch = args.max_epoch\n",
    "    batch_size = args.batch_size\n",
    "    transformflags = args.transformflags\n",
    "    synreplace_rate = args.synreplace_rate\n",
    "    randinsert_rate = args.randinsert_rate\n",
    "    randdelete_rate = args.randdelete_rate\n",
    "    randswap_rate = args.randswap_rate\n",
    "    articletype = args.article_type\n",
    "else:\n",
    "    numof_learn = 100\n",
    "    numof_validation = 200\n",
    "    max_epoch = 20\n",
    "    batch_size = 64\n",
    "    transformflags = 'n' #'rids'\n",
    "    synreplace_rate = 1\n",
    "    randinsert_rate = 3\n",
    "    randdelete_rate = 0.15\n",
    "    randswap_rate = 2   \n",
    "    articletype = 0\n",
    "articlelabel = ['dokujo_it', 'dokujo_peachy']\n",
    "print(\"num_of_learn:\",numof_learn,\" max_epoch:\", max_epoch,\" num_of_batch:\", batch_size,\n",
    "      \" articletype:\", articlelabel[articletype])\n",
    "filestr = \"l:\"+str(numof_learn)+\"_e:\"+str(max_epoch)+\"_b:\"+str(batch_size)+\"_t:\"+transformflags+\\\n",
    "    \"_r:\"+str(synreplace_rate)+'_i:'+str(randinsert_rate)+'_d:'+str(randdelete_rate)+'_s:'+str(randswap_rate)+\\\n",
    "    \"_a:\"+articlelabel[articletype]\n",
    "print(filestr)\n",
    "transformflags = list(transformflags)"
   ]
  },
  {
   "cell_type": "code",
   "execution_count": 2,
   "metadata": {
    "colab": {
     "base_uri": "https://localhost:8080/",
     "height": 1000,
     "referenced_widgets": [
      "0b407dd3170f4f55be7f8708c59d262b",
      "5616789e354d45699ea2040757dbd5c3",
      "d6bc8aac6ca74bff92bba66f17c20b00",
      "96fb1e06ef4349b5b6a071be230a711c",
      "8d05e54e5fc644d2a3c974758c5e439c",
      "9a20acb0a8fc4320af5a849c9d780649",
      "45555846fc9746af9a06d76c6c9aee1b",
      "a0880f15772d4156a9eb94d6314c2d9e",
      "d337eb6795e241389d9b35805a59fc22",
      "efd4beed83d947b9a5eec5918dcd2319",
      "1aff4434a10549e387f749140d4721f4",
      "73fb8df2799443d996d165878dc526a8",
      "c9f368ede2d24e3095242e9a3cf8c545",
      "4535f833bfac4540a8add9686f623b54",
      "7803695cfa5742bf85208ee04193acb0",
      "423c0b6849204bbc96c7b039633373f9",
      "937dd0c1d06e4d69824b7be991cc52f0",
      "11cc64e4ce0843ae88a651762d68b844",
      "9279616c547b47de92a436ebb026fd79",
      "b3910389daf34e31af5f33ef7d539625",
      "d808ec79b0dd465a82077ca7f2c8feb6",
      "d2a46f9221b14f86a3330510812f258e",
      "dd6aadfe79224713b5a47dd108ff71b9",
      "cfd1b9e85db447fbaf01f66f6f0f6429",
      "705cf2ba17614d51853eeb9dfc74d540",
      "83cf06c42be34c068dbbf6fcc5cfd6d5",
      "9a9b67b9ebf94a13a95e759a696c884f",
      "2dc2139703bb4448969390f2a91e00f6",
      "46351ebb1bfd41b5b9fbc4de40e218e3",
      "3994b8f69c284d758c5f04deeb3fcca1",
      "08a0764a15bb4b45ab9bfdbe3a02c318",
      "f629f372d73b44efb31e8d7c5a45d4cd",
      "93c25b4c96e64fecbb7f569527e50722"
     ]
    },
    "executionInfo": {
     "elapsed": 30796,
     "status": "ok",
     "timestamp": 1661865111605,
     "user": {
      "displayName": "西梓",
      "userId": "09370432736438252128"
     },
     "user_tz": -540
    },
    "id": "DJ__bXJq_06p",
    "outputId": "b2d9fbba-45cc-4348-fadf-7b15798ffd4b"
   },
   "outputs": [],
   "source": [
    "#!export CUDA_LAUNCH_BLOCKING=1\n",
    "# !pip install torch\n",
    "#!pip install torchvision\n",
    "#!pip install transformers\n",
    "#!apt install swig\n",
    "#!pip install sentencepiece\n",
    "#!pip install mecab-python3\n",
    "from transformers import T5Tokenizer\n",
    "tokenizer = T5Tokenizer.from_pretrained(\"rinna/japanese-roberta-base\")\n",
    "tokenizer.do_lower_case = True  # due to some bug of tokenizer config loading"
   ]
  },
  {
   "cell_type": "code",
   "execution_count": 3,
   "metadata": {},
   "outputs": [],
   "source": [
    "import os\n",
    "#os.environ['CUDA_LAUNCH_BLOCKING'] = \"1\"  # pytorchを同期実行させる\n",
    "#os.environ['KMP_DUPLICATE_LIB_OK']='TRUE' # ライブラリ重複を無視\n",
    "import gzip\n",
    "import shutil\n",
    "import random\n",
    "from math import ceil\n",
    "import re\n",
    "import csv\n",
    "import glob\n",
    "import torchvision\n",
    "import statistics\n",
    "import numpy as np\n",
    "import statistics\n",
    "import MeCab\n",
    "import copy\n",
    "import scipy.stats as stats\n",
    "\n",
    "import warnings\n",
    "warnings.filterwarnings('ignore')"
   ]
  },
  {
   "cell_type": "markdown",
   "metadata": {
    "id": "wpCa2h0oAU51"
   },
   "source": [
    "# PyTorchとGPU設定"
   ]
  },
  {
   "cell_type": "code",
   "execution_count": 4,
   "metadata": {
    "colab": {
     "base_uri": "https://localhost:8080/"
    },
    "executionInfo": {
     "elapsed": 5548,
     "status": "ok",
     "timestamp": 1661865117146,
     "user": {
      "displayName": "西梓",
      "userId": "09370432736438252128"
     },
     "user_tz": -540
    },
    "id": "hLV4lS8CAWCZ",
    "outputId": "6fa5cea1-0ec6-4aa3-82d5-53328e8b1c8c"
   },
   "outputs": [
    {
     "name": "stdout",
     "output_type": "stream",
     "text": [
      "cuda:0\n"
     ]
    }
   ],
   "source": [
    "#!pip install torch\n",
    "import torch\n",
    "# GPUが使えれば利用する設定\n",
    "device = torch.device(\"cuda:0\" if torch.cuda.is_available() else \"cpu\")\n",
    "print(device)"
   ]
  },
  {
   "cell_type": "code",
   "execution_count": 5,
   "metadata": {},
   "outputs": [],
   "source": [
    "def torch_fix_seed(seed=24):\n",
    "    random.seed(seed)\n",
    "    np.random.seed(seed)\n",
    "    torch.manual_seed(seed)\n",
    "    torch.cuda.manual_seed(seed)\n",
    "    torch.backends.cudnn.deterministic = True\n",
    "    torch.use_deterministic_algorithms = True\n",
    "torch_fix_seed()"
   ]
  },
  {
   "cell_type": "markdown",
   "metadata": {},
   "source": [
    "# Data Augmentation kansuu"
   ]
  },
  {
   "cell_type": "code",
   "execution_count": 6,
   "metadata": {},
   "outputs": [],
   "source": [
    "from transformers import RobertaForMaskedLM\n",
    "robertamodel = RobertaForMaskedLM.from_pretrained(\"rinna/japanese-roberta-base\")"
   ]
  },
  {
   "cell_type": "code",
   "execution_count": 7,
   "metadata": {},
   "outputs": [],
   "source": [
    "# synreplace - replace kasho kosuu\n",
    "# randinsert - tasu kotoba no kazu\n",
    "# randdelete - delete kakuritsu\n",
    "# randswap - swap kaisuu\n",
    "\n",
    "class synreplace(object):\n",
    "    def __init__(self, num):\n",
    "        self.num = num\n",
    "    def __call__(self, textlist):\n",
    "        # textlist: honbun no list\n",
    "        textlen = torch.where(textlist == 3)[0][0]\n",
    "        for n in range(self.num):\n",
    "            # chikan shiro\n",
    "            masked_idx = random.randint(2, textlen-1)\n",
    "            textlist[masked_idx] = 6\n",
    "            # convert to tensor\n",
    "            token_tensor = torch.tensor(textlist)\n",
    "            # get the top 10 predictions of the masked token\n",
    "            self.model = robertamodel.eval()\n",
    "            with torch.no_grad():\n",
    "                outputs = self.model(torch.unsqueeze(token_tensor, 0))\n",
    "                predictions = outputs[0][0, masked_idx].topk(1)\n",
    "            for i, index_t in enumerate(predictions.indices):\n",
    "                index = index_t.item()\n",
    "            textlist[masked_idx] = index\n",
    "        return textlist\n",
    "\n",
    "class randinsert(object):\n",
    "    def __init__(self, num):\n",
    "        self.num = num\n",
    "    def __call__(self, textlist):\n",
    "        for n in range(self.num):\n",
    "            insword = textlist[random.randint(1,len(textlist)-1)]\n",
    "            i = random.randint(1,len(textlist)-1)\n",
    "#            print('len: ', len(textlist))\n",
    "#            print(i)\n",
    "            while textlist[i] == 3 or  textlist[i] == 9:\n",
    "                i = random.randint(1,len(textlist)-1)\n",
    "#                print(i)\n",
    "            textlist = torch.cat([textlist[0:i], torch.tensor([insword]), textlist[i:-1]])\n",
    "        return textlist\n",
    "\n",
    "class randdelete(object):\n",
    "    def __init__(self, num):\n",
    "        self.num = num\n",
    "    def __call__(self, textlist):\n",
    "#        print(textlist.shape)\n",
    "        for i in range(3,len(textlist)-1):\n",
    "            if textlist[i] == 3 or  textlist[i] == 9:\n",
    "                continue\n",
    "            r = random.uniform(0, 1)\n",
    "            if r < self.num:\n",
    "#                textlist.pop(i)\n",
    "                textlist = torch.cat([textlist[0:i], textlist[i+1:], torch.tensor([3])])\n",
    "#                print(textlist)\n",
    "        return textlist\n",
    "\n",
    "class randswap(object):\n",
    "    def __init__(self, num):\n",
    "        self.num = num\n",
    "    def __call__(self, textlist):\n",
    "        counter = 0\n",
    "        #rs_sents = np.zeros(len(textlist), dtype=object)\n",
    "        for i in range(len(textlist)):\n",
    "            while self.num > counter:\n",
    "                box = 0\n",
    "                random_idx_1 = random.randint(1, len(textlist)-1)\n",
    "                while textlist[random_idx_1] == 3 or textlist[random_idx_1] == 9:\n",
    "                    random_idx_1 = random.randint(0, len(textlist)-1)\n",
    "                random_idx_2 = random.randint(1, len(textlist)-1)\n",
    "                while random_idx_1 == random_idx_2 or textlist[random_idx_2] == 3 or textlist[random_idx_1] == 9:\n",
    "                    random_idx_2 = random.randint(0, len(textlist)-1)\n",
    "                    # print(random_idx_1, random_idx_2)\n",
    "                box = textlist[random_idx_1]\n",
    "                textlist[random_idx_1] = textlist[random_idx_2]\n",
    "                textlist[random_idx_2] = box\n",
    "                counter += 1\n",
    "        return textlist"
   ]
  },
  {
   "cell_type": "markdown",
   "metadata": {},
   "source": [
    "# Custom Tensor Dataset\n",
    "https://stackoverflow.com/questions/55588201/pytorch-transforms-on-tensordataset"
   ]
  },
  {
   "cell_type": "markdown",
   "metadata": {},
   "source": [
    "# データセットの準備"
   ]
  },
  {
   "cell_type": "markdown",
   "metadata": {},
   "source": [
    "ライブドアニュースコーパスをダウンロード\n",
    "\n",
    "    ダウンロードしたファイルは圧縮（tar.gz形式）ファイル\n",
    "    様々なジャンル（IT,スポーツ,家電,映画など）のWEBメディアごとにフォルダに記事がテキストファイルで保存されている\n",
    "    \n",
    "以下、ファイルを読み込んで、必要な部分を抽出"
   ]
  },
  {
   "cell_type": "code",
   "execution_count": 8,
   "metadata": {},
   "outputs": [],
   "source": [
    "#処理をした結果を保存するファイル名 \n",
    "tsv_fname = \"all_text.tsv\" \n",
    "'''\n",
    "#urllib.request.urlretrieve(\"https://www.rondhuit.com/download/ldcc-20140209.tar.gz\", \"ldcc-20140209.tar.gz\")\n",
    "# ダウンロードした圧縮ファイルのパスを設定\n",
    "#tgz_fname = \"ldcc-20140209.tar.gz\" \n",
    "# 2つをニュースメディアのジャンルを選定\n",
    "mydata = '/export/livedoor' \n",
    "'''\n",
    "def remove_brackets(inp):\n",
    "    output = re.sub(u'[〃-〿]', '',(re.sub('＝|=|×|\\(|\\)|“|”|（|）|／|\\[|\\]| |　|…|・|\\n|\\t|/|＜|＞|@|＠', '', re.sub(u'[ℊ-⿻]', '', inp)))) #210A ~ 2FFF\n",
    "    return output\n",
    "\n",
    "def read_title(f):\n",
    "    next(f)\n",
    "    next(f)\n",
    "    title = next(f)\n",
    "    title = remove_brackets(title.encode().decode('utf-8'))\n",
    "    return title[:-1]\n",
    "\n",
    "def read_para(f):\n",
    "    p = ''\n",
    "    while True:\n",
    "        try:\n",
    "            para = next(f)\n",
    "            para = remove_brackets(para.encode().decode('utf-8'))\n",
    "            p += para\n",
    "        except StopIteration:\n",
    "            break\n",
    "    return p [:-1]"
   ]
  },
  {
   "cell_type": "code",
   "execution_count": 9,
   "metadata": {},
   "outputs": [],
   "source": [
    "if articletype == 0:\n",
    "    directory = ['/export/livedoor/dokujo-tsushin', '/export/livedoor/it-life-hack']\n",
    "    target_genre = [\"dokujo-tsushin\", \"it-life-hack\"]\n",
    "elif articletype == 1:\n",
    "    directory = ['/export/livedoor/dokujo-tsushin', '/export/livedoor/peachy']\n",
    "    target_genre = [\"dokujo-tsushin\", \"peachy\"]\n",
    "else:\n",
    "    print('No articles')\n",
    "    exit()\n",
    "\n",
    "zero_fnames = []\n",
    "one_fnames = []\n",
    "\n",
    "if os.path.exists(tsv_fname) == True:\n",
    "    with open(tsv_fname, \"r+\") as f:\n",
    "        f.truncate(0)\n",
    "        \n",
    "for i in range(2):\n",
    "    for filename in os.listdir(directory[i]):\n",
    "        if \"LICENSE.txt\" in filename:\n",
    "            continue\n",
    "        f = os.path.join(directory[i], filename)\n",
    "#        if os.path.isfile(f):\n",
    "#            print(f)\n",
    "        if target_genre[0] in f and f.endswith(\".txt\"):\n",
    "            with open(tsv_fname, \"a\") as wf:\n",
    "                writer = csv.writer(wf, delimiter='\\t')\n",
    "                with open(f) as zf:\n",
    "                    title = read_title(zf)\n",
    "                    para = read_para(zf)\n",
    "                    row = [target_genre[0], '0', title, para]\n",
    "                    writer.writerow(row)\n",
    "            continue\n",
    "        if target_genre[1] in f and f.endswith(\".txt\"):\n",
    "            with open(tsv_fname, \"a\") as wf:\n",
    "                writer = csv.writer(wf, delimiter='\\t')\n",
    "                with open(f) as zf:\n",
    "                    title = read_title(zf)\n",
    "                    para = read_para(zf)\n",
    "                    row = [target_genre[1], '1', title, para]\n",
    "                    writer.writerow(row)\n",
    "            continue"
   ]
  },
  {
   "cell_type": "markdown",
   "metadata": {
    "id": "MHvN-a5eBOAz"
   },
   "source": [
    "pandasでデータを読み込み"
   ]
  },
  {
   "cell_type": "code",
   "execution_count": 10,
   "metadata": {
    "colab": {
     "base_uri": "https://localhost:8080/",
     "height": 381
    },
    "executionInfo": {
     "elapsed": 31,
     "status": "ok",
     "timestamp": 1661699114833,
     "user": {
      "displayName": "西梓",
      "userId": "09370432736438252128"
     },
     "user_tz": -540
    },
    "id": "ks8ElHxNBLkJ",
    "outputId": "ec1e362f-f5e8-4e46-a292-61b26861585d"
   },
   "outputs": [],
   "source": [
    "import pandas as pd\n",
    "# データの読み込み\n",
    "df = pd.read_csv(\"all_text.tsv\", \n",
    "                 delimiter='\\t', header=None, names=['media_name', 'label','title','sentence'])\n",
    "\n",
    "if articletype == 0:\n",
    "    df_ = pd.read_csv(\"summary_set_dokujo_it.tsv\", \n",
    "                     delimiter='\\t', header=None, names=['summaries'])\n",
    "elif articletype == 1:\n",
    "    df_ = pd.read_csv(\"summary_set_dokujo_peachy.tsv\", \n",
    "                     delimiter='\\t', header=None, names=['summaries'])\n",
    "\n",
    "# データの確認\n",
    "#print(f'データサイズ： {df.shape}')\n",
    "#print(df_.sample(10))"
   ]
  },
  {
   "cell_type": "markdown",
   "metadata": {
    "id": "5JN4ssEmBWda"
   },
   "source": [
    "//文章データをsentences、ラベルデータを labelsに保存、以降この2変数だけを利用"
   ]
  },
  {
   "cell_type": "code",
   "execution_count": 11,
   "metadata": {},
   "outputs": [],
   "source": [
    "mn = df.media_name.values\n",
    "labels = df.label.values\n",
    "titles = df.title.values\n",
    "sentences = df.sentence.values\n",
    "summaries = df_.summaries.values"
   ]
  },
  {
   "cell_type": "code",
   "execution_count": 12,
   "metadata": {},
   "outputs": [],
   "source": [
    "#print(\"len of summaries:\",len(summaries))"
   ]
  },
  {
   "cell_type": "code",
   "execution_count": 13,
   "metadata": {},
   "outputs": [],
   "source": [
    "tagger = MeCab.Tagger(\"-Owakati\")\n",
    "\n",
    "def make_wakati(sentence):\n",
    "  # MeCabで分かち書きを行う\n",
    "    sentence = tagger.parse(sentence)\n",
    "  # 半角全角英数字などは削除する\n",
    "#    sentence = re.sub(r'[0-9０-９a-zA-Zａ-ｚＡ-Ｚ]+', \" \", sentence)\n",
    "  # 記号なども削除する\n",
    "#    sentence = re.sub(r'[\\．_－―─！＠＃＄％＾＆\\-‐|\\\\＊\\“（）＿■×+α※÷⇒—●★☆〇◎◆▼◇△□(：〜～＋=)／*&^%$#@!~`){}［］…\\[\\]\\\"\\'\\”\\’:;<>?＜＞〔〕〈〉？、。・,\\./『』【】「」→←○《》≪≫\\n\\u3000]+', \"\", sentence)\n",
    "  # スペース区切で形態素の配列に変換する\n",
    "    wakati = sentence.split(\" \")\n",
    "  # 空要素を削除する\n",
    "    wakati = list(filter((\"\").__ne__, wakati))\n",
    "    return wakati"
   ]
  },
  {
   "cell_type": "code",
   "execution_count": 14,
   "metadata": {},
   "outputs": [],
   "source": [
    "wakati_sentences = []\n",
    "\n",
    "for i in range(len(sentences)):\n",
    "    wakati_sentences.append(make_wakati(sentences[i]))"
   ]
  },
  {
   "cell_type": "code",
   "execution_count": 15,
   "metadata": {},
   "outputs": [],
   "source": [
    "wcount = 256\n",
    "\n",
    "h_sentences = []\n",
    "t_sentences = []\n",
    "\n",
    "# wcount moji me kara kesu\n",
    "\n",
    "for i in enumerate(wakati_sentences):\n",
    "    h_len = 0\n",
    "    hn = 0\n",
    "    h_len += len(wakati_sentences[i[0]][0])\n",
    "    while h_len < wcount:\n",
    "        try:\n",
    "            hn += 1\n",
    "            if wakati_sentences[i[0]][hn]:\n",
    "#                print(hn, wakati_sentences[i[0]][hn])\n",
    "                h_len += len(wakati_sentences[i[0]][hn])\n",
    "        except IndexError:\n",
    "            break\n",
    "    h_sentences.append(sentences[i[0]][:hn])\n",
    "    \n",
    "    t_len = 0\n",
    "    tn = 2\n",
    "    t_len += len(wakati_sentences[i[0]][-2])\n",
    "    while t_len < wcount:\n",
    "        try:\n",
    "            tn += 1\n",
    "            if wakati_sentences[i[0]][tn]:\n",
    "#                print(tn, wakati_sentences[i[0]][tn])\n",
    "                t_len += len(wakati_sentences[i[0]][tn])\n",
    "        except IndexError:\n",
    "            break\n",
    "    t_sentences.append(sentences[i[0]][-tn-20:-20])"
   ]
  },
  {
   "cell_type": "code",
   "execution_count": 16,
   "metadata": {},
   "outputs": [],
   "source": [
    "#print(h_sentences[0])"
   ]
  },
  {
   "cell_type": "code",
   "execution_count": 17,
   "metadata": {},
   "outputs": [],
   "source": [
    "hsentences = np.array(h_sentences)\n",
    "tsentences = np.array(t_sentences)"
   ]
  },
  {
   "cell_type": "code",
   "execution_count": 18,
   "metadata": {},
   "outputs": [],
   "source": [
    "ssentences = np.array(summaries)"
   ]
  },
  {
   "cell_type": "code",
   "execution_count": 19,
   "metadata": {},
   "outputs": [],
   "source": [
    "#print(ssentences)"
   ]
  },
  {
   "cell_type": "code",
   "execution_count": 20,
   "metadata": {},
   "outputs": [],
   "source": [
    "#print(np.array(ssentences).shape)"
   ]
  },
  {
   "cell_type": "code",
   "execution_count": 21,
   "metadata": {},
   "outputs": [],
   "source": [
    "#print(tsentences)"
   ]
  },
  {
   "cell_type": "code",
   "execution_count": 22,
   "metadata": {},
   "outputs": [],
   "source": [
    "emp = []\n",
    "asentences = np.append(emp, copy.deepcopy(sentences))\n",
    "ksentences = np.append(emp, copy.deepcopy(sentences))\n",
    "kksentences = np.append(emp, copy.deepcopy(sentences))\n",
    "\n",
    "# wcount moji me kara kesu\n",
    "for i in enumerate(sentences):\n",
    "    if len(i[1])>wcount:\n",
    "        asentences[i[0]] = sentences[i[0]][:wcount]\n",
    "\n",
    "# ushiro kara wcount moji toru\n",
    "for i in enumerate(sentences):\n",
    "    if len(i[1])>wcount:\n",
    "        ksentences[i[0]] = sentences[i[0]][-wcount:]\n",
    "\n",
    "# ushiro kara wcount moji toru ichiban ketsu wa toranai\n",
    "for i in enumerate(sentences):\n",
    "    if len(i[1])>wcount:\n",
    "        am = wcount+20\n",
    "        a = sentences[i[0]][-am:]\n",
    "        kksentences[i[0]] = a[:wcount]"
   ]
  },
  {
   "cell_type": "code",
   "execution_count": 23,
   "metadata": {},
   "outputs": [],
   "source": [
    "#print(ksentences[2])"
   ]
  },
  {
   "cell_type": "code",
   "execution_count": 24,
   "metadata": {},
   "outputs": [],
   "source": [
    "#print(kksentences[2])"
   ]
  },
  {
   "cell_type": "markdown",
   "metadata": {
    "id": "NlNaKoNRBhuo"
   },
   "source": [
    "# BERT Tokenizerを用いて単語分割・IDへ変換\n",
    "## Tokenizerの準備\n",
    "単語分割とIDへ変換"
   ]
  },
  {
   "cell_type": "markdown",
   "metadata": {
    "id": "7ueumK1gF-D2"
   },
   "source": [
    "# テスト実行"
   ]
  },
  {
   "cell_type": "code",
   "execution_count": 25,
   "metadata": {
    "colab": {
     "base_uri": "https://localhost:8080/"
    },
    "executionInfo": {
     "elapsed": 13,
     "status": "ok",
     "timestamp": 1661699115434,
     "user": {
      "displayName": "西梓",
      "userId": "09370432736438252128"
     },
     "user_tz": -540
    },
    "id": "9k0mj33mGD0I",
    "outputId": "9b3f3369-617c-4706-bbd7-7a9d1d0bb7ab"
   },
   "outputs": [],
   "source": [
    "# 最大単語数の確認\n",
    "max_len = []\n",
    "# 1文づつ処理\n",
    "for sent in hsentences:\n",
    "    # Tokenizeで分割\n",
    "    h_token_words = tokenizer.tokenize(sent)\n",
    "    # 文章数を取得してリストへ格納\n",
    "    max_len.append(len(h_token_words))\n",
    "for sent in tsentences:\n",
    "    # Tokenizeで分割\n",
    "    t_token_words = tokenizer.tokenize(sent)\n",
    "    # 文章数を取得してリストへ格納\n",
    "    max_len.append(len(t_token_words))\n",
    "# 最大の値を確認\n",
    "#print('最大単語数: ', max(max_len))\n",
    "#print('上記の最大単語数にSpecial token（[CLS], [SEP]）の+2をした値が最大単語数')"
   ]
  },
  {
   "cell_type": "code",
   "execution_count": 26,
   "metadata": {},
   "outputs": [],
   "source": [
    "def dicttoken(sentence):\n",
    "    ids = []\n",
    "    masks = []\n",
    "    for sent in sentences:\n",
    "        dict = tokenizer.encode_plus(\n",
    "                sent,                      \n",
    "                add_special_tokens = True, # Special Tokenの追加\n",
    "                max_length = wcount+2,  # I think maximum 文章の長さを固定（Padding/Trancatinating）\n",
    "                truncation=True,                \n",
    "                pad_to_max_length = True,# PADDINGで埋める\n",
    "                return_attention_mask = True,   # Attention maksの作成\n",
    "                return_tensors = 'pt'     #  Pytorch tensorsで返す\n",
    "            )\n",
    "        ids.append(dict['input_ids'])\n",
    "        masks.append(dict['attention_mask'])\n",
    "    return ids, masks"
   ]
  },
  {
   "cell_type": "code",
   "execution_count": 27,
   "metadata": {
    "colab": {
     "base_uri": "https://localhost:8080/"
    },
    "executionInfo": {
     "elapsed": 540,
     "status": "ok",
     "timestamp": 1661699115966,
     "user": {
      "displayName": "西梓",
      "userId": "09370432736438252128"
     },
     "user_tz": -540
    },
    "id": "-xsginzEGHf5",
    "outputId": "6bf49efd-8a7d-452a-f16a-dd73d5f27b8b",
    "scrolled": true
   },
   "outputs": [],
   "source": [
    "h_input_ids, h_attention_masks = dicttoken(hsentences)\n",
    "t_input_ids, t_attention_masks = dicttoken(tsentences)\n",
    "a_input_ids, a_attention_masks = dicttoken(asentences)\n",
    "k_input_ids, k_attention_masks = dicttoken(ksentences)\n",
    "kk_input_ids, kk_attention_masks = dicttoken(kksentences)\n",
    "s_input_ids, s_attention_masks = dicttoken(ssentences)"
   ]
  },
  {
   "cell_type": "code",
   "execution_count": 28,
   "metadata": {},
   "outputs": [],
   "source": [
    "# リストに入ったtensorを縦方向（dim=0）へ結合\n",
    "h_input_ids = torch.cat(h_input_ids, dim=0)\n",
    "t_input_ids = torch.cat(t_input_ids, dim=0)\n",
    "a_input_ids = torch.cat(a_input_ids, dim=0)\n",
    "k_input_ids = torch.cat(k_input_ids, dim=0)\n",
    "kk_input_ids = torch.cat(kk_input_ids, dim=0)\n",
    "s_input_ids = torch.cat(s_input_ids, dim=0)\n",
    "h_attention_masks = torch.cat(h_attention_masks, dim=0)\n",
    "t_attention_masks = torch.cat(t_attention_masks, dim=0)\n",
    "a_attention_masks = torch.cat(a_attention_masks, dim=0)\n",
    "k_attention_masks = torch.cat(k_attention_masks, dim=0)\n",
    "kk_attention_masks = torch.cat(kk_attention_masks, dim=0)\n",
    "s_attention_masks = torch.cat(s_attention_masks, dim=0)\n",
    "\n",
    "# tenosor型に変換\n",
    "labels = torch.tensor(labels)"
   ]
  },
  {
   "cell_type": "code",
   "execution_count": 29,
   "metadata": {},
   "outputs": [
    {
     "data": {
      "text/plain": [
       "\"\\nprint('Original: ', hsentences[0])\\nprint('Original: ', ssentences[0])\\nprint('Token IDs:', s_input_ids[0])\\nprint(type(labels), labels)\\nprint('head')\\nprint(torch.Tensor.size(h_input_ids))\\nprint(torch.Tensor.size(h_attention_masks))\\nprint('summary')\\nprint(torch.Tensor.size(s_input_ids))\\nprint(torch.Tensor.size(s_attention_masks))\\nprint(torch.Tensor.size(labels))\\nprint(ssentences.size)\\n\""
      ]
     },
     "execution_count": 29,
     "metadata": {},
     "output_type": "execute_result"
    }
   ],
   "source": [
    "# 確認\n",
    "'''\n",
    "print('Original: ', hsentences[0])\n",
    "print('Original: ', ssentences[0])\n",
    "print('Token IDs:', s_input_ids[0])\n",
    "print(type(labels), labels)\n",
    "print('head')\n",
    "print(torch.Tensor.size(h_input_ids))\n",
    "print(torch.Tensor.size(h_attention_masks))\n",
    "print('summary')\n",
    "print(torch.Tensor.size(s_input_ids))\n",
    "print(torch.Tensor.size(s_attention_masks))\n",
    "print(torch.Tensor.size(labels))\n",
    "print(ssentences.size)\n",
    "'''"
   ]
  },
  {
   "cell_type": "code",
   "execution_count": 30,
   "metadata": {
    "colab": {
     "base_uri": "https://localhost:8080/"
    },
    "executionInfo": {
     "elapsed": 19,
     "status": "ok",
     "timestamp": 1661699115968,
     "user": {
      "displayName": "西梓",
      "userId": "09370432736438252128"
     },
     "user_tz": -540
    },
    "id": "uX3Hz3YNGKhH",
    "outputId": "bcba9374-dc24-4067-f46c-fa3d6343511c"
   },
   "outputs": [],
   "source": [
    "from torch.utils.data import TensorDataset, random_split\n",
    "from torch.utils.data import DataLoader, RandomSampler, SequentialSampler\n",
    "from torchvision import transforms, datasets\n",
    "\n",
    "# データセットクラスの作成\n",
    "# dataset = TensorDataset(h_input_ids, h_attention_masks, labels)\n",
    "hdataset = TensorDataset(h_input_ids, h_attention_masks, labels)\n",
    "tdataset = TensorDataset(t_input_ids, t_attention_masks, labels)\n",
    "adataset = TensorDataset(a_input_ids, a_attention_masks, labels)\n",
    "kdataset = TensorDataset(k_input_ids, k_attention_masks, labels)\n",
    "kkdataset = TensorDataset(kk_input_ids, kk_attention_masks, labels)\n",
    "sdataset = TensorDataset(s_input_ids, s_attention_masks, labels)"
   ]
  },
  {
   "cell_type": "code",
   "execution_count": 31,
   "metadata": {},
   "outputs": [],
   "source": [
    "#type(hdataset[0][0])"
   ]
  },
  {
   "cell_type": "code",
   "execution_count": 32,
   "metadata": {},
   "outputs": [],
   "source": [
    "num_dataset = len(hdataset)\n",
    "#train_size = int(0.1 * num_dataset)\n",
    "#val_size = num_dataset - train_size\n",
    "\n",
    "train_size = numof_learn\n",
    "val_size = len(hdataset) - train_size\n",
    "\n",
    "#print('訓練データ数:{}'.format(train_size))\n",
    "#print('検証データ数:{}'.format(val_size))"
   ]
  },
  {
   "cell_type": "code",
   "execution_count": 33,
   "metadata": {},
   "outputs": [
    {
     "name": "stdout",
     "output_type": "stream",
     "text": [
      "transfomers: ['n']\n"
     ]
    }
   ],
   "source": [
    "# データローダーの作成\n",
    "print(\"transfomers:\", transformflags)\n",
    "transformmethods = []\n",
    "if 'r' in transformflags:\n",
    "    transformmethods.append(synreplace(synreplace_rate))\n",
    "    print(\"synreplace\")\n",
    "if 'i' in transformflags:\n",
    "    transformmethods.append(randinsert(randinsert_rate))\n",
    "    print(\"randinsert\")\n",
    "if 'd' in transformflags:\n",
    "    transformmethods.append(randdelete(randdelete_rate))\n",
    "    print(\"randdelete\")\n",
    "if 's' in transformflags:\n",
    "    transformmethods.append(randswap(randswap_rate))\n",
    "    print(\"randswap\")\n",
    "data_transform = transforms.Compose(transformmethods)\n",
    "\n",
    "class MySubset(torch.utils.data.Dataset):\n",
    "    def __init__(self, dataset, indices, transform=None):\n",
    "        self.dataset = dataset\n",
    "        self.indices = indices\n",
    "        self.transform = transform\n",
    "\n",
    "    def __getitem__(self, idx):\n",
    "        xa, mask, label = self.dataset[self.indices[idx]]\n",
    "        if self.transform:\n",
    "            xa = self.transform(xa)\n",
    "        return xa, mask, label\n",
    "\n",
    "    def __len__(self):\n",
    "        return len(self.indices)\n",
    "    \n",
    "indices = np.random.choice(num_dataset, num_dataset, replace=False)\n",
    "\n",
    "# データセットを分割\n",
    "# http://localhost:8888/notebooks/bert-zuco/augmentation/BERTclassification-mydata-local-augmentation-aug.ipynb\n",
    "h_train_dataset, h_val_dataset = random_split(hdataset, [train_size, val_size])\n",
    "t_train_dataset, t_val_dataset = random_split(tdataset, [train_size, val_size])\n",
    "a_train_dataset, a_val_dataset = random_split(adataset, [train_size, val_size])\n",
    "k_train_dataset, k_val_dataset = random_split(kdataset, [train_size, val_size])\n",
    "kk_train_dataset, kk_val_dataset = random_split(kkdataset, [train_size, val_size])\n",
    "s_train_dataset, s_val_dataset = random_split(sdataset, [train_size, val_size])\n",
    "\n",
    "h_train_dataset = MySubset(hdataset, indices[:train_size], data_transform)\n",
    "h_val_dataset = MySubset(hdataset, indices[train_size:])\n",
    "t_train_dataset = MySubset(tdataset, indices[:train_size], data_transform)\n",
    "t_val_dataset = MySubset(tdataset, indices[train_size:])\n",
    "a_train_dataset = MySubset(adataset, indices[:train_size], data_transform)\n",
    "a_val_dataset = MySubset(adataset, indices[train_size:])\n",
    "k_train_dataset = MySubset(kdataset, indices[:train_size], data_transform)\n",
    "k_val_dataset = MySubset(kdataset, indices[train_size:])\n",
    "kk_train_dataset = MySubset(kkdataset, indices[:train_size], data_transform)\n",
    "kk_val_dataset = MySubset(kkdataset, indices[train_size:])\n",
    "s_train_dataset = MySubset(sdataset, indices[:train_size], data_transform)\n",
    "s_val_dataset = MySubset(sdataset, indices[train_size:])"
   ]
  },
  {
   "cell_type": "code",
   "execution_count": 34,
   "metadata": {},
   "outputs": [],
   "source": [
    "# 訓練データローダー\n",
    "# shuffle True/False to compare or not\n",
    "# wakati head\n",
    "h_train_dataloader = DataLoader(\n",
    "            h_train_dataset, batch_size = batch_size, shuffle = True, num_workers=8)\n",
    "# wakati tail\n",
    "t_train_dataloader = DataLoader(\n",
    "            t_train_dataset, batch_size = batch_size, shuffle = True, num_workers=8)\n",
    "# letters atama\n",
    "a_train_dataloader = DataLoader(\n",
    "            a_train_dataset, batch_size = batch_size, shuffle = True, num_workers=8)\n",
    "#letters ketsu\n",
    "k_train_dataloader = DataLoader(\n",
    "            k_train_dataset, batch_size = batch_size, shuffle = True, num_workers=8)\n",
    "# letters ketsu -10\n",
    "kk_train_dataloader = DataLoader(\n",
    "            kk_train_dataset, batch_size = batch_size, shuffle = True, num_workers=8)\n",
    "# summary\n",
    "s_train_dataloader = DataLoader(\n",
    "            s_train_dataset, batch_size = batch_size, shuffle = True, num_workers=8)\n",
    "\n",
    "# 検証データローダー\n",
    "h_validation_dataloader = DataLoader(\n",
    "            h_val_dataset, batch_size = 1, shuffle = False, num_workers = 8)\n",
    "t_validation_dataloader = DataLoader(\n",
    "            t_val_dataset, batch_size = 1, shuffle = False, num_workers = 8)\n",
    "a_validation_dataloader = DataLoader(\n",
    "            a_val_dataset, batch_size = 1, shuffle = False, num_workers = 8)\n",
    "k_validation_dataloader = DataLoader(\n",
    "            k_val_dataset, batch_size = 1, shuffle = False, num_workers = 8)\n",
    "kk_validation_dataloader = DataLoader(\n",
    "            kk_val_dataset, batch_size = 1, shuffle = False, num_workers = 8)\n",
    "s_validation_dataloader = DataLoader(\n",
    "            s_val_dataset, batch_size = 1, shuffle = False, num_workers = 8)"
   ]
  },
  {
   "cell_type": "code",
   "execution_count": 35,
   "metadata": {
    "colab": {
     "base_uri": "https://localhost:8080/",
     "height": 1000,
     "referenced_widgets": [
      "9929328cf8d246d2b5be77a5fca18c0f",
      "7ce3a9778e6841e38f6bb2c3d8cfe9b8",
      "8988d5fad2d14b9b97cd311e99093641",
      "e72ccacac3434f939cd0e4adfb3bcc4d",
      "a9503913e9204c7994b76af2f3fd7d3a",
      "105e552bd7bd468f976e099cbe7c74cf",
      "fe1020e5f4eb483fa3fce57764a2508c",
      "9bb08df9e5004f5da8678c2fd10c8eb2",
      "887ca9f3ec9247c4b402bc72745aad0d",
      "50d37681841a449094298dcb52ff9059",
      "9f37d02a0ba944dc9633a68d71891f87",
      "a93d3d99fab445ea80248bd9ae7b0d60",
      "fa68d1e07ae94cd2824d767335a63c64",
      "f69e8de282434b9aa8a457a73593d080",
      "1ed1c48157da42b7bc8719879f3c13c8",
      "7093eae4a1e94e7fbc341564be6a727c",
      "e13d9164a1a6418b87f8fc9f2f5d10eb",
      "c7b849cdaf324e108283b9930d31ec7e",
      "a6e9829602e047f5ab93e3dfb66195cb",
      "baa09b17fcba4d8593e8155907a72c31",
      "7481c5bc470c42cf8ef6d38b69c4ce8a",
      "240f4e1960d44c189adf177c9eb4a17e"
     ]
    },
    "executionInfo": {
     "elapsed": 28456,
     "status": "ok",
     "timestamp": 1661699144410,
     "user": {
      "displayName": "西梓",
      "userId": "09370432736438252128"
     },
     "user_tz": -540
    },
    "id": "tXUhEdWTGPRs",
    "outputId": "f525692a-ffa0-49cf-a54c-0f91707721b0"
   },
   "outputs": [],
   "source": [
    "from transformers import BertForSequenceClassification,AdamW,BertConfig\n",
    "\n",
    "# BertForSequenceClassification 学習済みモデルのロード\n",
    "def loadmodel():\n",
    "    model = BertForSequenceClassification.from_pretrained(\n",
    "        \"cl-tohoku/bert-base-japanese-whole-word-masking\", # 日本語Pre trainedモデルの指定\n",
    "        num_labels = 2, # ラベル数（今回はBinaryなので2、数値を増やせばマルチラベルも対応可）\n",
    "        output_attentions = False, # アテンションベクトルを出力するか\n",
    "        output_hidden_states = False, # 隠れ層を出力するか\n",
    "    ).to(device)\n",
    "    # 最適化手法の設定\n",
    "    optimizer = AdamW(model.parameters(), lr=2e-5)\n",
    "    return model, optimizer"
   ]
  },
  {
   "cell_type": "code",
   "execution_count": 36,
   "metadata": {},
   "outputs": [],
   "source": [
    "from tqdm import tqdm\n",
    "from typing import OrderedDict\n",
    "\n",
    "alloutputs = []\n",
    "\n",
    "def train(epoch, model, optimizer, dataloader):\n",
    "    model.train() # 訓練モードで実行\n",
    "    train_loss = 0\n",
    "    with tqdm(dataloader) as pbar:\n",
    "        pbar.set_description(f'[Epoch {epoch + 1}/{max_epoch}]')\n",
    "        for iteration, batch in enumerate(dataloader):\n",
    "#    for batch in dataloader:# train_dataloaderはword_id, mask, labelを出力する点に注意\n",
    "            b_input_ids = batch[0].to(device)\n",
    "            b_input_mask = batch[1].to(device)\n",
    "            b_labels = batch[2].to(device)\n",
    "            optimizer.zero_grad()\n",
    "            output = model(b_input_ids, \n",
    "                                 token_type_ids=None, \n",
    "                                 attention_mask=b_input_mask, \n",
    "                                 labels=b_labels)\n",
    "            loss = output.loss\n",
    "            loss.backward()\n",
    "            torch.nn.utils.clip_grad_norm_(model.parameters(), 1.0)\n",
    "            optimizer.step()\n",
    "            lossi = loss.item()\n",
    "            pbar.set_postfix(\n",
    "                OrderedDict(\n",
    "                    Loss=lossi\n",
    "                )\n",
    "            )\n",
    "            wandb.log({'epoch': epoch, 'loss': lossi})\n",
    "            train_loss += lossi\n",
    "#                print(output)\n",
    "#                print(output['logits'])\n",
    "            alloutputs.append(output['logits'].to('cpu'))\n",
    "    return train_loss, alloutputs\n",
    "\n",
    "def validation(model, dataloader):\n",
    "    model.eval()# 訓練モードをオフ\n",
    "    val_loss = 0\n",
    "    alloutputs = []\n",
    "    with torch.no_grad(): # 勾配を計算しない\n",
    "        with tqdm(dataloader) as pbar:\n",
    "            for iteration, batch in enumerate(dataloader):\n",
    "                b_input_ids = batch[0].to(device)\n",
    "                b_input_mask = batch[1].to(device)\n",
    "                b_labels = batch[2].to(device)\n",
    "                with torch.no_grad():        \n",
    "                    output = model(b_input_ids, \n",
    "                                        token_type_ids=None, \n",
    "                                        attention_mask=b_input_mask,\n",
    "                                        labels=b_labels)\n",
    "                loss = output.loss\n",
    "                preds = output.logits.argmax(axis=1)\n",
    "                alloutputs.append(output.logits.to('cpu').clone())\n",
    "                lossi = loss.item()\n",
    "                pbar.set_postfix(\n",
    "                    OrderedDict(\n",
    "                        Loss=lossi,\n",
    "                        Accuracy=torch.sum(preds == b_labels).item() / len(b_labels),\n",
    "                        Len=len(alloutputs)\n",
    "                    )\n",
    "                )\n",
    "                wandb.log({'epoch': epoch, 'loss': lossi})\n",
    "                if numof_validation < iteration:\n",
    "#                    print('validation quit')\n",
    "                    break\n",
    "    return loss, alloutputs"
   ]
  },
  {
   "cell_type": "code",
   "execution_count": 37,
   "metadata": {
    "id": "iPwWkV3HJtaG"
   },
   "outputs": [],
   "source": [
    "# 学習の実行\n",
    "t_train_loss_ = []\n",
    "t_test_loss_ = []\n",
    "h_train_loss_ = []\n",
    "h_test_loss_ = []\n",
    "a_train_loss_ = []\n",
    "a_test_loss_ = []\n",
    "k_train_loss_ = []\n",
    "k_test_loss_ = []\n",
    "kk_train_loss_ = []\n",
    "kk_test_loss_ = []\n",
    "s_train_loss_ = []\n",
    "s_test_loss_ = []\n",
    "\n",
    "h_train_loss = 0\n",
    "t_train_loss = 0\n",
    "a_train_loss = 0\n",
    "k_train_loss = 0\n",
    "kk_train_loss = 0\n",
    "s_train_loss = 0"
   ]
  },
  {
   "cell_type": "code",
   "execution_count": 38,
   "metadata": {
    "scrolled": true
   },
   "outputs": [
    {
     "name": "stderr",
     "output_type": "stream",
     "text": [
      "\u001b[34m\u001b[1mwandb\u001b[0m: Currently logged in as: \u001b[33mzukoewest\u001b[0m. Use \u001b[1m`wandb login --relogin`\u001b[0m to force relogin\n"
     ]
    },
    {
     "data": {
      "text/html": [
       "Tracking run with wandb version 0.13.7"
      ],
      "text/plain": [
       "<IPython.core.display.HTML object>"
      ]
     },
     "metadata": {},
     "output_type": "display_data"
    },
    {
     "data": {
      "text/html": [
       "Run data is saved locally in <code>/export/liBERTy/ensemble/wandb/run-20230101_204506-2v1xew6z</code>"
      ],
      "text/plain": [
       "<IPython.core.display.HTML object>"
      ]
     },
     "metadata": {},
     "output_type": "display_data"
    },
    {
     "data": {
      "text/html": [
       "Syncing run <strong><a href=\"https://wandb.ai/zukoewest/liBERTy-re2-h/runs/2v1xew6z\" target=\"_blank\">scarlet-lake-121</a></strong> to <a href=\"https://wandb.ai/zukoewest/liBERTy-re2-h\" target=\"_blank\">Weights & Biases</a> (<a href=\"https://wandb.me/run\" target=\"_blank\">docs</a>)<br/>"
      ],
      "text/plain": [
       "<IPython.core.display.HTML object>"
      ]
     },
     "metadata": {},
     "output_type": "display_data"
    },
    {
     "name": "stderr",
     "output_type": "stream",
     "text": [
      "Some weights of the model checkpoint at cl-tohoku/bert-base-japanese-whole-word-masking were not used when initializing BertForSequenceClassification: ['cls.predictions.transform.LayerNorm.weight', 'cls.seq_relationship.weight', 'cls.seq_relationship.bias', 'cls.predictions.transform.dense.weight', 'cls.predictions.transform.LayerNorm.bias', 'cls.predictions.decoder.weight', 'cls.predictions.bias', 'cls.predictions.transform.dense.bias']\n",
      "- This IS expected if you are initializing BertForSequenceClassification from the checkpoint of a model trained on another task or with another architecture (e.g. initializing a BertForSequenceClassification model from a BertForPreTraining model).\n",
      "- This IS NOT expected if you are initializing BertForSequenceClassification from the checkpoint of a model that you expect to be exactly identical (initializing a BertForSequenceClassification model from a BertForSequenceClassification model).\n",
      "Some weights of BertForSequenceClassification were not initialized from the model checkpoint at cl-tohoku/bert-base-japanese-whole-word-masking and are newly initialized: ['classifier.weight', 'classifier.bias']\n",
      "You should probably TRAIN this model on a down-stream task to be able to use it for predictions and inference.\n",
      "[Epoch 1/20]:   0%|                                                      | 0/2 [00:01<?, ?it/s, Loss=0.717]\n",
      "[Epoch 2/20]:   0%|                                                      | 0/2 [00:00<?, ?it/s, Loss=0.696]\n",
      "[Epoch 3/20]:   0%|                                                      | 0/2 [00:00<?, ?it/s, Loss=0.677]\n",
      "[Epoch 4/20]:   0%|                                                      | 0/2 [00:00<?, ?it/s, Loss=0.617]\n",
      "[Epoch 5/20]:   0%|                                                      | 0/2 [00:00<?, ?it/s, Loss=0.579]\n",
      "[Epoch 6/20]:   0%|                                                      | 0/2 [00:00<?, ?it/s, Loss=0.514]\n",
      "[Epoch 7/20]:   0%|                                                      | 0/2 [00:00<?, ?it/s, Loss=0.453]\n",
      "[Epoch 8/20]:   0%|                                                      | 0/2 [00:00<?, ?it/s, Loss=0.354]\n",
      "[Epoch 9/20]:   0%|                                                      | 0/2 [00:00<?, ?it/s, Loss=0.333]\n",
      "[Epoch 10/20]:   0%|                                                     | 0/2 [00:00<?, ?it/s, Loss=0.213]\n",
      "[Epoch 11/20]:   0%|                                                     | 0/2 [00:00<?, ?it/s, Loss=0.225]\n",
      "[Epoch 12/20]:   0%|                                                      | 0/2 [00:00<?, ?it/s, Loss=0.13]\n",
      "[Epoch 13/20]:   0%|                                                    | 0/2 [00:00<?, ?it/s, Loss=0.0869]\n",
      "[Epoch 14/20]:   0%|                                                    | 0/2 [00:00<?, ?it/s, Loss=0.0567]\n",
      "[Epoch 15/20]:   0%|                                                    | 0/2 [00:00<?, ?it/s, Loss=0.0432]\n",
      "[Epoch 16/20]:   0%|                                                    | 0/2 [00:00<?, ?it/s, Loss=0.0269]\n",
      "[Epoch 17/20]:   0%|                                                     | 0/2 [00:00<?, ?it/s, Loss=0.019]\n",
      "[Epoch 18/20]:   0%|                                                    | 0/2 [00:00<?, ?it/s, Loss=0.0109]\n",
      "[Epoch 19/20]:   0%|                                                   | 0/2 [00:00<?, ?it/s, Loss=0.00821]\n",
      "[Epoch 20/20]:   0%|                                                   | 0/2 [00:00<?, ?it/s, Loss=0.00633]\n"
     ]
    },
    {
     "data": {
      "text/html": [
       "Waiting for W&B process to finish... <strong style=\"color:green\">(success).</strong>"
      ],
      "text/plain": [
       "<IPython.core.display.HTML object>"
      ]
     },
     "metadata": {},
     "output_type": "display_data"
    },
    {
     "data": {
      "text/html": [
       "<style>\n",
       "    table.wandb td:nth-child(1) { padding: 0 10px; text-align: left ; width: auto;} td:nth-child(2) {text-align: left ; width: 100%}\n",
       "    .wandb-row { display: flex; flex-direction: row; flex-wrap: wrap; justify-content: flex-start; width: 100% }\n",
       "    .wandb-col { display: flex; flex-direction: column; flex-basis: 100%; flex: 1; padding: 10px; }\n",
       "    </style>\n",
       "<div class=\"wandb-row\"><div class=\"wandb-col\"><h3>Run history:</h3><br/><table class=\"wandb\"><tr><td>epoch</td><td>▁▁▁▁▂▂▂▂▂▂▃▃▃▃▄▄▄▄▄▄▅▅▅▅▅▅▆▆▆▆▇▇▇▇▇▇████</td></tr><tr><td>loss</td><td>██████▇▇▇▇▇▆▅▅▅▄▄▄▄▃▃▃▂▂▂▂▂▁▁▁▁▁▁▁▁▁▁▁▁▁</td></tr></table><br/></div><div class=\"wandb-col\"><h3>Run summary:</h3><br/><table class=\"wandb\"><tr><td>epoch</td><td>19</td></tr><tr><td>loss</td><td>0.00633</td></tr></table><br/></div></div>"
      ],
      "text/plain": [
       "<IPython.core.display.HTML object>"
      ]
     },
     "metadata": {},
     "output_type": "display_data"
    },
    {
     "data": {
      "text/html": [
       "Synced <strong style=\"color:#cdcd00\">scarlet-lake-121</strong>: <a href=\"https://wandb.ai/zukoewest/liBERTy-re2-h/runs/2v1xew6z\" target=\"_blank\">https://wandb.ai/zukoewest/liBERTy-re2-h/runs/2v1xew6z</a><br/>Synced 6 W&B file(s), 0 media file(s), 0 artifact file(s) and 0 other file(s)"
      ],
      "text/plain": [
       "<IPython.core.display.HTML object>"
      ]
     },
     "metadata": {},
     "output_type": "display_data"
    },
    {
     "data": {
      "text/html": [
       "Find logs at: <code>./wandb/run-20230101_204506-2v1xew6z/logs</code>"
      ],
      "text/plain": [
       "<IPython.core.display.HTML object>"
      ]
     },
     "metadata": {},
     "output_type": "display_data"
    },
    {
     "data": {
      "application/vnd.jupyter.widget-view+json": {
       "model_id": "a2abce4443d841e2b5bf5f4be96bb3da",
       "version_major": 2,
       "version_minor": 0
      },
      "text/plain": [
       "VBox(children=(Label(value='Waiting for wandb.init()...\\r'), FloatProgress(value=0.01666947941679003, max=1.0)…"
      ]
     },
     "metadata": {},
     "output_type": "display_data"
    },
    {
     "data": {
      "text/html": [
       "Tracking run with wandb version 0.13.7"
      ],
      "text/plain": [
       "<IPython.core.display.HTML object>"
      ]
     },
     "metadata": {},
     "output_type": "display_data"
    },
    {
     "data": {
      "text/html": [
       "Run data is saved locally in <code>/export/liBERTy/ensemble/wandb/run-20230101_204529-1ylesrer</code>"
      ],
      "text/plain": [
       "<IPython.core.display.HTML object>"
      ]
     },
     "metadata": {},
     "output_type": "display_data"
    },
    {
     "data": {
      "text/html": [
       "Syncing run <strong><a href=\"https://wandb.ai/zukoewest/liBERTy-re2-h-v/runs/1ylesrer\" target=\"_blank\">valiant-glade-116</a></strong> to <a href=\"https://wandb.ai/zukoewest/liBERTy-re2-h-v\" target=\"_blank\">Weights & Biases</a> (<a href=\"https://wandb.me/run\" target=\"_blank\">docs</a>)<br/>"
      ],
      "text/plain": [
       "<IPython.core.display.HTML object>"
      ]
     },
     "metadata": {},
     "output_type": "display_data"
    },
    {
     "name": "stderr",
     "output_type": "stream",
     "text": [
      "  0%|                                          | 0/1640 [00:00<?, ?it/s, Loss=0.00861, Accuracy=1, Len=202]\n"
     ]
    },
    {
     "data": {
      "text/html": [
       "Waiting for W&B process to finish... <strong style=\"color:green\">(success).</strong>"
      ],
      "text/plain": [
       "<IPython.core.display.HTML object>"
      ]
     },
     "metadata": {},
     "output_type": "display_data"
    },
    {
     "data": {
      "application/vnd.jupyter.widget-view+json": {
       "model_id": "52bea9e5828d44fbb78533626de7edac",
       "version_major": 2,
       "version_minor": 0
      },
      "text/plain": [
       "VBox(children=(Label(value='0.004 MB of 0.004 MB uploaded (0.000 MB deduped)\\r'), FloatProgress(value=1.0, max…"
      ]
     },
     "metadata": {},
     "output_type": "display_data"
    },
    {
     "data": {
      "text/html": [
       "<style>\n",
       "    table.wandb td:nth-child(1) { padding: 0 10px; text-align: left ; width: auto;} td:nth-child(2) {text-align: left ; width: 100%}\n",
       "    .wandb-row { display: flex; flex-direction: row; flex-wrap: wrap; justify-content: flex-start; width: 100% }\n",
       "    .wandb-col { display: flex; flex-direction: column; flex-basis: 100%; flex: 1; padding: 10px; }\n",
       "    </style>\n",
       "<div class=\"wandb-row\"><div class=\"wandb-col\"><h3>Run history:</h3><br/><table class=\"wandb\"><tr><td>epoch</td><td>▁▁▁▁▁▁▁▁▁▁▁▁▁▁▁▁▁▁▁▁▁▁▁▁▁▁▁▁▁▁▁▁▁▁▁▁▁▁▁▁</td></tr><tr><td>loss</td><td>▁▁▁▇█▁▁▁▁▁▅▁▅▁▁▁▁▁▁▅▁▇▁▁▁▁▁▁▁▁▁▂▁▁▁▄▁▁▁▁</td></tr></table><br/></div><div class=\"wandb-col\"><h3>Run summary:</h3><br/><table class=\"wandb\"><tr><td>epoch</td><td>19</td></tr><tr><td>loss</td><td>0.00861</td></tr></table><br/></div></div>"
      ],
      "text/plain": [
       "<IPython.core.display.HTML object>"
      ]
     },
     "metadata": {},
     "output_type": "display_data"
    },
    {
     "data": {
      "text/html": [
       "Synced <strong style=\"color:#cdcd00\">valiant-glade-116</strong>: <a href=\"https://wandb.ai/zukoewest/liBERTy-re2-h-v/runs/1ylesrer\" target=\"_blank\">https://wandb.ai/zukoewest/liBERTy-re2-h-v/runs/1ylesrer</a><br/>Synced 6 W&B file(s), 0 media file(s), 0 artifact file(s) and 0 other file(s)"
      ],
      "text/plain": [
       "<IPython.core.display.HTML object>"
      ]
     },
     "metadata": {},
     "output_type": "display_data"
    },
    {
     "data": {
      "text/html": [
       "Find logs at: <code>./wandb/run-20230101_204529-1ylesrer/logs</code>"
      ],
      "text/plain": [
       "<IPython.core.display.HTML object>"
      ]
     },
     "metadata": {},
     "output_type": "display_data"
    }
   ],
   "source": [
    "wandb.init(project=\"liBERTy-re2-h\")\n",
    "model, optimizer = loadmodel()\n",
    "for epoch in range(max_epoch):\n",
    "    h_train_ = train(epoch, model, optimizer,  h_train_dataloader)\n",
    "    h_train_loss_.append(h_train_)\n",
    "#    if epoch%10 == 0:\n",
    "#        print('epoch: ', epoch)\n",
    "wandb.finish()\n",
    "wandb.init(project=\"liBERTy-re2-h-v\")\n",
    "h_test_loss_ = validation(model, h_validation_dataloader)\n",
    "wandb.finish()\n"
   ]
  },
  {
   "cell_type": "code",
   "execution_count": 39,
   "metadata": {},
   "outputs": [
    {
     "data": {
      "application/vnd.jupyter.widget-view+json": {
       "model_id": "13174d2e5cd04283a9d131bdcce6896f",
       "version_major": 2,
       "version_minor": 0
      },
      "text/plain": [
       "VBox(children=(Label(value='Waiting for wandb.init()...\\r'), FloatProgress(value=0.01666954873338303, max=1.0)…"
      ]
     },
     "metadata": {},
     "output_type": "display_data"
    },
    {
     "data": {
      "text/html": [
       "Tracking run with wandb version 0.13.7"
      ],
      "text/plain": [
       "<IPython.core.display.HTML object>"
      ]
     },
     "metadata": {},
     "output_type": "display_data"
    },
    {
     "data": {
      "text/html": [
       "Run data is saved locally in <code>/export/liBERTy/ensemble/wandb/run-20230101_204539-3vp9uiue</code>"
      ],
      "text/plain": [
       "<IPython.core.display.HTML object>"
      ]
     },
     "metadata": {},
     "output_type": "display_data"
    },
    {
     "data": {
      "text/html": [
       "Syncing run <strong><a href=\"https://wandb.ai/zukoewest/liBERTy-re2-t/runs/3vp9uiue\" target=\"_blank\">peachy-microwave-116</a></strong> to <a href=\"https://wandb.ai/zukoewest/liBERTy-re2-t\" target=\"_blank\">Weights & Biases</a> (<a href=\"https://wandb.me/run\" target=\"_blank\">docs</a>)<br/>"
      ],
      "text/plain": [
       "<IPython.core.display.HTML object>"
      ]
     },
     "metadata": {},
     "output_type": "display_data"
    },
    {
     "name": "stderr",
     "output_type": "stream",
     "text": [
      "Some weights of the model checkpoint at cl-tohoku/bert-base-japanese-whole-word-masking were not used when initializing BertForSequenceClassification: ['cls.predictions.transform.LayerNorm.weight', 'cls.seq_relationship.weight', 'cls.seq_relationship.bias', 'cls.predictions.transform.dense.weight', 'cls.predictions.transform.LayerNorm.bias', 'cls.predictions.decoder.weight', 'cls.predictions.bias', 'cls.predictions.transform.dense.bias']\n",
      "- This IS expected if you are initializing BertForSequenceClassification from the checkpoint of a model trained on another task or with another architecture (e.g. initializing a BertForSequenceClassification model from a BertForPreTraining model).\n",
      "- This IS NOT expected if you are initializing BertForSequenceClassification from the checkpoint of a model that you expect to be exactly identical (initializing a BertForSequenceClassification model from a BertForSequenceClassification model).\n",
      "Some weights of BertForSequenceClassification were not initialized from the model checkpoint at cl-tohoku/bert-base-japanese-whole-word-masking and are newly initialized: ['classifier.weight', 'classifier.bias']\n",
      "You should probably TRAIN this model on a down-stream task to be able to use it for predictions and inference.\n",
      "[Epoch 1/20]:   0%|                                                      | 0/2 [00:00<?, ?it/s, Loss=0.681]\n",
      "[Epoch 2/20]:   0%|                                                      | 0/2 [00:00<?, ?it/s, Loss=0.681]\n",
      "[Epoch 3/20]:   0%|                                                      | 0/2 [00:00<?, ?it/s, Loss=0.643]\n",
      "[Epoch 4/20]:   0%|                                                       | 0/2 [00:00<?, ?it/s, Loss=0.62]\n",
      "[Epoch 5/20]:   0%|                                                      | 0/2 [00:00<?, ?it/s, Loss=0.568]\n",
      "[Epoch 6/20]:   0%|                                                      | 0/2 [00:00<?, ?it/s, Loss=0.528]\n",
      "[Epoch 7/20]:   0%|                                                      | 0/2 [00:00<?, ?it/s, Loss=0.486]\n",
      "[Epoch 8/20]:   0%|                                                      | 0/2 [00:00<?, ?it/s, Loss=0.346]\n",
      "[Epoch 9/20]:   0%|                                                      | 0/2 [00:00<?, ?it/s, Loss=0.304]\n",
      "[Epoch 10/20]:   0%|                                                     | 0/2 [00:00<?, ?it/s, Loss=0.254]\n",
      "[Epoch 11/20]:   0%|                                                      | 0/2 [00:00<?, ?it/s, Loss=0.15]\n",
      "[Epoch 12/20]:   0%|                                                    | 0/2 [00:00<?, ?it/s, Loss=0.0978]\n",
      "[Epoch 13/20]:   0%|                                                    | 0/2 [00:00<?, ?it/s, Loss=0.0904]\n",
      "[Epoch 14/20]:   0%|                                                    | 0/2 [00:00<?, ?it/s, Loss=0.0379]\n",
      "[Epoch 15/20]:   0%|                                                    | 0/2 [00:00<?, ?it/s, Loss=0.0179]\n",
      "[Epoch 16/20]:   0%|                                                    | 0/2 [00:00<?, ?it/s, Loss=0.0123]\n",
      "[Epoch 17/20]:   0%|                                                   | 0/2 [00:00<?, ?it/s, Loss=0.00831]\n",
      "[Epoch 18/20]:   0%|                                                   | 0/2 [00:00<?, ?it/s, Loss=0.00648]\n",
      "[Epoch 19/20]:   0%|                                                   | 0/2 [00:00<?, ?it/s, Loss=0.00589]\n",
      "[Epoch 20/20]:   0%|                                                   | 0/2 [00:00<?, ?it/s, Loss=0.00432]\n"
     ]
    },
    {
     "data": {
      "text/html": [
       "Waiting for W&B process to finish... <strong style=\"color:green\">(success).</strong>"
      ],
      "text/plain": [
       "<IPython.core.display.HTML object>"
      ]
     },
     "metadata": {},
     "output_type": "display_data"
    },
    {
     "data": {
      "text/html": [
       "<style>\n",
       "    table.wandb td:nth-child(1) { padding: 0 10px; text-align: left ; width: auto;} td:nth-child(2) {text-align: left ; width: 100%}\n",
       "    .wandb-row { display: flex; flex-direction: row; flex-wrap: wrap; justify-content: flex-start; width: 100% }\n",
       "    .wandb-col { display: flex; flex-direction: column; flex-basis: 100%; flex: 1; padding: 10px; }\n",
       "    </style>\n",
       "<div class=\"wandb-row\"><div class=\"wandb-col\"><h3>Run history:</h3><br/><table class=\"wandb\"><tr><td>epoch</td><td>▁▁▁▁▂▂▂▂▂▂▃▃▃▃▄▄▄▄▄▄▅▅▅▅▅▅▆▆▆▆▇▇▇▇▇▇████</td></tr><tr><td>loss</td><td>█████▇▇▇▇▇▆▆▆▆▅▄▄▄▃▃▃▂▂▂▂▂▁▁▁▁▁▁▁▁▁▁▁▁▁▁</td></tr></table><br/></div><div class=\"wandb-col\"><h3>Run summary:</h3><br/><table class=\"wandb\"><tr><td>epoch</td><td>19</td></tr><tr><td>loss</td><td>0.00432</td></tr></table><br/></div></div>"
      ],
      "text/plain": [
       "<IPython.core.display.HTML object>"
      ]
     },
     "metadata": {},
     "output_type": "display_data"
    },
    {
     "data": {
      "text/html": [
       "Synced <strong style=\"color:#cdcd00\">peachy-microwave-116</strong>: <a href=\"https://wandb.ai/zukoewest/liBERTy-re2-t/runs/3vp9uiue\" target=\"_blank\">https://wandb.ai/zukoewest/liBERTy-re2-t/runs/3vp9uiue</a><br/>Synced 6 W&B file(s), 0 media file(s), 0 artifact file(s) and 0 other file(s)"
      ],
      "text/plain": [
       "<IPython.core.display.HTML object>"
      ]
     },
     "metadata": {},
     "output_type": "display_data"
    },
    {
     "data": {
      "text/html": [
       "Find logs at: <code>./wandb/run-20230101_204539-3vp9uiue/logs</code>"
      ],
      "text/plain": [
       "<IPython.core.display.HTML object>"
      ]
     },
     "metadata": {},
     "output_type": "display_data"
    },
    {
     "data": {
      "application/vnd.jupyter.widget-view+json": {
       "model_id": "aeeeb3ee4afe4bf79ee4d9864533aae4",
       "version_major": 2,
       "version_minor": 0
      },
      "text/plain": [
       "VBox(children=(Label(value='Waiting for wandb.init()...\\r'), FloatProgress(value=0.016668222450001245, max=1.0…"
      ]
     },
     "metadata": {},
     "output_type": "display_data"
    },
    {
     "data": {
      "text/html": [
       "Tracking run with wandb version 0.13.7"
      ],
      "text/plain": [
       "<IPython.core.display.HTML object>"
      ]
     },
     "metadata": {},
     "output_type": "display_data"
    },
    {
     "data": {
      "text/html": [
       "Run data is saved locally in <code>/export/liBERTy/ensemble/wandb/run-20230101_204603-3qst75xk</code>"
      ],
      "text/plain": [
       "<IPython.core.display.HTML object>"
      ]
     },
     "metadata": {},
     "output_type": "display_data"
    },
    {
     "data": {
      "text/html": [
       "Syncing run <strong><a href=\"https://wandb.ai/zukoewest/liBERTy-re2-t-v/runs/3qst75xk\" target=\"_blank\">deft-field-114</a></strong> to <a href=\"https://wandb.ai/zukoewest/liBERTy-re2-t-v\" target=\"_blank\">Weights & Biases</a> (<a href=\"https://wandb.me/run\" target=\"_blank\">docs</a>)<br/>"
      ],
      "text/plain": [
       "<IPython.core.display.HTML object>"
      ]
     },
     "metadata": {},
     "output_type": "display_data"
    },
    {
     "name": "stderr",
     "output_type": "stream",
     "text": [
      "  0%|                                           | 0/1640 [00:01<?, ?it/s, Loss=0.0795, Accuracy=1, Len=202]\n"
     ]
    },
    {
     "data": {
      "text/html": [
       "Waiting for W&B process to finish... <strong style=\"color:green\">(success).</strong>"
      ],
      "text/plain": [
       "<IPython.core.display.HTML object>"
      ]
     },
     "metadata": {},
     "output_type": "display_data"
    },
    {
     "data": {
      "application/vnd.jupyter.widget-view+json": {
       "model_id": "4c2ed25608304022a990c3e1a187f2d2",
       "version_major": 2,
       "version_minor": 0
      },
      "text/plain": [
       "VBox(children=(Label(value='0.004 MB of 0.004 MB uploaded (0.000 MB deduped)\\r'), FloatProgress(value=1.0, max…"
      ]
     },
     "metadata": {},
     "output_type": "display_data"
    },
    {
     "data": {
      "text/html": [
       "<style>\n",
       "    table.wandb td:nth-child(1) { padding: 0 10px; text-align: left ; width: auto;} td:nth-child(2) {text-align: left ; width: 100%}\n",
       "    .wandb-row { display: flex; flex-direction: row; flex-wrap: wrap; justify-content: flex-start; width: 100% }\n",
       "    .wandb-col { display: flex; flex-direction: column; flex-basis: 100%; flex: 1; padding: 10px; }\n",
       "    </style>\n",
       "<div class=\"wandb-row\"><div class=\"wandb-col\"><h3>Run history:</h3><br/><table class=\"wandb\"><tr><td>epoch</td><td>▁▁▁▁▁▁▁▁▁▁▁▁▁▁▁▁▁▁▁▁▁▁▁▁▁▁▁▁▁▁▁▁▁▁▁▁▁▁▁▁</td></tr><tr><td>loss</td><td>▁▁▁▄█▁▁▁▁▁▆▂▄▁▁▁▁▁▁▆▁█▁▁▁▁▁▁▁▄▁▆▁▁▁▁▁▁▁▁</td></tr></table><br/></div><div class=\"wandb-col\"><h3>Run summary:</h3><br/><table class=\"wandb\"><tr><td>epoch</td><td>19</td></tr><tr><td>loss</td><td>0.07945</td></tr></table><br/></div></div>"
      ],
      "text/plain": [
       "<IPython.core.display.HTML object>"
      ]
     },
     "metadata": {},
     "output_type": "display_data"
    },
    {
     "data": {
      "text/html": [
       "Synced <strong style=\"color:#cdcd00\">deft-field-114</strong>: <a href=\"https://wandb.ai/zukoewest/liBERTy-re2-t-v/runs/3qst75xk\" target=\"_blank\">https://wandb.ai/zukoewest/liBERTy-re2-t-v/runs/3qst75xk</a><br/>Synced 6 W&B file(s), 0 media file(s), 0 artifact file(s) and 0 other file(s)"
      ],
      "text/plain": [
       "<IPython.core.display.HTML object>"
      ]
     },
     "metadata": {},
     "output_type": "display_data"
    },
    {
     "data": {
      "text/html": [
       "Find logs at: <code>./wandb/run-20230101_204603-3qst75xk/logs</code>"
      ],
      "text/plain": [
       "<IPython.core.display.HTML object>"
      ]
     },
     "metadata": {},
     "output_type": "display_data"
    }
   ],
   "source": [
    "wandb.init(project=\"liBERTy-re2-t\")\n",
    "model, optimizer = loadmodel()\n",
    "for epoch in range(max_epoch):\n",
    "    t_train_ = train(epoch, model, optimizer,  t_train_dataloader)\n",
    "    t_train_loss_.append(t_train_)\n",
    "#    if epoch%10 == 0:\n",
    "#        print('epoch: ', epoch)\n",
    "wandb.finish()\n",
    "wandb.init(project=\"liBERTy-re2-t-v\")\n",
    "t_test_loss_ = validation(model, t_validation_dataloader)\n",
    "wandb.finish()"
   ]
  },
  {
   "cell_type": "code",
   "execution_count": 40,
   "metadata": {},
   "outputs": [
    {
     "data": {
      "application/vnd.jupyter.widget-view+json": {
       "model_id": "be43f43f6b8741ae88a692a12f0ada0a",
       "version_major": 2,
       "version_minor": 0
      },
      "text/plain": [
       "VBox(children=(Label(value='Waiting for wandb.init()...\\r'), FloatProgress(value=0.016668139550165505, max=1.0…"
      ]
     },
     "metadata": {},
     "output_type": "display_data"
    },
    {
     "data": {
      "text/html": [
       "Tracking run with wandb version 0.13.7"
      ],
      "text/plain": [
       "<IPython.core.display.HTML object>"
      ]
     },
     "metadata": {},
     "output_type": "display_data"
    },
    {
     "data": {
      "text/html": [
       "Run data is saved locally in <code>/export/liBERTy/ensemble/wandb/run-20230101_204613-pch7n0mf</code>"
      ],
      "text/plain": [
       "<IPython.core.display.HTML object>"
      ]
     },
     "metadata": {},
     "output_type": "display_data"
    },
    {
     "data": {
      "text/html": [
       "Syncing run <strong><a href=\"https://wandb.ai/zukoewest/liBERTy-re2-a/runs/pch7n0mf\" target=\"_blank\">restful-dust-115</a></strong> to <a href=\"https://wandb.ai/zukoewest/liBERTy-re2-a\" target=\"_blank\">Weights & Biases</a> (<a href=\"https://wandb.me/run\" target=\"_blank\">docs</a>)<br/>"
      ],
      "text/plain": [
       "<IPython.core.display.HTML object>"
      ]
     },
     "metadata": {},
     "output_type": "display_data"
    },
    {
     "name": "stderr",
     "output_type": "stream",
     "text": [
      "Some weights of the model checkpoint at cl-tohoku/bert-base-japanese-whole-word-masking were not used when initializing BertForSequenceClassification: ['cls.predictions.transform.LayerNorm.weight', 'cls.seq_relationship.weight', 'cls.seq_relationship.bias', 'cls.predictions.transform.dense.weight', 'cls.predictions.transform.LayerNorm.bias', 'cls.predictions.decoder.weight', 'cls.predictions.bias', 'cls.predictions.transform.dense.bias']\n",
      "- This IS expected if you are initializing BertForSequenceClassification from the checkpoint of a model trained on another task or with another architecture (e.g. initializing a BertForSequenceClassification model from a BertForPreTraining model).\n",
      "- This IS NOT expected if you are initializing BertForSequenceClassification from the checkpoint of a model that you expect to be exactly identical (initializing a BertForSequenceClassification model from a BertForSequenceClassification model).\n",
      "Some weights of BertForSequenceClassification were not initialized from the model checkpoint at cl-tohoku/bert-base-japanese-whole-word-masking and are newly initialized: ['classifier.weight', 'classifier.bias']\n",
      "You should probably TRAIN this model on a down-stream task to be able to use it for predictions and inference.\n",
      "[Epoch 1/20]:   0%|                                                        | 0/2 [00:00<?, ?it/s, Loss=0.7]\n",
      "[Epoch 2/20]:   0%|                                                      | 0/2 [00:00<?, ?it/s, Loss=0.697]\n",
      "[Epoch 3/20]:   0%|                                                      | 0/2 [00:00<?, ?it/s, Loss=0.651]\n",
      "[Epoch 4/20]:   0%|                                                       | 0/2 [00:00<?, ?it/s, Loss=0.62]\n",
      "[Epoch 5/20]:   0%|                                                       | 0/2 [00:00<?, ?it/s, Loss=0.61]\n",
      "[Epoch 6/20]:   0%|                                                       | 0/2 [00:00<?, ?it/s, Loss=0.56]\n",
      "[Epoch 7/20]:   0%|                                                      | 0/2 [00:00<?, ?it/s, Loss=0.517]\n",
      "[Epoch 8/20]:   0%|                                                      | 0/2 [00:00<?, ?it/s, Loss=0.422]\n",
      "[Epoch 9/20]:   0%|                                                      | 0/2 [00:00<?, ?it/s, Loss=0.264]\n",
      "[Epoch 10/20]:   0%|                                                     | 0/2 [00:00<?, ?it/s, Loss=0.157]\n",
      "[Epoch 11/20]:   0%|                                                     | 0/2 [00:00<?, ?it/s, Loss=0.132]\n",
      "[Epoch 12/20]:   0%|                                                    | 0/2 [00:00<?, ?it/s, Loss=0.0833]\n",
      "[Epoch 13/20]:   0%|                                                    | 0/2 [00:00<?, ?it/s, Loss=0.0326]\n",
      "[Epoch 14/20]:   0%|                                                      | 0/2 [00:00<?, ?it/s, Loss=0.02]\n",
      "[Epoch 15/20]:   0%|                                                    | 0/2 [00:00<?, ?it/s, Loss=0.0116]\n",
      "[Epoch 16/20]:   0%|                                                   | 0/2 [00:00<?, ?it/s, Loss=0.00926]\n",
      "[Epoch 17/20]:   0%|                                                   | 0/2 [00:00<?, ?it/s, Loss=0.00657]\n",
      "[Epoch 18/20]:   0%|                                                   | 0/2 [00:00<?, ?it/s, Loss=0.00443]\n",
      "[Epoch 19/20]:   0%|                                                   | 0/2 [00:00<?, ?it/s, Loss=0.00344]\n",
      "[Epoch 20/20]:   0%|                                                   | 0/2 [00:00<?, ?it/s, Loss=0.00255]\n"
     ]
    },
    {
     "data": {
      "text/html": [
       "Waiting for W&B process to finish... <strong style=\"color:green\">(success).</strong>"
      ],
      "text/plain": [
       "<IPython.core.display.HTML object>"
      ]
     },
     "metadata": {},
     "output_type": "display_data"
    },
    {
     "data": {
      "text/html": [
       "<style>\n",
       "    table.wandb td:nth-child(1) { padding: 0 10px; text-align: left ; width: auto;} td:nth-child(2) {text-align: left ; width: 100%}\n",
       "    .wandb-row { display: flex; flex-direction: row; flex-wrap: wrap; justify-content: flex-start; width: 100% }\n",
       "    .wandb-col { display: flex; flex-direction: column; flex-basis: 100%; flex: 1; padding: 10px; }\n",
       "    </style>\n",
       "<div class=\"wandb-row\"><div class=\"wandb-col\"><h3>Run history:</h3><br/><table class=\"wandb\"><tr><td>epoch</td><td>▁▁▁▁▂▂▂▂▂▂▃▃▃▃▄▄▄▄▄▄▅▅▅▅▅▅▆▆▆▆▇▇▇▇▇▇████</td></tr><tr><td>loss</td><td>█████▇▇▇▇▇▇▇▆▆▅▅▄▄▃▃▂▂▂▂▁▁▁▁▁▁▁▁▁▁▁▁▁▁▁▁</td></tr></table><br/></div><div class=\"wandb-col\"><h3>Run summary:</h3><br/><table class=\"wandb\"><tr><td>epoch</td><td>19</td></tr><tr><td>loss</td><td>0.00255</td></tr></table><br/></div></div>"
      ],
      "text/plain": [
       "<IPython.core.display.HTML object>"
      ]
     },
     "metadata": {},
     "output_type": "display_data"
    },
    {
     "data": {
      "text/html": [
       "Synced <strong style=\"color:#cdcd00\">restful-dust-115</strong>: <a href=\"https://wandb.ai/zukoewest/liBERTy-re2-a/runs/pch7n0mf\" target=\"_blank\">https://wandb.ai/zukoewest/liBERTy-re2-a/runs/pch7n0mf</a><br/>Synced 6 W&B file(s), 0 media file(s), 0 artifact file(s) and 0 other file(s)"
      ],
      "text/plain": [
       "<IPython.core.display.HTML object>"
      ]
     },
     "metadata": {},
     "output_type": "display_data"
    },
    {
     "data": {
      "text/html": [
       "Find logs at: <code>./wandb/run-20230101_204613-pch7n0mf/logs</code>"
      ],
      "text/plain": [
       "<IPython.core.display.HTML object>"
      ]
     },
     "metadata": {},
     "output_type": "display_data"
    },
    {
     "data": {
      "application/vnd.jupyter.widget-view+json": {
       "model_id": "3d150e203bc44ea18396959bcede9dcc",
       "version_major": 2,
       "version_minor": 0
      },
      "text/plain": [
       "VBox(children=(Label(value='Waiting for wandb.init()...\\r'), FloatProgress(value=0.016668754666655634, max=1.0…"
      ]
     },
     "metadata": {},
     "output_type": "display_data"
    },
    {
     "data": {
      "text/html": [
       "Tracking run with wandb version 0.13.7"
      ],
      "text/plain": [
       "<IPython.core.display.HTML object>"
      ]
     },
     "metadata": {},
     "output_type": "display_data"
    },
    {
     "data": {
      "text/html": [
       "Run data is saved locally in <code>/export/liBERTy/ensemble/wandb/run-20230101_204637-1q6n7eep</code>"
      ],
      "text/plain": [
       "<IPython.core.display.HTML object>"
      ]
     },
     "metadata": {},
     "output_type": "display_data"
    },
    {
     "data": {
      "text/html": [
       "Syncing run <strong><a href=\"https://wandb.ai/zukoewest/liBERTy-re2-a-v/runs/1q6n7eep\" target=\"_blank\">summer-waterfall-114</a></strong> to <a href=\"https://wandb.ai/zukoewest/liBERTy-re2-a-v\" target=\"_blank\">Weights & Biases</a> (<a href=\"https://wandb.me/run\" target=\"_blank\">docs</a>)<br/>"
      ],
      "text/plain": [
       "<IPython.core.display.HTML object>"
      ]
     },
     "metadata": {},
     "output_type": "display_data"
    },
    {
     "name": "stderr",
     "output_type": "stream",
     "text": [
      "  0%|                                             | 0/1640 [00:01<?, ?it/s, Loss=1.87, Accuracy=0, Len=202]\n"
     ]
    },
    {
     "data": {
      "text/html": [
       "Waiting for W&B process to finish... <strong style=\"color:green\">(success).</strong>"
      ],
      "text/plain": [
       "<IPython.core.display.HTML object>"
      ]
     },
     "metadata": {},
     "output_type": "display_data"
    },
    {
     "data": {
      "application/vnd.jupyter.widget-view+json": {
       "model_id": "00944bb1ca7d410d8a4125dd63c5d426",
       "version_major": 2,
       "version_minor": 0
      },
      "text/plain": [
       "VBox(children=(Label(value='0.004 MB of 0.004 MB uploaded (0.000 MB deduped)\\r'), FloatProgress(value=1.0, max…"
      ]
     },
     "metadata": {},
     "output_type": "display_data"
    },
    {
     "data": {
      "text/html": [
       "<style>\n",
       "    table.wandb td:nth-child(1) { padding: 0 10px; text-align: left ; width: auto;} td:nth-child(2) {text-align: left ; width: 100%}\n",
       "    .wandb-row { display: flex; flex-direction: row; flex-wrap: wrap; justify-content: flex-start; width: 100% }\n",
       "    .wandb-col { display: flex; flex-direction: column; flex-basis: 100%; flex: 1; padding: 10px; }\n",
       "    </style>\n",
       "<div class=\"wandb-row\"><div class=\"wandb-col\"><h3>Run history:</h3><br/><table class=\"wandb\"><tr><td>epoch</td><td>▁▁▁▁▁▁▁▁▁▁▁▁▁▁▁▁▁▁▁▁▁▁▁▁▁▁▁▁▁▁▁▁▁▁▁▁▁▁▁▁</td></tr><tr><td>loss</td><td>▁▁▁▁▁▁▁▁▄▁█▁▁▁▁▁▁▁▁▁▁▁▁▁▁▁▁▁▁▂▁▁▁▁▁▂▁▁▁▅</td></tr></table><br/></div><div class=\"wandb-col\"><h3>Run summary:</h3><br/><table class=\"wandb\"><tr><td>epoch</td><td>19</td></tr><tr><td>loss</td><td>1.87303</td></tr></table><br/></div></div>"
      ],
      "text/plain": [
       "<IPython.core.display.HTML object>"
      ]
     },
     "metadata": {},
     "output_type": "display_data"
    },
    {
     "data": {
      "text/html": [
       "Synced <strong style=\"color:#cdcd00\">summer-waterfall-114</strong>: <a href=\"https://wandb.ai/zukoewest/liBERTy-re2-a-v/runs/1q6n7eep\" target=\"_blank\">https://wandb.ai/zukoewest/liBERTy-re2-a-v/runs/1q6n7eep</a><br/>Synced 6 W&B file(s), 0 media file(s), 0 artifact file(s) and 0 other file(s)"
      ],
      "text/plain": [
       "<IPython.core.display.HTML object>"
      ]
     },
     "metadata": {},
     "output_type": "display_data"
    },
    {
     "data": {
      "text/html": [
       "Find logs at: <code>./wandb/run-20230101_204637-1q6n7eep/logs</code>"
      ],
      "text/plain": [
       "<IPython.core.display.HTML object>"
      ]
     },
     "metadata": {},
     "output_type": "display_data"
    }
   ],
   "source": [
    "wandb.init(project=\"liBERTy-re2-a\")\n",
    "model, optimizer = loadmodel()\n",
    "for epoch in range(max_epoch):\n",
    "    a_train_ = train(epoch, model, optimizer,  a_train_dataloader)\n",
    "    a_train_loss_.append(a_train_)\n",
    "#    if epoch%10 == 0:\n",
    "#        print('epoch: ', epoch)\n",
    "wandb.finish()\n",
    "wandb.init(project=\"liBERTy-re2-a-v\")\n",
    "a_test_loss_ = validation(model, a_validation_dataloader)\n",
    "wandb.finish()"
   ]
  },
  {
   "cell_type": "code",
   "execution_count": 41,
   "metadata": {},
   "outputs": [
    {
     "data": {
      "application/vnd.jupyter.widget-view+json": {
       "model_id": "0f09d265a4644a0cb37f68be6f1596b8",
       "version_major": 2,
       "version_minor": 0
      },
      "text/plain": [
       "VBox(children=(Label(value='Waiting for wandb.init()...\\r'), FloatProgress(value=0.016669647016775948, max=1.0…"
      ]
     },
     "metadata": {},
     "output_type": "display_data"
    },
    {
     "data": {
      "text/html": [
       "Tracking run with wandb version 0.13.7"
      ],
      "text/plain": [
       "<IPython.core.display.HTML object>"
      ]
     },
     "metadata": {},
     "output_type": "display_data"
    },
    {
     "data": {
      "text/html": [
       "Run data is saved locally in <code>/export/liBERTy/ensemble/wandb/run-20230101_204646-2tutx9f5</code>"
      ],
      "text/plain": [
       "<IPython.core.display.HTML object>"
      ]
     },
     "metadata": {},
     "output_type": "display_data"
    },
    {
     "data": {
      "text/html": [
       "Syncing run <strong><a href=\"https://wandb.ai/zukoewest/liBERTy-re2-k/runs/2tutx9f5\" target=\"_blank\">twilight-lake-115</a></strong> to <a href=\"https://wandb.ai/zukoewest/liBERTy-re2-k\" target=\"_blank\">Weights & Biases</a> (<a href=\"https://wandb.me/run\" target=\"_blank\">docs</a>)<br/>"
      ],
      "text/plain": [
       "<IPython.core.display.HTML object>"
      ]
     },
     "metadata": {},
     "output_type": "display_data"
    },
    {
     "name": "stderr",
     "output_type": "stream",
     "text": [
      "Some weights of the model checkpoint at cl-tohoku/bert-base-japanese-whole-word-masking were not used when initializing BertForSequenceClassification: ['cls.predictions.transform.LayerNorm.weight', 'cls.seq_relationship.weight', 'cls.seq_relationship.bias', 'cls.predictions.transform.dense.weight', 'cls.predictions.transform.LayerNorm.bias', 'cls.predictions.decoder.weight', 'cls.predictions.bias', 'cls.predictions.transform.dense.bias']\n",
      "- This IS expected if you are initializing BertForSequenceClassification from the checkpoint of a model trained on another task or with another architecture (e.g. initializing a BertForSequenceClassification model from a BertForPreTraining model).\n",
      "- This IS NOT expected if you are initializing BertForSequenceClassification from the checkpoint of a model that you expect to be exactly identical (initializing a BertForSequenceClassification model from a BertForSequenceClassification model).\n",
      "Some weights of BertForSequenceClassification were not initialized from the model checkpoint at cl-tohoku/bert-base-japanese-whole-word-masking and are newly initialized: ['classifier.weight', 'classifier.bias']\n",
      "You should probably TRAIN this model on a down-stream task to be able to use it for predictions and inference.\n",
      "[Epoch 1/20]:   0%|                                                      | 0/2 [00:00<?, ?it/s, Loss=0.685]\n",
      "[Epoch 2/20]:   0%|                                                      | 0/2 [00:00<?, ?it/s, Loss=0.647]\n",
      "[Epoch 3/20]:   0%|                                                      | 0/2 [00:00<?, ?it/s, Loss=0.691]\n",
      "[Epoch 4/20]:   0%|                                                      | 0/2 [00:00<?, ?it/s, Loss=0.624]\n",
      "[Epoch 5/20]:   0%|                                                      | 0/2 [00:00<?, ?it/s, Loss=0.561]\n",
      "[Epoch 6/20]:   0%|                                                       | 0/2 [00:00<?, ?it/s, Loss=0.53]\n",
      "[Epoch 7/20]:   0%|                                                      | 0/2 [00:00<?, ?it/s, Loss=0.404]\n",
      "[Epoch 8/20]:   0%|                                                      | 0/2 [00:00<?, ?it/s, Loss=0.319]\n",
      "[Epoch 9/20]:   0%|                                                      | 0/2 [00:00<?, ?it/s, Loss=0.251]\n",
      "[Epoch 10/20]:   0%|                                                     | 0/2 [00:00<?, ?it/s, Loss=0.129]\n",
      "[Epoch 11/20]:   0%|                                                     | 0/2 [00:00<?, ?it/s, Loss=0.109]\n",
      "[Epoch 12/20]:   0%|                                                    | 0/2 [00:00<?, ?it/s, Loss=0.0383]\n",
      "[Epoch 13/20]:   0%|                                                    | 0/2 [00:00<?, ?it/s, Loss=0.0223]\n",
      "[Epoch 14/20]:   0%|                                                    | 0/2 [00:00<?, ?it/s, Loss=0.0148]\n",
      "[Epoch 15/20]:   0%|                                                    | 0/2 [00:00<?, ?it/s, Loss=0.0109]\n",
      "[Epoch 16/20]:   0%|                                                   | 0/2 [00:00<?, ?it/s, Loss=0.00654]\n",
      "[Epoch 17/20]:   0%|                                                   | 0/2 [00:00<?, ?it/s, Loss=0.00547]\n",
      "[Epoch 18/20]:   0%|                                                   | 0/2 [00:00<?, ?it/s, Loss=0.00381]\n",
      "[Epoch 19/20]:   0%|                                                   | 0/2 [00:00<?, ?it/s, Loss=0.00329]\n",
      "[Epoch 20/20]:   0%|                                                   | 0/2 [00:00<?, ?it/s, Loss=0.00272]\n"
     ]
    },
    {
     "data": {
      "text/html": [
       "Waiting for W&B process to finish... <strong style=\"color:green\">(success).</strong>"
      ],
      "text/plain": [
       "<IPython.core.display.HTML object>"
      ]
     },
     "metadata": {},
     "output_type": "display_data"
    },
    {
     "data": {
      "text/html": [
       "<style>\n",
       "    table.wandb td:nth-child(1) { padding: 0 10px; text-align: left ; width: auto;} td:nth-child(2) {text-align: left ; width: 100%}\n",
       "    .wandb-row { display: flex; flex-direction: row; flex-wrap: wrap; justify-content: flex-start; width: 100% }\n",
       "    .wandb-col { display: flex; flex-direction: column; flex-basis: 100%; flex: 1; padding: 10px; }\n",
       "    </style>\n",
       "<div class=\"wandb-row\"><div class=\"wandb-col\"><h3>Run history:</h3><br/><table class=\"wandb\"><tr><td>epoch</td><td>▁▁▁▁▂▂▂▂▂▂▃▃▃▃▄▄▄▄▄▄▅▅▅▅▅▅▆▆▆▆▇▇▇▇▇▇████</td></tr><tr><td>loss</td><td>███▇▇█▇▇▇▇▆▆▆▅▅▄▃▃▃▂▂▂▂▁▁▁▁▁▁▁▁▁▁▁▁▁▁▁▁▁</td></tr></table><br/></div><div class=\"wandb-col\"><h3>Run summary:</h3><br/><table class=\"wandb\"><tr><td>epoch</td><td>19</td></tr><tr><td>loss</td><td>0.00272</td></tr></table><br/></div></div>"
      ],
      "text/plain": [
       "<IPython.core.display.HTML object>"
      ]
     },
     "metadata": {},
     "output_type": "display_data"
    },
    {
     "data": {
      "text/html": [
       "Synced <strong style=\"color:#cdcd00\">twilight-lake-115</strong>: <a href=\"https://wandb.ai/zukoewest/liBERTy-re2-k/runs/2tutx9f5\" target=\"_blank\">https://wandb.ai/zukoewest/liBERTy-re2-k/runs/2tutx9f5</a><br/>Synced 6 W&B file(s), 0 media file(s), 0 artifact file(s) and 0 other file(s)"
      ],
      "text/plain": [
       "<IPython.core.display.HTML object>"
      ]
     },
     "metadata": {},
     "output_type": "display_data"
    },
    {
     "data": {
      "text/html": [
       "Find logs at: <code>./wandb/run-20230101_204646-2tutx9f5/logs</code>"
      ],
      "text/plain": [
       "<IPython.core.display.HTML object>"
      ]
     },
     "metadata": {},
     "output_type": "display_data"
    },
    {
     "data": {
      "application/vnd.jupyter.widget-view+json": {
       "model_id": "8fad6b99067a4d5c861bec5501f78ae3",
       "version_major": 2,
       "version_minor": 0
      },
      "text/plain": [
       "VBox(children=(Label(value='Waiting for wandb.init()...\\r'), FloatProgress(value=0.016668522233279266, max=1.0…"
      ]
     },
     "metadata": {},
     "output_type": "display_data"
    },
    {
     "data": {
      "text/html": [
       "Tracking run with wandb version 0.13.7"
      ],
      "text/plain": [
       "<IPython.core.display.HTML object>"
      ]
     },
     "metadata": {},
     "output_type": "display_data"
    },
    {
     "data": {
      "text/html": [
       "Run data is saved locally in <code>/export/liBERTy/ensemble/wandb/run-20230101_204711-14j5i08y</code>"
      ],
      "text/plain": [
       "<IPython.core.display.HTML object>"
      ]
     },
     "metadata": {},
     "output_type": "display_data"
    },
    {
     "data": {
      "text/html": [
       "Syncing run <strong><a href=\"https://wandb.ai/zukoewest/liBERTy-re2-k-v/runs/14j5i08y\" target=\"_blank\">copper-eon-114</a></strong> to <a href=\"https://wandb.ai/zukoewest/liBERTy-re2-k-v\" target=\"_blank\">Weights & Biases</a> (<a href=\"https://wandb.me/run\" target=\"_blank\">docs</a>)<br/>"
      ],
      "text/plain": [
       "<IPython.core.display.HTML object>"
      ]
     },
     "metadata": {},
     "output_type": "display_data"
    },
    {
     "name": "stderr",
     "output_type": "stream",
     "text": [
      "  0%|                                           | 0/1640 [00:00<?, ?it/s, Loss=0.0631, Accuracy=1, Len=202]\n"
     ]
    },
    {
     "data": {
      "text/html": [
       "Waiting for W&B process to finish... <strong style=\"color:green\">(success).</strong>"
      ],
      "text/plain": [
       "<IPython.core.display.HTML object>"
      ]
     },
     "metadata": {},
     "output_type": "display_data"
    },
    {
     "data": {
      "application/vnd.jupyter.widget-view+json": {
       "model_id": "642cbe8db64e48328cb7145fd7e1236c",
       "version_major": 2,
       "version_minor": 0
      },
      "text/plain": [
       "VBox(children=(Label(value='0.004 MB of 0.004 MB uploaded (0.000 MB deduped)\\r'), FloatProgress(value=1.0, max…"
      ]
     },
     "metadata": {},
     "output_type": "display_data"
    },
    {
     "data": {
      "text/html": [
       "<style>\n",
       "    table.wandb td:nth-child(1) { padding: 0 10px; text-align: left ; width: auto;} td:nth-child(2) {text-align: left ; width: 100%}\n",
       "    .wandb-row { display: flex; flex-direction: row; flex-wrap: wrap; justify-content: flex-start; width: 100% }\n",
       "    .wandb-col { display: flex; flex-direction: column; flex-basis: 100%; flex: 1; padding: 10px; }\n",
       "    </style>\n",
       "<div class=\"wandb-row\"><div class=\"wandb-col\"><h3>Run history:</h3><br/><table class=\"wandb\"><tr><td>epoch</td><td>▁▁▁▁▁▁▁▁▁▁▁▁▁▁▁▁▁▁▁▁▁▁▁▁▁▁▁▁▁▁▁▁▁▁▁▁▁▁▁▁</td></tr><tr><td>loss</td><td>▁▁▁▁█▁▁▁▁▁▇▁▁▁▁▁▁▁▁▆▁█▁▁▁▁▁▁▁▁▁▁▁▁▁▁▁▁▁▁</td></tr></table><br/></div><div class=\"wandb-col\"><h3>Run summary:</h3><br/><table class=\"wandb\"><tr><td>epoch</td><td>19</td></tr><tr><td>loss</td><td>0.06315</td></tr></table><br/></div></div>"
      ],
      "text/plain": [
       "<IPython.core.display.HTML object>"
      ]
     },
     "metadata": {},
     "output_type": "display_data"
    },
    {
     "data": {
      "text/html": [
       "Synced <strong style=\"color:#cdcd00\">copper-eon-114</strong>: <a href=\"https://wandb.ai/zukoewest/liBERTy-re2-k-v/runs/14j5i08y\" target=\"_blank\">https://wandb.ai/zukoewest/liBERTy-re2-k-v/runs/14j5i08y</a><br/>Synced 6 W&B file(s), 0 media file(s), 0 artifact file(s) and 0 other file(s)"
      ],
      "text/plain": [
       "<IPython.core.display.HTML object>"
      ]
     },
     "metadata": {},
     "output_type": "display_data"
    },
    {
     "data": {
      "text/html": [
       "Find logs at: <code>./wandb/run-20230101_204711-14j5i08y/logs</code>"
      ],
      "text/plain": [
       "<IPython.core.display.HTML object>"
      ]
     },
     "metadata": {},
     "output_type": "display_data"
    }
   ],
   "source": [
    "wandb.init(project=\"liBERTy-re2-k\")\n",
    "model, optimizer = loadmodel()\n",
    "for epoch in range(max_epoch):\n",
    "    k_train_ = train(epoch, model, optimizer,  k_train_dataloader)\n",
    "    k_train_loss_.append(k_train_)\n",
    "#    if epoch%10 == 0:\n",
    "#        print('epoch: ', epoch)\n",
    "wandb.finish()\n",
    "wandb.init(project=\"liBERTy-re2-k-v\")\n",
    "k_test_loss_ = validation(model, k_validation_dataloader)\n",
    "wandb.finish()"
   ]
  },
  {
   "cell_type": "code",
   "execution_count": 42,
   "metadata": {},
   "outputs": [
    {
     "data": {
      "application/vnd.jupyter.widget-view+json": {
       "model_id": "9144732505df47f8a49e5a8e1efb4e94",
       "version_major": 2,
       "version_minor": 0
      },
      "text/plain": [
       "VBox(children=(Label(value='Waiting for wandb.init()...\\r'), FloatProgress(value=0.016669433866627514, max=1.0…"
      ]
     },
     "metadata": {},
     "output_type": "display_data"
    },
    {
     "data": {
      "text/html": [
       "Tracking run with wandb version 0.13.7"
      ],
      "text/plain": [
       "<IPython.core.display.HTML object>"
      ]
     },
     "metadata": {},
     "output_type": "display_data"
    },
    {
     "data": {
      "text/html": [
       "Run data is saved locally in <code>/export/liBERTy/ensemble/wandb/run-20230101_204720-2apm343m</code>"
      ],
      "text/plain": [
       "<IPython.core.display.HTML object>"
      ]
     },
     "metadata": {},
     "output_type": "display_data"
    },
    {
     "data": {
      "text/html": [
       "Syncing run <strong><a href=\"https://wandb.ai/zukoewest/liBERTy-re2-kk/runs/2apm343m\" target=\"_blank\">easy-leaf-115</a></strong> to <a href=\"https://wandb.ai/zukoewest/liBERTy-re2-kk\" target=\"_blank\">Weights & Biases</a> (<a href=\"https://wandb.me/run\" target=\"_blank\">docs</a>)<br/>"
      ],
      "text/plain": [
       "<IPython.core.display.HTML object>"
      ]
     },
     "metadata": {},
     "output_type": "display_data"
    },
    {
     "name": "stderr",
     "output_type": "stream",
     "text": [
      "Some weights of the model checkpoint at cl-tohoku/bert-base-japanese-whole-word-masking were not used when initializing BertForSequenceClassification: ['cls.predictions.transform.LayerNorm.weight', 'cls.seq_relationship.weight', 'cls.seq_relationship.bias', 'cls.predictions.transform.dense.weight', 'cls.predictions.transform.LayerNorm.bias', 'cls.predictions.decoder.weight', 'cls.predictions.bias', 'cls.predictions.transform.dense.bias']\n",
      "- This IS expected if you are initializing BertForSequenceClassification from the checkpoint of a model trained on another task or with another architecture (e.g. initializing a BertForSequenceClassification model from a BertForPreTraining model).\n",
      "- This IS NOT expected if you are initializing BertForSequenceClassification from the checkpoint of a model that you expect to be exactly identical (initializing a BertForSequenceClassification model from a BertForSequenceClassification model).\n",
      "Some weights of BertForSequenceClassification were not initialized from the model checkpoint at cl-tohoku/bert-base-japanese-whole-word-masking and are newly initialized: ['classifier.weight', 'classifier.bias']\n",
      "You should probably TRAIN this model on a down-stream task to be able to use it for predictions and inference.\n",
      "[Epoch 1/20]:   0%|                                                      | 0/2 [00:00<?, ?it/s, Loss=0.737]\n",
      "[Epoch 2/20]:   0%|                                                      | 0/2 [00:00<?, ?it/s, Loss=0.698]\n",
      "[Epoch 3/20]:   0%|                                                      | 0/2 [00:00<?, ?it/s, Loss=0.683]\n",
      "[Epoch 4/20]:   0%|                                                      | 0/2 [00:00<?, ?it/s, Loss=0.661]\n",
      "[Epoch 5/20]:   0%|                                                      | 0/2 [00:00<?, ?it/s, Loss=0.623]\n",
      "[Epoch 6/20]:   0%|                                                      | 0/2 [00:00<?, ?it/s, Loss=0.609]\n",
      "[Epoch 7/20]:   0%|                                                      | 0/2 [00:00<?, ?it/s, Loss=0.549]\n",
      "[Epoch 8/20]:   0%|                                                      | 0/2 [00:00<?, ?it/s, Loss=0.466]\n",
      "[Epoch 9/20]:   0%|                                                      | 0/2 [00:00<?, ?it/s, Loss=0.396]\n",
      "[Epoch 10/20]:   0%|                                                     | 0/2 [00:00<?, ?it/s, Loss=0.305]\n",
      "[Epoch 11/20]:   0%|                                                     | 0/2 [00:00<?, ?it/s, Loss=0.217]\n",
      "[Epoch 12/20]:   0%|                                                     | 0/2 [00:00<?, ?it/s, Loss=0.137]\n",
      "[Epoch 13/20]:   0%|                                                    | 0/2 [00:00<?, ?it/s, Loss=0.0967]\n",
      "[Epoch 14/20]:   0%|                                                    | 0/2 [00:00<?, ?it/s, Loss=0.0527]\n",
      "[Epoch 15/20]:   0%|                                                    | 0/2 [00:00<?, ?it/s, Loss=0.0329]\n",
      "[Epoch 16/20]:   0%|                                                    | 0/2 [00:00<?, ?it/s, Loss=0.0188]\n",
      "[Epoch 17/20]:   0%|                                                    | 0/2 [00:00<?, ?it/s, Loss=0.0127]\n",
      "[Epoch 18/20]:   0%|                                                   | 0/2 [00:00<?, ?it/s, Loss=0.00846]\n",
      "[Epoch 19/20]:   0%|                                                   | 0/2 [00:00<?, ?it/s, Loss=0.00653]\n",
      "[Epoch 20/20]:   0%|                                                   | 0/2 [00:00<?, ?it/s, Loss=0.00421]\n"
     ]
    },
    {
     "data": {
      "text/html": [
       "Waiting for W&B process to finish... <strong style=\"color:green\">(success).</strong>"
      ],
      "text/plain": [
       "<IPython.core.display.HTML object>"
      ]
     },
     "metadata": {},
     "output_type": "display_data"
    },
    {
     "data": {
      "application/vnd.jupyter.widget-view+json": {
       "model_id": "d427e70233d24b6dafc286c50141180b",
       "version_major": 2,
       "version_minor": 0
      },
      "text/plain": [
       "VBox(children=(Label(value='0.004 MB of 0.004 MB uploaded (0.000 MB deduped)\\r'), FloatProgress(value=1.0, max…"
      ]
     },
     "metadata": {},
     "output_type": "display_data"
    },
    {
     "data": {
      "text/html": [
       "<style>\n",
       "    table.wandb td:nth-child(1) { padding: 0 10px; text-align: left ; width: auto;} td:nth-child(2) {text-align: left ; width: 100%}\n",
       "    .wandb-row { display: flex; flex-direction: row; flex-wrap: wrap; justify-content: flex-start; width: 100% }\n",
       "    .wandb-col { display: flex; flex-direction: column; flex-basis: 100%; flex: 1; padding: 10px; }\n",
       "    </style>\n",
       "<div class=\"wandb-row\"><div class=\"wandb-col\"><h3>Run history:</h3><br/><table class=\"wandb\"><tr><td>epoch</td><td>▁▁▁▁▂▂▂▂▂▂▃▃▃▃▄▄▄▄▄▄▅▅▅▅▅▅▆▆▆▆▇▇▇▇▇▇████</td></tr><tr><td>loss</td><td>█▇▇▇▇▇▇▇▇▆▆▆▆▆▆▅▅▄▄▄▃▃▂▂▂▂▂▁▁▁▁▁▁▁▁▁▁▁▁▁</td></tr></table><br/></div><div class=\"wandb-col\"><h3>Run summary:</h3><br/><table class=\"wandb\"><tr><td>epoch</td><td>19</td></tr><tr><td>loss</td><td>0.00421</td></tr></table><br/></div></div>"
      ],
      "text/plain": [
       "<IPython.core.display.HTML object>"
      ]
     },
     "metadata": {},
     "output_type": "display_data"
    },
    {
     "data": {
      "text/html": [
       "Synced <strong style=\"color:#cdcd00\">easy-leaf-115</strong>: <a href=\"https://wandb.ai/zukoewest/liBERTy-re2-kk/runs/2apm343m\" target=\"_blank\">https://wandb.ai/zukoewest/liBERTy-re2-kk/runs/2apm343m</a><br/>Synced 6 W&B file(s), 0 media file(s), 0 artifact file(s) and 0 other file(s)"
      ],
      "text/plain": [
       "<IPython.core.display.HTML object>"
      ]
     },
     "metadata": {},
     "output_type": "display_data"
    },
    {
     "data": {
      "text/html": [
       "Find logs at: <code>./wandb/run-20230101_204720-2apm343m/logs</code>"
      ],
      "text/plain": [
       "<IPython.core.display.HTML object>"
      ]
     },
     "metadata": {},
     "output_type": "display_data"
    },
    {
     "data": {
      "application/vnd.jupyter.widget-view+json": {
       "model_id": "7b77d23e0def4cfa82c53f04c7ff2027",
       "version_major": 2,
       "version_minor": 0
      },
      "text/plain": [
       "VBox(children=(Label(value='Waiting for wandb.init()...\\r'), FloatProgress(value=0.016669375449904086, max=1.0…"
      ]
     },
     "metadata": {},
     "output_type": "display_data"
    },
    {
     "data": {
      "text/html": [
       "Tracking run with wandb version 0.13.7"
      ],
      "text/plain": [
       "<IPython.core.display.HTML object>"
      ]
     },
     "metadata": {},
     "output_type": "display_data"
    },
    {
     "data": {
      "text/html": [
       "Run data is saved locally in <code>/export/liBERTy/ensemble/wandb/run-20230101_204744-24vzlgmd</code>"
      ],
      "text/plain": [
       "<IPython.core.display.HTML object>"
      ]
     },
     "metadata": {},
     "output_type": "display_data"
    },
    {
     "data": {
      "text/html": [
       "Syncing run <strong><a href=\"https://wandb.ai/zukoewest/liBERTy-re2-kk-v/runs/24vzlgmd\" target=\"_blank\">brisk-oath-114</a></strong> to <a href=\"https://wandb.ai/zukoewest/liBERTy-re2-kk-v\" target=\"_blank\">Weights & Biases</a> (<a href=\"https://wandb.me/run\" target=\"_blank\">docs</a>)<br/>"
      ],
      "text/plain": [
       "<IPython.core.display.HTML object>"
      ]
     },
     "metadata": {},
     "output_type": "display_data"
    },
    {
     "name": "stderr",
     "output_type": "stream",
     "text": [
      "  0%|                                             | 0/1640 [00:01<?, ?it/s, Loss=1.11, Accuracy=0, Len=202]\n"
     ]
    },
    {
     "data": {
      "text/html": [
       "Waiting for W&B process to finish... <strong style=\"color:green\">(success).</strong>"
      ],
      "text/plain": [
       "<IPython.core.display.HTML object>"
      ]
     },
     "metadata": {},
     "output_type": "display_data"
    },
    {
     "data": {
      "application/vnd.jupyter.widget-view+json": {
       "model_id": "4984cd4195dc4ca99f88a51d111ce45e",
       "version_major": 2,
       "version_minor": 0
      },
      "text/plain": [
       "VBox(children=(Label(value='0.004 MB of 0.004 MB uploaded (0.000 MB deduped)\\r'), FloatProgress(value=1.0, max…"
      ]
     },
     "metadata": {},
     "output_type": "display_data"
    },
    {
     "data": {
      "text/html": [
       "<style>\n",
       "    table.wandb td:nth-child(1) { padding: 0 10px; text-align: left ; width: auto;} td:nth-child(2) {text-align: left ; width: 100%}\n",
       "    .wandb-row { display: flex; flex-direction: row; flex-wrap: wrap; justify-content: flex-start; width: 100% }\n",
       "    .wandb-col { display: flex; flex-direction: column; flex-basis: 100%; flex: 1; padding: 10px; }\n",
       "    </style>\n",
       "<div class=\"wandb-row\"><div class=\"wandb-col\"><h3>Run history:</h3><br/><table class=\"wandb\"><tr><td>epoch</td><td>▁▁▁▁▁▁▁▁▁▁▁▁▁▁▁▁▁▁▁▁▁▁▁▁▁▁▁▁▁▁▁▁▁▁▁▁▁▁▁▁</td></tr><tr><td>loss</td><td>▁▁▁▁▅▁▁▁▁▁█▁▇▁▁▁▁▁▁▁▁█▁▁▁▁▁▁▁▁▁▄▁▁▁▁▁▁▁▃</td></tr></table><br/></div><div class=\"wandb-col\"><h3>Run summary:</h3><br/><table class=\"wandb\"><tr><td>epoch</td><td>19</td></tr><tr><td>loss</td><td>1.11083</td></tr></table><br/></div></div>"
      ],
      "text/plain": [
       "<IPython.core.display.HTML object>"
      ]
     },
     "metadata": {},
     "output_type": "display_data"
    },
    {
     "data": {
      "text/html": [
       "Synced <strong style=\"color:#cdcd00\">brisk-oath-114</strong>: <a href=\"https://wandb.ai/zukoewest/liBERTy-re2-kk-v/runs/24vzlgmd\" target=\"_blank\">https://wandb.ai/zukoewest/liBERTy-re2-kk-v/runs/24vzlgmd</a><br/>Synced 6 W&B file(s), 0 media file(s), 0 artifact file(s) and 0 other file(s)"
      ],
      "text/plain": [
       "<IPython.core.display.HTML object>"
      ]
     },
     "metadata": {},
     "output_type": "display_data"
    },
    {
     "data": {
      "text/html": [
       "Find logs at: <code>./wandb/run-20230101_204744-24vzlgmd/logs</code>"
      ],
      "text/plain": [
       "<IPython.core.display.HTML object>"
      ]
     },
     "metadata": {},
     "output_type": "display_data"
    }
   ],
   "source": [
    "wandb.init(project=\"liBERTy-re2-kk\")\n",
    "model, optimizer = loadmodel()\n",
    "for epoch in range(max_epoch):\n",
    "    kk_train_ = train(epoch, model, optimizer,  kk_train_dataloader)\n",
    "    kk_train_loss_.append(kk_train_)\n",
    "#    if epoch%10 == 0:\n",
    "#        print('epoch: ', epoch)\n",
    "wandb.finish()\n",
    "wandb.init(project=\"liBERTy-re2-kk-v\")\n",
    "kk_test_loss_ = validation(model, kk_validation_dataloader)\n",
    "wandb.finish()"
   ]
  },
  {
   "cell_type": "code",
   "execution_count": 43,
   "metadata": {},
   "outputs": [
    {
     "data": {
      "application/vnd.jupyter.widget-view+json": {
       "model_id": "126ca79efb1a49559f6d02af291777d7",
       "version_major": 2,
       "version_minor": 0
      },
      "text/plain": [
       "VBox(children=(Label(value='Waiting for wandb.init()...\\r'), FloatProgress(value=0.016669442649921016, max=1.0…"
      ]
     },
     "metadata": {},
     "output_type": "display_data"
    },
    {
     "data": {
      "text/html": [
       "Tracking run with wandb version 0.13.7"
      ],
      "text/plain": [
       "<IPython.core.display.HTML object>"
      ]
     },
     "metadata": {},
     "output_type": "display_data"
    },
    {
     "data": {
      "text/html": [
       "Run data is saved locally in <code>/export/liBERTy/ensemble/wandb/run-20230101_204753-3uqtovsm</code>"
      ],
      "text/plain": [
       "<IPython.core.display.HTML object>"
      ]
     },
     "metadata": {},
     "output_type": "display_data"
    },
    {
     "data": {
      "text/html": [
       "Syncing run <strong><a href=\"https://wandb.ai/zukoewest/liBERTy-re2-s/runs/3uqtovsm\" target=\"_blank\">different-shape-115</a></strong> to <a href=\"https://wandb.ai/zukoewest/liBERTy-re2-s\" target=\"_blank\">Weights & Biases</a> (<a href=\"https://wandb.me/run\" target=\"_blank\">docs</a>)<br/>"
      ],
      "text/plain": [
       "<IPython.core.display.HTML object>"
      ]
     },
     "metadata": {},
     "output_type": "display_data"
    },
    {
     "name": "stderr",
     "output_type": "stream",
     "text": [
      "Some weights of the model checkpoint at cl-tohoku/bert-base-japanese-whole-word-masking were not used when initializing BertForSequenceClassification: ['cls.predictions.transform.LayerNorm.weight', 'cls.seq_relationship.weight', 'cls.seq_relationship.bias', 'cls.predictions.transform.dense.weight', 'cls.predictions.transform.LayerNorm.bias', 'cls.predictions.decoder.weight', 'cls.predictions.bias', 'cls.predictions.transform.dense.bias']\n",
      "- This IS expected if you are initializing BertForSequenceClassification from the checkpoint of a model trained on another task or with another architecture (e.g. initializing a BertForSequenceClassification model from a BertForPreTraining model).\n",
      "- This IS NOT expected if you are initializing BertForSequenceClassification from the checkpoint of a model that you expect to be exactly identical (initializing a BertForSequenceClassification model from a BertForSequenceClassification model).\n",
      "Some weights of BertForSequenceClassification were not initialized from the model checkpoint at cl-tohoku/bert-base-japanese-whole-word-masking and are newly initialized: ['classifier.weight', 'classifier.bias']\n",
      "You should probably TRAIN this model on a down-stream task to be able to use it for predictions and inference.\n",
      "[Epoch 1/20]:   0%|                                                       | 0/2 [00:00<?, ?it/s, Loss=0.68]\n",
      "[Epoch 2/20]:   0%|                                                      | 0/2 [00:00<?, ?it/s, Loss=0.646]\n",
      "[Epoch 3/20]:   0%|                                                      | 0/2 [00:00<?, ?it/s, Loss=0.639]\n",
      "[Epoch 4/20]:   0%|                                                      | 0/2 [00:00<?, ?it/s, Loss=0.598]\n",
      "[Epoch 5/20]:   0%|                                                      | 0/2 [00:00<?, ?it/s, Loss=0.567]\n",
      "[Epoch 6/20]:   0%|                                                      | 0/2 [00:00<?, ?it/s, Loss=0.539]\n",
      "[Epoch 7/20]:   0%|                                                      | 0/2 [00:00<?, ?it/s, Loss=0.404]\n",
      "[Epoch 8/20]:   0%|                                                      | 0/2 [00:00<?, ?it/s, Loss=0.285]\n",
      "[Epoch 9/20]:   0%|                                                      | 0/2 [00:00<?, ?it/s, Loss=0.221]\n",
      "[Epoch 10/20]:   0%|                                                     | 0/2 [00:00<?, ?it/s, Loss=0.195]\n",
      "[Epoch 11/20]:   0%|                                                     | 0/2 [00:00<?, ?it/s, Loss=0.117]\n",
      "[Epoch 12/20]:   0%|                                                       | 0/2 [00:00<?, ?it/s, Loss=0.1]\n",
      "[Epoch 13/20]:   0%|                                                    | 0/2 [00:00<?, ?it/s, Loss=0.0858]\n",
      "[Epoch 14/20]:   0%|                                                    | 0/2 [00:00<?, ?it/s, Loss=0.0345]\n",
      "[Epoch 15/20]:   0%|                                                    | 0/2 [00:00<?, ?it/s, Loss=0.0195]\n",
      "[Epoch 16/20]:   0%|                                                     | 0/2 [00:00<?, ?it/s, Loss=0.013]\n",
      "[Epoch 17/20]:   0%|                                                    | 0/2 [00:00<?, ?it/s, Loss=0.0088]\n",
      "[Epoch 18/20]:   0%|                                                   | 0/2 [00:00<?, ?it/s, Loss=0.00625]\n",
      "[Epoch 19/20]:   0%|                                                   | 0/2 [00:00<?, ?it/s, Loss=0.00436]\n",
      "[Epoch 20/20]:   0%|                                                   | 0/2 [00:00<?, ?it/s, Loss=0.00334]\n"
     ]
    },
    {
     "data": {
      "text/html": [
       "Waiting for W&B process to finish... <strong style=\"color:green\">(success).</strong>"
      ],
      "text/plain": [
       "<IPython.core.display.HTML object>"
      ]
     },
     "metadata": {},
     "output_type": "display_data"
    },
    {
     "data": {
      "application/vnd.jupyter.widget-view+json": {
       "model_id": "61f8e9f3c69e4e319d8b98cd6fc553c0",
       "version_major": 2,
       "version_minor": 0
      },
      "text/plain": [
       "VBox(children=(Label(value='0.004 MB of 0.004 MB uploaded (0.000 MB deduped)\\r'), FloatProgress(value=1.0, max…"
      ]
     },
     "metadata": {},
     "output_type": "display_data"
    },
    {
     "data": {
      "text/html": [
       "<style>\n",
       "    table.wandb td:nth-child(1) { padding: 0 10px; text-align: left ; width: auto;} td:nth-child(2) {text-align: left ; width: 100%}\n",
       "    .wandb-row { display: flex; flex-direction: row; flex-wrap: wrap; justify-content: flex-start; width: 100% }\n",
       "    .wandb-col { display: flex; flex-direction: column; flex-basis: 100%; flex: 1; padding: 10px; }\n",
       "    </style>\n",
       "<div class=\"wandb-row\"><div class=\"wandb-col\"><h3>Run history:</h3><br/><table class=\"wandb\"><tr><td>epoch</td><td>▁▁▁▁▂▂▂▂▂▂▃▃▃▃▄▄▄▄▄▄▅▅▅▅▅▅▆▆▆▆▇▇▇▇▇▇████</td></tr><tr><td>loss</td><td>███▇█▇▇▇▇▇▆▆▆▅▅▄▅▃▃▃▃▂▂▂▂▂▁▁▁▁▁▁▁▁▁▁▁▁▁▁</td></tr></table><br/></div><div class=\"wandb-col\"><h3>Run summary:</h3><br/><table class=\"wandb\"><tr><td>epoch</td><td>19</td></tr><tr><td>loss</td><td>0.00334</td></tr></table><br/></div></div>"
      ],
      "text/plain": [
       "<IPython.core.display.HTML object>"
      ]
     },
     "metadata": {},
     "output_type": "display_data"
    },
    {
     "data": {
      "text/html": [
       "Synced <strong style=\"color:#cdcd00\">different-shape-115</strong>: <a href=\"https://wandb.ai/zukoewest/liBERTy-re2-s/runs/3uqtovsm\" target=\"_blank\">https://wandb.ai/zukoewest/liBERTy-re2-s/runs/3uqtovsm</a><br/>Synced 6 W&B file(s), 0 media file(s), 0 artifact file(s) and 0 other file(s)"
      ],
      "text/plain": [
       "<IPython.core.display.HTML object>"
      ]
     },
     "metadata": {},
     "output_type": "display_data"
    },
    {
     "data": {
      "text/html": [
       "Find logs at: <code>./wandb/run-20230101_204753-3uqtovsm/logs</code>"
      ],
      "text/plain": [
       "<IPython.core.display.HTML object>"
      ]
     },
     "metadata": {},
     "output_type": "display_data"
    },
    {
     "data": {
      "application/vnd.jupyter.widget-view+json": {
       "model_id": "a44cf80cea0b4a308edbf044a4448ce9",
       "version_major": 2,
       "version_minor": 0
      },
      "text/plain": [
       "VBox(children=(Label(value='Waiting for wandb.init()...\\r'), FloatProgress(value=0.01666790191666223, max=1.0)…"
      ]
     },
     "metadata": {},
     "output_type": "display_data"
    },
    {
     "data": {
      "text/html": [
       "Tracking run with wandb version 0.13.7"
      ],
      "text/plain": [
       "<IPython.core.display.HTML object>"
      ]
     },
     "metadata": {},
     "output_type": "display_data"
    },
    {
     "data": {
      "text/html": [
       "Run data is saved locally in <code>/export/liBERTy/ensemble/wandb/run-20230101_204817-2oh2pmov</code>"
      ],
      "text/plain": [
       "<IPython.core.display.HTML object>"
      ]
     },
     "metadata": {},
     "output_type": "display_data"
    },
    {
     "data": {
      "text/html": [
       "Syncing run <strong><a href=\"https://wandb.ai/zukoewest/liBERTy-re2-s-v/runs/2oh2pmov\" target=\"_blank\">driven-plasma-113</a></strong> to <a href=\"https://wandb.ai/zukoewest/liBERTy-re2-s-v\" target=\"_blank\">Weights & Biases</a> (<a href=\"https://wandb.me/run\" target=\"_blank\">docs</a>)<br/>"
      ],
      "text/plain": [
       "<IPython.core.display.HTML object>"
      ]
     },
     "metadata": {},
     "output_type": "display_data"
    },
    {
     "name": "stderr",
     "output_type": "stream",
     "text": [
      "  0%|                                           | 0/1640 [00:01<?, ?it/s, Loss=0.0152, Accuracy=1, Len=202]\n"
     ]
    },
    {
     "data": {
      "text/html": [
       "Waiting for W&B process to finish... <strong style=\"color:green\">(success).</strong>"
      ],
      "text/plain": [
       "<IPython.core.display.HTML object>"
      ]
     },
     "metadata": {},
     "output_type": "display_data"
    },
    {
     "data": {
      "application/vnd.jupyter.widget-view+json": {
       "model_id": "d52be38a572b4d2a96c433dec6791eb7",
       "version_major": 2,
       "version_minor": 0
      },
      "text/plain": [
       "VBox(children=(Label(value='0.004 MB of 0.004 MB uploaded (0.000 MB deduped)\\r'), FloatProgress(value=1.0, max…"
      ]
     },
     "metadata": {},
     "output_type": "display_data"
    },
    {
     "data": {
      "text/html": [
       "<style>\n",
       "    table.wandb td:nth-child(1) { padding: 0 10px; text-align: left ; width: auto;} td:nth-child(2) {text-align: left ; width: 100%}\n",
       "    .wandb-row { display: flex; flex-direction: row; flex-wrap: wrap; justify-content: flex-start; width: 100% }\n",
       "    .wandb-col { display: flex; flex-direction: column; flex-basis: 100%; flex: 1; padding: 10px; }\n",
       "    </style>\n",
       "<div class=\"wandb-row\"><div class=\"wandb-col\"><h3>Run history:</h3><br/><table class=\"wandb\"><tr><td>epoch</td><td>▁▁▁▁▁▁▁▁▁▁▁▁▁▁▁▁▁▁▁▁▁▁▁▁▁▁▁▁▁▁▁▁▁▁▁▁▁▁▁▁</td></tr><tr><td>loss</td><td>▁▄▁▁█▁▁▁▁▁█▁▁▁▁▁▁▁▁▁▁▁▁▁▁▁▁▁▁▁▁▁▁▁▁▁▁▁▁▁</td></tr></table><br/></div><div class=\"wandb-col\"><h3>Run summary:</h3><br/><table class=\"wandb\"><tr><td>epoch</td><td>19</td></tr><tr><td>loss</td><td>0.01517</td></tr></table><br/></div></div>"
      ],
      "text/plain": [
       "<IPython.core.display.HTML object>"
      ]
     },
     "metadata": {},
     "output_type": "display_data"
    },
    {
     "data": {
      "text/html": [
       "Synced <strong style=\"color:#cdcd00\">driven-plasma-113</strong>: <a href=\"https://wandb.ai/zukoewest/liBERTy-re2-s-v/runs/2oh2pmov\" target=\"_blank\">https://wandb.ai/zukoewest/liBERTy-re2-s-v/runs/2oh2pmov</a><br/>Synced 6 W&B file(s), 0 media file(s), 0 artifact file(s) and 0 other file(s)"
      ],
      "text/plain": [
       "<IPython.core.display.HTML object>"
      ]
     },
     "metadata": {},
     "output_type": "display_data"
    },
    {
     "data": {
      "text/html": [
       "Find logs at: <code>./wandb/run-20230101_204817-2oh2pmov/logs</code>"
      ],
      "text/plain": [
       "<IPython.core.display.HTML object>"
      ]
     },
     "metadata": {},
     "output_type": "display_data"
    }
   ],
   "source": [
    "wandb.init(project=\"liBERTy-re2-s\")\n",
    "model, optimizer = loadmodel()\n",
    "for epoch in range(max_epoch):\n",
    "    s_train_ = train(epoch, model, optimizer,  s_train_dataloader)\n",
    "    s_train_loss_.append(s_train_)\n",
    "#    if epoch%10 == 0:\n",
    "#        print('epoch: ', epoch)\n",
    "wandb.finish()\n",
    "wandb.init(project=\"liBERTy-re2-s-v\")\n",
    "s_test_loss_ = validation(model, s_validation_dataloader)\n",
    "wandb.finish()"
   ]
  },
  {
   "cell_type": "code",
   "execution_count": 44,
   "metadata": {},
   "outputs": [],
   "source": [
    "sents = []\n",
    "\n",
    "for i in range(df.shape[0]):\n",
    "    sents.append(tokenizer.convert_tokens_to_ids(tokenizer.tokenize(sentences[i])))\n",
    "\n",
    "#print(sents)\n",
    "sents = pd.DataFrame(sents)\n",
    "#print(type(sents))"
   ]
  },
  {
   "cell_type": "markdown",
   "metadata": {},
   "source": [
    "# type soroete X train test Y train test wo kaizan suru"
   ]
  },
  {
   "cell_type": "code",
   "execution_count": 45,
   "metadata": {},
   "outputs": [],
   "source": [
    "h_pred_ = []\n",
    "t_pred_ = []\n",
    "a_pred_ = []\n",
    "k_pred_ = []\n",
    "kk_pred_ = []\n",
    "s_pred_ = []\n",
    "\n",
    "for i in range(len(h_test_loss_[1])):\n",
    "    h_pred_.append(np.argmax(np.array(h_test_loss_[1][i])))\n",
    "    t_pred_.append(np.argmax(np.array(t_test_loss_[1][i])))\n",
    "    a_pred_.append(np.argmax(np.array(a_test_loss_[1][i])))\n",
    "    k_pred_.append(np.argmax(np.array(k_test_loss_[1][i])))\n",
    "    kk_pred_.append(np.argmax(np.array(kk_test_loss_[1][i])))\n",
    "    s_pred_.append(np.argmax(np.array(s_test_loss_[1][i])))"
   ]
  },
  {
   "cell_type": "code",
   "execution_count": 46,
   "metadata": {},
   "outputs": [],
   "source": [
    "vlabel = []\n",
    "for _,_,label in h_validation_dataloader:\n",
    "    # preventing Too many open files Error\n",
    "    vlabel.append(copy.deepcopy(label.detach().numpy()))"
   ]
  },
  {
   "cell_type": "code",
   "execution_count": 47,
   "metadata": {},
   "outputs": [
    {
     "data": {
      "text/html": [
       "<div>\n",
       "<style scoped>\n",
       "    .dataframe tbody tr th:only-of-type {\n",
       "        vertical-align: middle;\n",
       "    }\n",
       "\n",
       "    .dataframe tbody tr th {\n",
       "        vertical-align: top;\n",
       "    }\n",
       "\n",
       "    .dataframe thead th {\n",
       "        text-align: right;\n",
       "    }\n",
       "</style>\n",
       "<table border=\"1\" class=\"dataframe\">\n",
       "  <thead>\n",
       "    <tr style=\"text-align: right;\">\n",
       "      <th></th>\n",
       "      <th>h_pred_label</th>\n",
       "      <th>t_pred_label</th>\n",
       "      <th>a_pred_label</th>\n",
       "      <th>k_pred_label</th>\n",
       "      <th>kk_pred_label</th>\n",
       "      <th>s_pred_label</th>\n",
       "      <th>true_label</th>\n",
       "    </tr>\n",
       "  </thead>\n",
       "  <tbody>\n",
       "    <tr>\n",
       "      <th>0</th>\n",
       "      <td>1.0</td>\n",
       "      <td>1.0</td>\n",
       "      <td>1.0</td>\n",
       "      <td>1.0</td>\n",
       "      <td>1.0</td>\n",
       "      <td>1.0</td>\n",
       "      <td>1</td>\n",
       "    </tr>\n",
       "    <tr>\n",
       "      <th>1</th>\n",
       "      <td>1.0</td>\n",
       "      <td>1.0</td>\n",
       "      <td>1.0</td>\n",
       "      <td>1.0</td>\n",
       "      <td>1.0</td>\n",
       "      <td>1.0</td>\n",
       "      <td>1</td>\n",
       "    </tr>\n",
       "    <tr>\n",
       "      <th>2</th>\n",
       "      <td>0.0</td>\n",
       "      <td>0.0</td>\n",
       "      <td>0.0</td>\n",
       "      <td>0.0</td>\n",
       "      <td>0.0</td>\n",
       "      <td>0.0</td>\n",
       "      <td>0</td>\n",
       "    </tr>\n",
       "    <tr>\n",
       "      <th>3</th>\n",
       "      <td>0.0</td>\n",
       "      <td>0.0</td>\n",
       "      <td>0.0</td>\n",
       "      <td>0.0</td>\n",
       "      <td>0.0</td>\n",
       "      <td>0.0</td>\n",
       "      <td>0</td>\n",
       "    </tr>\n",
       "    <tr>\n",
       "      <th>4</th>\n",
       "      <td>0.0</td>\n",
       "      <td>0.0</td>\n",
       "      <td>0.0</td>\n",
       "      <td>0.0</td>\n",
       "      <td>0.0</td>\n",
       "      <td>0.0</td>\n",
       "      <td>0</td>\n",
       "    </tr>\n",
       "  </tbody>\n",
       "</table>\n",
       "</div>"
      ],
      "text/plain": [
       "   h_pred_label  t_pred_label  a_pred_label  k_pred_label  kk_pred_label  \\\n",
       "0           1.0           1.0           1.0           1.0            1.0   \n",
       "1           1.0           1.0           1.0           1.0            1.0   \n",
       "2           0.0           0.0           0.0           0.0            0.0   \n",
       "3           0.0           0.0           0.0           0.0            0.0   \n",
       "4           0.0           0.0           0.0           0.0            0.0   \n",
       "\n",
       "   s_pred_label  true_label  \n",
       "0           1.0           1  \n",
       "1           1.0           1  \n",
       "2           0.0           0  \n",
       "3           0.0           0  \n",
       "4           0.0           0  "
      ]
     },
     "execution_count": 47,
     "metadata": {},
     "output_type": "execute_result"
    }
   ],
   "source": [
    "h_pred_df = pd.DataFrame(h_pred_, columns=['h_pred_label'])\n",
    "t_pred_df = pd.DataFrame(t_pred_, columns=['t_pred_label'])\n",
    "a_pred_df = pd.DataFrame(a_pred_, columns=['a_pred_label'])\n",
    "k_pred_df = pd.DataFrame(k_pred_, columns=['k_pred_label'])\n",
    "kk_pred_df = pd.DataFrame(kk_pred_, columns=['kk_pred_label'])\n",
    "s_pred_df = pd.DataFrame(s_pred_, columns=['s_pred_label'])\n",
    "label_df = pd.DataFrame(vlabel, columns=['true_label'])\n",
    "accuracy_df = pd.concat([h_pred_df, t_pred_df, a_pred_df, k_pred_df, kk_pred_df, s_pred_df, label_df], axis=1)\n",
    "accuracy_df.head(5)"
   ]
  },
  {
   "cell_type": "code",
   "execution_count": 48,
   "metadata": {},
   "outputs": [],
   "source": [
    "hpreds = h_pred_df.values\n",
    "tpreds = t_pred_df.values\n",
    "apreds = a_pred_df.values\n",
    "kpreds = k_pred_df.values\n",
    "kkpreds = kk_pred_df.values\n",
    "spreds = s_pred_df.values\n",
    "preds = []\n",
    "pred = 0\n",
    "m = 7\n",
    "\n",
    "for i in range(len(hpreds)):\n",
    "    pred = hpreds[i]+tpreds[i]+apreds[i]+kpreds[i]+kkpreds[i]+spreds[i]\n",
    "    if pred/m < 0.5:\n",
    "        pred = 0\n",
    "    else:\n",
    "        pred = 1\n",
    "    preds.append(pred)"
   ]
  },
  {
   "cell_type": "code",
   "execution_count": 49,
   "metadata": {},
   "outputs": [],
   "source": [
    "preds_df = pd.DataFrame(preds, columns=['pred_label'])\n",
    "label_df = pd.DataFrame(vlabel, columns=['true_label'])\n",
    "ensaccuracy_df = pd.concat([preds_df, label_df], axis=1)\n",
    "#ensaccuracy_df"
   ]
  },
  {
   "cell_type": "markdown",
   "metadata": {},
   "source": [
    "# pred_label accuracy"
   ]
  },
  {
   "cell_type": "code",
   "execution_count": 50,
   "metadata": {},
   "outputs": [
    {
     "data": {
      "text/plain": [
       "92.57425742574257"
      ]
     },
     "execution_count": 50,
     "metadata": {},
     "output_type": "execute_result"
    }
   ],
   "source": [
    "cor = 0\n",
    "ypnum = 0 #yosoku\n",
    "spnum = 0 #seikai\n",
    "pnum = 0\n",
    "rnum = 0\n",
    "for i in range(len(preds_df)):\n",
    "    if preds_df.values[i] == label_df.values[i]:\n",
    "        cor += 1\n",
    "    if preds_df.values[i] == 0:\n",
    "        ypnum += 1\n",
    "        if label_df.values[i] == 0:\n",
    "            pnum += 1\n",
    "    if label_df.values[i] == 0:\n",
    "        spnum += 1\n",
    "        if preds_df.values[i] == 0:\n",
    "            rnum += 1\n",
    "        \n",
    "100*cor/len(preds_df)"
   ]
  },
  {
   "cell_type": "markdown",
   "metadata": {},
   "source": [
    "# pred_label F1"
   ]
  },
  {
   "cell_type": "code",
   "execution_count": 51,
   "metadata": {},
   "outputs": [
    {
     "data": {
      "text/plain": [
       "'\\n# tekigou\\ntp = pnum/ypnum\\n# saigen\\nsp = rnum/spnum\\n(tp*sp)/(tp+sp)\\n'"
      ]
     },
     "execution_count": 51,
     "metadata": {},
     "output_type": "execute_result"
    }
   ],
   "source": [
    "'''\n",
    "# tekigou\n",
    "tp = pnum/ypnum\n",
    "# saigen\n",
    "sp = rnum/spnum\n",
    "(tp*sp)/(tp+sp)\n",
    "'''"
   ]
  },
  {
   "cell_type": "code",
   "execution_count": 52,
   "metadata": {},
   "outputs": [],
   "source": [
    "from sklearn.metrics import f1_score\n",
    "def accuracy(pdf):\n",
    "    return (pdf == label_df.values[:len(pdf)]).sum()/len(pdf)\n",
    "\n",
    "def fscore(pdf):\n",
    "    return f1_score(pdf, label_df.values[:len(pdf)])"
   ]
  },
  {
   "cell_type": "code",
   "execution_count": 53,
   "metadata": {
    "scrolled": true
   },
   "outputs": [
    {
     "name": "stdout",
     "output_type": "stream",
     "text": [
      "head 0.8514851485148515 0.8684210526315789\n",
      "tail 0.8316831683168316 0.8559322033898303\n",
      "atama 0.9257425742574258 0.9282296650717703\n",
      "ketsu 0.8811881188118812 0.8928571428571428\n",
      "ketsu-10 0.905940594059406 0.9116279069767442\n",
      "summary 0.9554455445544554 0.955223880597015\n",
      "all 0.9257425742574258 0.9302325581395348\n"
     ]
    }
   ],
   "source": [
    "print('head', accuracy(hpreds), fscore(hpreds))\n",
    "print('tail', accuracy(tpreds), fscore(tpreds))\n",
    "print('atama', accuracy(apreds), fscore(apreds))\n",
    "print('ketsu', accuracy(kpreds), fscore(kpreds))\n",
    "print('ketsu-10', accuracy(kkpreds), fscore(kkpreds))\n",
    "print('summary', accuracy(spreds), fscore(spreds))\n",
    "print('all', accuracy(preds_df.values), fscore(preds_df.values))\n",
    "\n",
    "f = open('acc'+filestr+'.csv', 'w')\n",
    "f.write('head,'+str(accuracy(hpreds))+','+str(fscore(hpreds))+'\\n')\n",
    "f.write('tail,'+str(accuracy(tpreds))+','+str(fscore(tpreds))+'\\n')\n",
    "f.write('atama,'+str(accuracy(apreds))+','+str(fscore(apreds))+'\\n')\n",
    "f.write('ketsu,'+str(accuracy(kpreds))+','+str(fscore(kpreds))+'\\n')\n",
    "f.write('ketsu-10,'+str(accuracy(kkpreds))+','+str(fscore(kkpreds))+'\\n')\n",
    "f.write('summary,'+str(accuracy(spreds))+','+str(fscore(spreds))+'\\n')\n",
    "f.write('all,'+str(accuracy(preds_df.values))+','+str(fscore(preds_df.values))+'\\n')\n",
    "f.close()"
   ]
  },
  {
   "cell_type": "code",
   "execution_count": 54,
   "metadata": {},
   "outputs": [],
   "source": [
    "H_train_loss = []\n",
    "T_train_loss = []\n",
    "A_train_loss = []\n",
    "K_train_loss = []\n",
    "KK_train_loss = []\n",
    "S_train_loss = []\n",
    "\n",
    "for i in range(max_epoch):\n",
    "    H_train_loss.append(h_train_loss_[i][0])\n",
    "    T_train_loss.append(t_train_loss_[i][0])\n",
    "    A_train_loss.append(a_train_loss_[i][0])\n",
    "    K_train_loss.append(k_train_loss_[i][0])\n",
    "    KK_train_loss.append(kk_train_loss_[i][0])\n",
    "    S_train_loss.append(s_train_loss_[i][0])"
   ]
  },
  {
   "cell_type": "code",
   "execution_count": 55,
   "metadata": {},
   "outputs": [],
   "source": [
    "import csv\n",
    "f = open('ens_augens-re2-rep-'+filestr+'.csv', 'w')\n",
    "f.write('H, T, A, K, KK, S\\n')\n",
    "writer = csv.writer(f)\n",
    "writer.writerows(map(lambda h, t, a, k, kk, s: [h, t, a, k, kk, s], H_train_loss, T_train_loss, A_train_loss,\n",
    "                  K_train_loss, KK_train_loss, S_train_loss))\n",
    "f.close()"
   ]
  },
  {
   "cell_type": "code",
   "execution_count": 56,
   "metadata": {},
   "outputs": [
    {
     "data": {
      "image/png": "[encoded data removed]",
      "text/plain": [
       "<Figure size 640x480 with 1 Axes>"
      ]
     },
     "metadata": {},
     "output_type": "display_data"
    }
   ],
   "source": [
    "import matplotlib.pyplot as plt\n",
    "\n",
    "plt.plot(range(len(H_train_loss)), H_train_loss, label=\"Head\")\n",
    "plt.plot(range(len(T_train_loss)), T_train_loss, label=\"Tail\")\n",
    "plt.plot(range(len(A_train_loss)), A_train_loss, label=\"WakatiHead\")\n",
    "plt.plot(range(len(K_train_loss)), K_train_loss, label=\"WakatiTail\")\n",
    "plt.plot(range(len(KK_train_loss)), KK_train_loss, label=\"WakatiTail-10\")\n",
    "plt.plot(range(len(S_train_loss)), S_train_loss, label=\"Summary\")\n",
    "plt.legend()\n",
    "plt.xlabel(\"Epochs\")\n",
    "plt.ylabel(\"Loss\")\n",
    "plt.savefig(\"ens_augens-re2-fig-\"+filestr+\".png\", format=\"png\", dpi=300)\n",
    "plt.show()"
   ]
  }
 ],
 "metadata": {
  "accelerator": "GPU",
  "colab": {
   "collapsed_sections": [],
   "name": "BERTclassification.ipynb",
   "provenance": [
    {
     "file_id": "1mxMTVW123hMPhZLg9UjVEhkL_vrFvMp7",
     "timestamp": 1659890794413
    }
   ]
  },
  "gpuClass": "standard",
  "kernelspec": {
   "display_name": "Python 3 (ipykernel)",
   "language": "python",
   "name": "python3"
  },
  "language_info": {
   "codemirror_mode": {
    "name": "ipython",
    "version": 3
   },
   "file_extension": ".py",
   "mimetype": "text/x-python",
   "name": "python",
   "nbconvert_exporter": "python",
   "pygments_lexer": "ipython3",
   "version": "3.10.8"
  },
  "widgets": {
   "application/vnd.jupyter.widget-state+json": {
    "08a0764a15bb4b45ab9bfdbe3a02c318": {
     "model_module": "@jupyter-widgets/controls",
     "model_module_version": "1.5.0",
     "model_name": "ProgressStyleModel",
     "state": {
      "_model_module": "@jupyter-widgets/controls",
      "_model_module_version": "1.5.0",
      "_model_name": "ProgressStyleModel",
      "_view_count": null,
      "_view_module": "@jupyter-widgets/base",
      "_view_module_version": "1.2.0",
      "_view_name": "StyleView",
      "bar_color": null,
      "description_width": ""
     }
    },
    "0b407dd3170f4f55be7f8708c59d262b": {
     "model_module": "@jupyter-widgets/controls",
     "model_module_version": "1.5.0",
     "model_name": "HBoxModel",
     "state": {
      "_dom_classes": [],
      "_model_module": "@jupyter-widgets/controls",
      "_model_module_version": "1.5.0",
      "_model_name": "HBoxModel",
      "_view_count": null,
      "_view_module": "@jupyter-widgets/controls",
      "_view_module_version": "1.5.0",
      "_view_name": "HBoxView",
      "box_style": "",
      "children": [
       "IPY_MODEL_5616789e354d45699ea2040757dbd5c3",
       "IPY_MODEL_d6bc8aac6ca74bff92bba66f17c20b00",
       "IPY_MODEL_96fb1e06ef4349b5b6a071be230a711c"
      ],
      "layout": "IPY_MODEL_8d05e54e5fc644d2a3c974758c5e439c"
     }
    },
    "105e552bd7bd468f976e099cbe7c74cf": {
     "model_module": "@jupyter-widgets/base",
     "model_module_version": "1.2.0",
     "model_name": "LayoutModel",
     "state": {
      "_model_module": "@jupyter-widgets/base",
      "_model_module_version": "1.2.0",
      "_model_name": "LayoutModel",
      "_view_count": null,
      "_view_module": "@jupyter-widgets/base",
      "_view_module_version": "1.2.0",
      "_view_name": "LayoutView",
      "align_content": null,
      "align_items": null,
      "align_self": null,
      "border": null,
      "bottom": null,
      "display": null,
      "flex": null,
      "flex_flow": null,
      "grid_area": null,
      "grid_auto_columns": null,
      "grid_auto_flow": null,
      "grid_auto_rows": null,
      "grid_column": null,
      "grid_gap": null,
      "grid_row": null,
      "grid_template_areas": null,
      "grid_template_columns": null,
      "grid_template_rows": null,
      "height": null,
      "justify_content": null,
      "justify_items": null,
      "left": null,
      "margin": null,
      "max_height": null,
      "max_width": null,
      "min_height": null,
      "min_width": null,
      "object_fit": null,
      "object_position": null,
      "order": null,
      "overflow": null,
      "overflow_x": null,
      "overflow_y": null,
      "padding": null,
      "right": null,
      "top": null,
      "visibility": null,
      "width": null
     }
    },
    "11cc64e4ce0843ae88a651762d68b844": {
     "model_module": "@jupyter-widgets/controls",
     "model_module_version": "1.5.0",
     "model_name": "DescriptionStyleModel",
     "state": {
      "_model_module": "@jupyter-widgets/controls",
      "_model_module_version": "1.5.0",
      "_model_name": "DescriptionStyleModel",
      "_view_count": null,
      "_view_module": "@jupyter-widgets/base",
      "_view_module_version": "1.2.0",
      "_view_name": "StyleView",
      "description_width": ""
     }
    },
    "1aff4434a10549e387f749140d4721f4": {
     "model_module": "@jupyter-widgets/controls",
     "model_module_version": "1.5.0",
     "model_name": "DescriptionStyleModel",
     "state": {
      "_model_module": "@jupyter-widgets/controls",
      "_model_module_version": "1.5.0",
      "_model_name": "DescriptionStyleModel",
      "_view_count": null,
      "_view_module": "@jupyter-widgets/base",
      "_view_module_version": "1.2.0",
      "_view_name": "StyleView",
      "description_width": ""
     }
    },
    "1ed1c48157da42b7bc8719879f3c13c8": {
     "model_module": "@jupyter-widgets/controls",
     "model_module_version": "1.5.0",
     "model_name": "HTMLModel",
     "state": {
      "_dom_classes": [],
      "_model_module": "@jupyter-widgets/controls",
      "_model_module_version": "1.5.0",
      "_model_name": "HTMLModel",
      "_view_count": null,
      "_view_module": "@jupyter-widgets/controls",
      "_view_module_version": "1.5.0",
      "_view_name": "HTMLView",
      "description": "",
      "description_tooltip": null,
      "layout": "IPY_MODEL_7481c5bc470c42cf8ef6d38b69c4ce8a",
      "placeholder": "​",
      "style": "IPY_MODEL_240f4e1960d44c189adf177c9eb4a17e",
      "value": " 424M/424M [00:15&lt;00:00, 54.9MB/s]"
     }
    },
    "240f4e1960d44c189adf177c9eb4a17e": {
     "model_module": "@jupyter-widgets/controls",
     "model_module_version": "1.5.0",
     "model_name": "DescriptionStyleModel",
     "state": {
      "_model_module": "@jupyter-widgets/controls",
      "_model_module_version": "1.5.0",
      "_model_name": "DescriptionStyleModel",
      "_view_count": null,
      "_view_module": "@jupyter-widgets/base",
      "_view_module_version": "1.2.0",
      "_view_name": "StyleView",
      "description_width": ""
     }
    },
    "2dc2139703bb4448969390f2a91e00f6": {
     "model_module": "@jupyter-widgets/base",
     "model_module_version": "1.2.0",
     "model_name": "LayoutModel",
     "state": {
      "_model_module": "@jupyter-widgets/base",
      "_model_module_version": "1.2.0",
      "_model_name": "LayoutModel",
      "_view_count": null,
      "_view_module": "@jupyter-widgets/base",
      "_view_module_version": "1.2.0",
      "_view_name": "LayoutView",
      "align_content": null,
      "align_items": null,
      "align_self": null,
      "border": null,
      "bottom": null,
      "display": null,
      "flex": null,
      "flex_flow": null,
      "grid_area": null,
      "grid_auto_columns": null,
      "grid_auto_flow": null,
      "grid_auto_rows": null,
      "grid_column": null,
      "grid_gap": null,
      "grid_row": null,
      "grid_template_areas": null,
      "grid_template_columns": null,
      "grid_template_rows": null,
      "height": null,
      "justify_content": null,
      "justify_items": null,
      "left": null,
      "margin": null,
      "max_height": null,
      "max_width": null,
      "min_height": null,
      "min_width": null,
      "object_fit": null,
      "object_position": null,
      "order": null,
      "overflow": null,
      "overflow_x": null,
      "overflow_y": null,
      "padding": null,
      "right": null,
      "top": null,
      "visibility": null,
      "width": null
     }
    },
    "3994b8f69c284d758c5f04deeb3fcca1": {
     "model_module": "@jupyter-widgets/base",
     "model_module_version": "1.2.0",
     "model_name": "LayoutModel",
     "state": {
      "_model_module": "@jupyter-widgets/base",
      "_model_module_version": "1.2.0",
      "_model_name": "LayoutModel",
      "_view_count": null,
      "_view_module": "@jupyter-widgets/base",
      "_view_module_version": "1.2.0",
      "_view_name": "LayoutView",
      "align_content": null,
      "align_items": null,
      "align_self": null,
      "border": null,
      "bottom": null,
      "display": null,
      "flex": null,
      "flex_flow": null,
      "grid_area": null,
      "grid_auto_columns": null,
      "grid_auto_flow": null,
      "grid_auto_rows": null,
      "grid_column": null,
      "grid_gap": null,
      "grid_row": null,
      "grid_template_areas": null,
      "grid_template_columns": null,
      "grid_template_rows": null,
      "height": null,
      "justify_content": null,
      "justify_items": null,
      "left": null,
      "margin": null,
      "max_height": null,
      "max_width": null,
      "min_height": null,
      "min_width": null,
      "object_fit": null,
      "object_position": null,
      "order": null,
      "overflow": null,
      "overflow_x": null,
      "overflow_y": null,
      "padding": null,
      "right": null,
      "top": null,
      "visibility": null,
      "width": null
     }
    },
    "423c0b6849204bbc96c7b039633373f9": {
     "model_module": "@jupyter-widgets/base",
     "model_module_version": "1.2.0",
     "model_name": "LayoutModel",
     "state": {
      "_model_module": "@jupyter-widgets/base",
      "_model_module_version": "1.2.0",
      "_model_name": "LayoutModel",
      "_view_count": null,
      "_view_module": "@jupyter-widgets/base",
      "_view_module_version": "1.2.0",
      "_view_name": "LayoutView",
      "align_content": null,
      "align_items": null,
      "align_self": null,
      "border": null,
      "bottom": null,
      "display": null,
      "flex": null,
      "flex_flow": null,
      "grid_area": null,
      "grid_auto_columns": null,
      "grid_auto_flow": null,
      "grid_auto_rows": null,
      "grid_column": null,
      "grid_gap": null,
      "grid_row": null,
      "grid_template_areas": null,
      "grid_template_columns": null,
      "grid_template_rows": null,
      "height": null,
      "justify_content": null,
      "justify_items": null,
      "left": null,
      "margin": null,
      "max_height": null,
      "max_width": null,
      "min_height": null,
      "min_width": null,
      "object_fit": null,
      "object_position": null,
      "order": null,
      "overflow": null,
      "overflow_x": null,
      "overflow_y": null,
      "padding": null,
      "right": null,
      "top": null,
      "visibility": null,
      "width": null
     }
    },
    "4535f833bfac4540a8add9686f623b54": {
     "model_module": "@jupyter-widgets/controls",
     "model_module_version": "1.5.0",
     "model_name": "FloatProgressModel",
     "state": {
      "_dom_classes": [],
      "_model_module": "@jupyter-widgets/controls",
      "_model_module_version": "1.5.0",
      "_model_name": "FloatProgressModel",
      "_view_count": null,
      "_view_module": "@jupyter-widgets/controls",
      "_view_module_version": "1.5.0",
      "_view_name": "ProgressView",
      "bar_style": "success",
      "description": "",
      "description_tooltip": null,
      "layout": "IPY_MODEL_9279616c547b47de92a436ebb026fd79",
      "max": 153,
      "min": 0,
      "orientation": "horizontal",
      "style": "IPY_MODEL_b3910389daf34e31af5f33ef7d539625",
      "value": 153
     }
    },
    "45555846fc9746af9a06d76c6c9aee1b": {
     "model_module": "@jupyter-widgets/controls",
     "model_module_version": "1.5.0",
     "model_name": "DescriptionStyleModel",
     "state": {
      "_model_module": "@jupyter-widgets/controls",
      "_model_module_version": "1.5.0",
      "_model_name": "DescriptionStyleModel",
      "_view_count": null,
      "_view_module": "@jupyter-widgets/base",
      "_view_module_version": "1.2.0",
      "_view_name": "StyleView",
      "description_width": ""
     }
    },
    "46351ebb1bfd41b5b9fbc4de40e218e3": {
     "model_module": "@jupyter-widgets/controls",
     "model_module_version": "1.5.0",
     "model_name": "DescriptionStyleModel",
     "state": {
      "_model_module": "@jupyter-widgets/controls",
      "_model_module_version": "1.5.0",
      "_model_name": "DescriptionStyleModel",
      "_view_count": null,
      "_view_module": "@jupyter-widgets/base",
      "_view_module_version": "1.2.0",
      "_view_name": "StyleView",
      "description_width": ""
     }
    },
    "50d37681841a449094298dcb52ff9059": {
     "model_module": "@jupyter-widgets/base",
     "model_module_version": "1.2.0",
     "model_name": "LayoutModel",
     "state": {
      "_model_module": "@jupyter-widgets/base",
      "_model_module_version": "1.2.0",
      "_model_name": "LayoutModel",
      "_view_count": null,
      "_view_module": "@jupyter-widgets/base",
      "_view_module_version": "1.2.0",
      "_view_name": "LayoutView",
      "align_content": null,
      "align_items": null,
      "align_self": null,
      "border": null,
      "bottom": null,
      "display": null,
      "flex": null,
      "flex_flow": null,
      "grid_area": null,
      "grid_auto_columns": null,
      "grid_auto_flow": null,
      "grid_auto_rows": null,
      "grid_column": null,
      "grid_gap": null,
      "grid_row": null,
      "grid_template_areas": null,
      "grid_template_columns": null,
      "grid_template_rows": null,
      "height": null,
      "justify_content": null,
      "justify_items": null,
      "left": null,
      "margin": null,
      "max_height": null,
      "max_width": null,
      "min_height": null,
      "min_width": null,
      "object_fit": null,
      "object_position": null,
      "order": null,
      "overflow": null,
      "overflow_x": null,
      "overflow_y": null,
      "padding": null,
      "right": null,
      "top": null,
      "visibility": null,
      "width": null
     }
    },
    "5616789e354d45699ea2040757dbd5c3": {
     "model_module": "@jupyter-widgets/controls",
     "model_module_version": "1.5.0",
     "model_name": "HTMLModel",
     "state": {
      "_dom_classes": [],
      "_model_module": "@jupyter-widgets/controls",
      "_model_module_version": "1.5.0",
      "_model_name": "HTMLModel",
      "_view_count": null,
      "_view_module": "@jupyter-widgets/controls",
      "_view_module_version": "1.5.0",
      "_view_name": "HTMLView",
      "description": "",
      "description_tooltip": null,
      "layout": "IPY_MODEL_9a20acb0a8fc4320af5a849c9d780649",
      "placeholder": "​",
      "style": "IPY_MODEL_45555846fc9746af9a06d76c6c9aee1b",
      "value": "Downloading spiece.model: 100%"
     }
    },
    "705cf2ba17614d51853eeb9dfc74d540": {
     "model_module": "@jupyter-widgets/controls",
     "model_module_version": "1.5.0",
     "model_name": "FloatProgressModel",
     "state": {
      "_dom_classes": [],
      "_model_module": "@jupyter-widgets/controls",
      "_model_module_version": "1.5.0",
      "_model_name": "FloatProgressModel",
      "_view_count": null,
      "_view_module": "@jupyter-widgets/controls",
      "_view_module_version": "1.5.0",
      "_view_name": "ProgressView",
      "bar_style": "success",
      "description": "",
      "description_tooltip": null,
      "layout": "IPY_MODEL_3994b8f69c284d758c5f04deeb3fcca1",
      "max": 259,
      "min": 0,
      "orientation": "horizontal",
      "style": "IPY_MODEL_08a0764a15bb4b45ab9bfdbe3a02c318",
      "value": 259
     }
    },
    "7093eae4a1e94e7fbc341564be6a727c": {
     "model_module": "@jupyter-widgets/base",
     "model_module_version": "1.2.0",
     "model_name": "LayoutModel",
     "state": {
      "_model_module": "@jupyter-widgets/base",
      "_model_module_version": "1.2.0",
      "_model_name": "LayoutModel",
      "_view_count": null,
      "_view_module": "@jupyter-widgets/base",
      "_view_module_version": "1.2.0",
      "_view_name": "LayoutView",
      "align_content": null,
      "align_items": null,
      "align_self": null,
      "border": null,
      "bottom": null,
      "display": null,
      "flex": null,
      "flex_flow": null,
      "grid_area": null,
      "grid_auto_columns": null,
      "grid_auto_flow": null,
      "grid_auto_rows": null,
      "grid_column": null,
      "grid_gap": null,
      "grid_row": null,
      "grid_template_areas": null,
      "grid_template_columns": null,
      "grid_template_rows": null,
      "height": null,
      "justify_content": null,
      "justify_items": null,
      "left": null,
      "margin": null,
      "max_height": null,
      "max_width": null,
      "min_height": null,
      "min_width": null,
      "object_fit": null,
      "object_position": null,
      "order": null,
      "overflow": null,
      "overflow_x": null,
      "overflow_y": null,
      "padding": null,
      "right": null,
      "top": null,
      "visibility": null,
      "width": null
     }
    },
    "73fb8df2799443d996d165878dc526a8": {
     "model_module": "@jupyter-widgets/controls",
     "model_module_version": "1.5.0",
     "model_name": "HBoxModel",
     "state": {
      "_dom_classes": [],
      "_model_module": "@jupyter-widgets/controls",
      "_model_module_version": "1.5.0",
      "_model_name": "HBoxModel",
      "_view_count": null,
      "_view_module": "@jupyter-widgets/controls",
      "_view_module_version": "1.5.0",
      "_view_name": "HBoxView",
      "box_style": "",
      "children": [
       "IPY_MODEL_c9f368ede2d24e3095242e9a3cf8c545",
       "IPY_MODEL_4535f833bfac4540a8add9686f623b54",
       "IPY_MODEL_7803695cfa5742bf85208ee04193acb0"
      ],
      "layout": "IPY_MODEL_423c0b6849204bbc96c7b039633373f9"
     }
    },
    "7481c5bc470c42cf8ef6d38b69c4ce8a": {
     "model_module": "@jupyter-widgets/base",
     "model_module_version": "1.2.0",
     "model_name": "LayoutModel",
     "state": {
      "_model_module": "@jupyter-widgets/base",
      "_model_module_version": "1.2.0",
      "_model_name": "LayoutModel",
      "_view_count": null,
      "_view_module": "@jupyter-widgets/base",
      "_view_module_version": "1.2.0",
      "_view_name": "LayoutView",
      "align_content": null,
      "align_items": null,
      "align_self": null,
      "border": null,
      "bottom": null,
      "display": null,
      "flex": null,
      "flex_flow": null,
      "grid_area": null,
      "grid_auto_columns": null,
      "grid_auto_flow": null,
      "grid_auto_rows": null,
      "grid_column": null,
      "grid_gap": null,
      "grid_row": null,
      "grid_template_areas": null,
      "grid_template_columns": null,
      "grid_template_rows": null,
      "height": null,
      "justify_content": null,
      "justify_items": null,
      "left": null,
      "margin": null,
      "max_height": null,
      "max_width": null,
      "min_height": null,
      "min_width": null,
      "object_fit": null,
      "object_position": null,
      "order": null,
      "overflow": null,
      "overflow_x": null,
      "overflow_y": null,
      "padding": null,
      "right": null,
      "top": null,
      "visibility": null,
      "width": null
     }
    },
    "7803695cfa5742bf85208ee04193acb0": {
     "model_module": "@jupyter-widgets/controls",
     "model_module_version": "1.5.0",
     "model_name": "HTMLModel",
     "state": {
      "_dom_classes": [],
      "_model_module": "@jupyter-widgets/controls",
      "_model_module_version": "1.5.0",
      "_model_name": "HTMLModel",
      "_view_count": null,
      "_view_module": "@jupyter-widgets/controls",
      "_view_module_version": "1.5.0",
      "_view_name": "HTMLView",
      "description": "",
      "description_tooltip": null,
      "layout": "IPY_MODEL_d808ec79b0dd465a82077ca7f2c8feb6",
      "placeholder": "​",
      "style": "IPY_MODEL_d2a46f9221b14f86a3330510812f258e",
      "value": " 153/153 [00:00&lt;00:00, 4.82kB/s]"
     }
    },
    "7ce3a9778e6841e38f6bb2c3d8cfe9b8": {
     "model_module": "@jupyter-widgets/controls",
     "model_module_version": "1.5.0",
     "model_name": "HTMLModel",
     "state": {
      "_dom_classes": [],
      "_model_module": "@jupyter-widgets/controls",
      "_model_module_version": "1.5.0",
      "_model_name": "HTMLModel",
      "_view_count": null,
      "_view_module": "@jupyter-widgets/controls",
      "_view_module_version": "1.5.0",
      "_view_name": "HTMLView",
      "description": "",
      "description_tooltip": null,
      "layout": "IPY_MODEL_105e552bd7bd468f976e099cbe7c74cf",
      "placeholder": "​",
      "style": "IPY_MODEL_fe1020e5f4eb483fa3fce57764a2508c",
      "value": "Downloading config.json: 100%"
     }
    },
    "83cf06c42be34c068dbbf6fcc5cfd6d5": {
     "model_module": "@jupyter-widgets/controls",
     "model_module_version": "1.5.0",
     "model_name": "HTMLModel",
     "state": {
      "_dom_classes": [],
      "_model_module": "@jupyter-widgets/controls",
      "_model_module_version": "1.5.0",
      "_model_name": "HTMLModel",
      "_view_count": null,
      "_view_module": "@jupyter-widgets/controls",
      "_view_module_version": "1.5.0",
      "_view_name": "HTMLView",
      "description": "",
      "description_tooltip": null,
      "layout": "IPY_MODEL_f629f372d73b44efb31e8d7c5a45d4cd",
      "placeholder": "​",
      "style": "IPY_MODEL_93c25b4c96e64fecbb7f569527e50722",
      "value": " 259/259 [00:00&lt;00:00, 8.26kB/s]"
     }
    },
    "887ca9f3ec9247c4b402bc72745aad0d": {
     "model_module": "@jupyter-widgets/controls",
     "model_module_version": "1.5.0",
     "model_name": "ProgressStyleModel",
     "state": {
      "_model_module": "@jupyter-widgets/controls",
      "_model_module_version": "1.5.0",
      "_model_name": "ProgressStyleModel",
      "_view_count": null,
      "_view_module": "@jupyter-widgets/base",
      "_view_module_version": "1.2.0",
      "_view_name": "StyleView",
      "bar_color": null,
      "description_width": ""
     }
    },
    "8988d5fad2d14b9b97cd311e99093641": {
     "model_module": "@jupyter-widgets/controls",
     "model_module_version": "1.5.0",
     "model_name": "FloatProgressModel",
     "state": {
      "_dom_classes": [],
      "_model_module": "@jupyter-widgets/controls",
      "_model_module_version": "1.5.0",
      "_model_name": "FloatProgressModel",
      "_view_count": null,
      "_view_module": "@jupyter-widgets/controls",
      "_view_module_version": "1.5.0",
      "_view_name": "ProgressView",
      "bar_style": "success",
      "description": "",
      "description_tooltip": null,
      "layout": "IPY_MODEL_9bb08df9e5004f5da8678c2fd10c8eb2",
      "max": 479,
      "min": 0,
      "orientation": "horizontal",
      "style": "IPY_MODEL_887ca9f3ec9247c4b402bc72745aad0d",
      "value": 479
     }
    },
    "8d05e54e5fc644d2a3c974758c5e439c": {
     "model_module": "@jupyter-widgets/base",
     "model_module_version": "1.2.0",
     "model_name": "LayoutModel",
     "state": {
      "_model_module": "@jupyter-widgets/base",
      "_model_module_version": "1.2.0",
      "_model_name": "LayoutModel",
      "_view_count": null,
      "_view_module": "@jupyter-widgets/base",
      "_view_module_version": "1.2.0",
      "_view_name": "LayoutView",
      "align_content": null,
      "align_items": null,
      "align_self": null,
      "border": null,
      "bottom": null,
      "display": null,
      "flex": null,
      "flex_flow": null,
      "grid_area": null,
      "grid_auto_columns": null,
      "grid_auto_flow": null,
      "grid_auto_rows": null,
      "grid_column": null,
      "grid_gap": null,
      "grid_row": null,
      "grid_template_areas": null,
      "grid_template_columns": null,
      "grid_template_rows": null,
      "height": null,
      "justify_content": null,
      "justify_items": null,
      "left": null,
      "margin": null,
      "max_height": null,
      "max_width": null,
      "min_height": null,
      "min_width": null,
      "object_fit": null,
      "object_position": null,
      "order": null,
      "overflow": null,
      "overflow_x": null,
      "overflow_y": null,
      "padding": null,
      "right": null,
      "top": null,
      "visibility": null,
      "width": null
     }
    },
    "9279616c547b47de92a436ebb026fd79": {
     "model_module": "@jupyter-widgets/base",
     "model_module_version": "1.2.0",
     "model_name": "LayoutModel",
     "state": {
      "_model_module": "@jupyter-widgets/base",
      "_model_module_version": "1.2.0",
      "_model_name": "LayoutModel",
      "_view_count": null,
      "_view_module": "@jupyter-widgets/base",
      "_view_module_version": "1.2.0",
      "_view_name": "LayoutView",
      "align_content": null,
      "align_items": null,
      "align_self": null,
      "border": null,
      "bottom": null,
      "display": null,
      "flex": null,
      "flex_flow": null,
      "grid_area": null,
      "grid_auto_columns": null,
      "grid_auto_flow": null,
      "grid_auto_rows": null,
      "grid_column": null,
      "grid_gap": null,
      "grid_row": null,
      "grid_template_areas": null,
      "grid_template_columns": null,
      "grid_template_rows": null,
      "height": null,
      "justify_content": null,
      "justify_items": null,
      "left": null,
      "margin": null,
      "max_height": null,
      "max_width": null,
      "min_height": null,
      "min_width": null,
      "object_fit": null,
      "object_position": null,
      "order": null,
      "overflow": null,
      "overflow_x": null,
      "overflow_y": null,
      "padding": null,
      "right": null,
      "top": null,
      "visibility": null,
      "width": null
     }
    },
    "937dd0c1d06e4d69824b7be991cc52f0": {
     "model_module": "@jupyter-widgets/base",
     "model_module_version": "1.2.0",
     "model_name": "LayoutModel",
     "state": {
      "_model_module": "@jupyter-widgets/base",
      "_model_module_version": "1.2.0",
      "_model_name": "LayoutModel",
      "_view_count": null,
      "_view_module": "@jupyter-widgets/base",
      "_view_module_version": "1.2.0",
      "_view_name": "LayoutView",
      "align_content": null,
      "align_items": null,
      "align_self": null,
      "border": null,
      "bottom": null,
      "display": null,
      "flex": null,
      "flex_flow": null,
      "grid_area": null,
      "grid_auto_columns": null,
      "grid_auto_flow": null,
      "grid_auto_rows": null,
      "grid_column": null,
      "grid_gap": null,
      "grid_row": null,
      "grid_template_areas": null,
      "grid_template_columns": null,
      "grid_template_rows": null,
      "height": null,
      "justify_content": null,
      "justify_items": null,
      "left": null,
      "margin": null,
      "max_height": null,
      "max_width": null,
      "min_height": null,
      "min_width": null,
      "object_fit": null,
      "object_position": null,
      "order": null,
      "overflow": null,
      "overflow_x": null,
      "overflow_y": null,
      "padding": null,
      "right": null,
      "top": null,
      "visibility": null,
      "width": null
     }
    },
    "93c25b4c96e64fecbb7f569527e50722": {
     "model_module": "@jupyter-widgets/controls",
     "model_module_version": "1.5.0",
     "model_name": "DescriptionStyleModel",
     "state": {
      "_model_module": "@jupyter-widgets/controls",
      "_model_module_version": "1.5.0",
      "_model_name": "DescriptionStyleModel",
      "_view_count": null,
      "_view_module": "@jupyter-widgets/base",
      "_view_module_version": "1.2.0",
      "_view_name": "StyleView",
      "description_width": ""
     }
    },
    "96fb1e06ef4349b5b6a071be230a711c": {
     "model_module": "@jupyter-widgets/controls",
     "model_module_version": "1.5.0",
     "model_name": "HTMLModel",
     "state": {
      "_dom_classes": [],
      "_model_module": "@jupyter-widgets/controls",
      "_model_module_version": "1.5.0",
      "_model_name": "HTMLModel",
      "_view_count": null,
      "_view_module": "@jupyter-widgets/controls",
      "_view_module_version": "1.5.0",
      "_view_name": "HTMLView",
      "description": "",
      "description_tooltip": null,
      "layout": "IPY_MODEL_efd4beed83d947b9a5eec5918dcd2319",
      "placeholder": "​",
      "style": "IPY_MODEL_1aff4434a10549e387f749140d4721f4",
      "value": " 787k/787k [00:00&lt;00:00, 11.4MB/s]"
     }
    },
    "9929328cf8d246d2b5be77a5fca18c0f": {
     "model_module": "@jupyter-widgets/controls",
     "model_module_version": "1.5.0",
     "model_name": "HBoxModel",
     "state": {
      "_dom_classes": [],
      "_model_module": "@jupyter-widgets/controls",
      "_model_module_version": "1.5.0",
      "_model_name": "HBoxModel",
      "_view_count": null,
      "_view_module": "@jupyter-widgets/controls",
      "_view_module_version": "1.5.0",
      "_view_name": "HBoxView",
      "box_style": "",
      "children": [
       "IPY_MODEL_7ce3a9778e6841e38f6bb2c3d8cfe9b8",
       "IPY_MODEL_8988d5fad2d14b9b97cd311e99093641",
       "IPY_MODEL_e72ccacac3434f939cd0e4adfb3bcc4d"
      ],
      "layout": "IPY_MODEL_a9503913e9204c7994b76af2f3fd7d3a"
     }
    },
    "9a20acb0a8fc4320af5a849c9d780649": {
     "model_module": "@jupyter-widgets/base",
     "model_module_version": "1.2.0",
     "model_name": "LayoutModel",
     "state": {
      "_model_module": "@jupyter-widgets/base",
      "_model_module_version": "1.2.0",
      "_model_name": "LayoutModel",
      "_view_count": null,
      "_view_module": "@jupyter-widgets/base",
      "_view_module_version": "1.2.0",
      "_view_name": "LayoutView",
      "align_content": null,
      "align_items": null,
      "align_self": null,
      "border": null,
      "bottom": null,
      "display": null,
      "flex": null,
      "flex_flow": null,
      "grid_area": null,
      "grid_auto_columns": null,
      "grid_auto_flow": null,
      "grid_auto_rows": null,
      "grid_column": null,
      "grid_gap": null,
      "grid_row": null,
      "grid_template_areas": null,
      "grid_template_columns": null,
      "grid_template_rows": null,
      "height": null,
      "justify_content": null,
      "justify_items": null,
      "left": null,
      "margin": null,
      "max_height": null,
      "max_width": null,
      "min_height": null,
      "min_width": null,
      "object_fit": null,
      "object_position": null,
      "order": null,
      "overflow": null,
      "overflow_x": null,
      "overflow_y": null,
      "padding": null,
      "right": null,
      "top": null,
      "visibility": null,
      "width": null
     }
    },
    "9a9b67b9ebf94a13a95e759a696c884f": {
     "model_module": "@jupyter-widgets/base",
     "model_module_version": "1.2.0",
     "model_name": "LayoutModel",
     "state": {
      "_model_module": "@jupyter-widgets/base",
      "_model_module_version": "1.2.0",
      "_model_name": "LayoutModel",
      "_view_count": null,
      "_view_module": "@jupyter-widgets/base",
      "_view_module_version": "1.2.0",
      "_view_name": "LayoutView",
      "align_content": null,
      "align_items": null,
      "align_self": null,
      "border": null,
      "bottom": null,
      "display": null,
      "flex": null,
      "flex_flow": null,
      "grid_area": null,
      "grid_auto_columns": null,
      "grid_auto_flow": null,
      "grid_auto_rows": null,
      "grid_column": null,
      "grid_gap": null,
      "grid_row": null,
      "grid_template_areas": null,
      "grid_template_columns": null,
      "grid_template_rows": null,
      "height": null,
      "justify_content": null,
      "justify_items": null,
      "left": null,
      "margin": null,
      "max_height": null,
      "max_width": null,
      "min_height": null,
      "min_width": null,
      "object_fit": null,
      "object_position": null,
      "order": null,
      "overflow": null,
      "overflow_x": null,
      "overflow_y": null,
      "padding": null,
      "right": null,
      "top": null,
      "visibility": null,
      "width": null
     }
    },
    "9bb08df9e5004f5da8678c2fd10c8eb2": {
     "model_module": "@jupyter-widgets/base",
     "model_module_version": "1.2.0",
     "model_name": "LayoutModel",
     "state": {
      "_model_module": "@jupyter-widgets/base",
      "_model_module_version": "1.2.0",
      "_model_name": "LayoutModel",
      "_view_count": null,
      "_view_module": "@jupyter-widgets/base",
      "_view_module_version": "1.2.0",
      "_view_name": "LayoutView",
      "align_content": null,
      "align_items": null,
      "align_self": null,
      "border": null,
      "bottom": null,
      "display": null,
      "flex": null,
      "flex_flow": null,
      "grid_area": null,
      "grid_auto_columns": null,
      "grid_auto_flow": null,
      "grid_auto_rows": null,
      "grid_column": null,
      "grid_gap": null,
      "grid_row": null,
      "grid_template_areas": null,
      "grid_template_columns": null,
      "grid_template_rows": null,
      "height": null,
      "justify_content": null,
      "justify_items": null,
      "left": null,
      "margin": null,
      "max_height": null,
      "max_width": null,
      "min_height": null,
      "min_width": null,
      "object_fit": null,
      "object_position": null,
      "order": null,
      "overflow": null,
      "overflow_x": null,
      "overflow_y": null,
      "padding": null,
      "right": null,
      "top": null,
      "visibility": null,
      "width": null
     }
    },
    "9f37d02a0ba944dc9633a68d71891f87": {
     "model_module": "@jupyter-widgets/controls",
     "model_module_version": "1.5.0",
     "model_name": "DescriptionStyleModel",
     "state": {
      "_model_module": "@jupyter-widgets/controls",
      "_model_module_version": "1.5.0",
      "_model_name": "DescriptionStyleModel",
      "_view_count": null,
      "_view_module": "@jupyter-widgets/base",
      "_view_module_version": "1.2.0",
      "_view_name": "StyleView",
      "description_width": ""
     }
    },
    "a0880f15772d4156a9eb94d6314c2d9e": {
     "model_module": "@jupyter-widgets/base",
     "model_module_version": "1.2.0",
     "model_name": "LayoutModel",
     "state": {
      "_model_module": "@jupyter-widgets/base",
      "_model_module_version": "1.2.0",
      "_model_name": "LayoutModel",
      "_view_count": null,
      "_view_module": "@jupyter-widgets/base",
      "_view_module_version": "1.2.0",
      "_view_name": "LayoutView",
      "align_content": null,
      "align_items": null,
      "align_self": null,
      "border": null,
      "bottom": null,
      "display": null,
      "flex": null,
      "flex_flow": null,
      "grid_area": null,
      "grid_auto_columns": null,
      "grid_auto_flow": null,
      "grid_auto_rows": null,
      "grid_column": null,
      "grid_gap": null,
      "grid_row": null,
      "grid_template_areas": null,
      "grid_template_columns": null,
      "grid_template_rows": null,
      "height": null,
      "justify_content": null,
      "justify_items": null,
      "left": null,
      "margin": null,
      "max_height": null,
      "max_width": null,
      "min_height": null,
      "min_width": null,
      "object_fit": null,
      "object_position": null,
      "order": null,
      "overflow": null,
      "overflow_x": null,
      "overflow_y": null,
      "padding": null,
      "right": null,
      "top": null,
      "visibility": null,
      "width": null
     }
    },
    "a6e9829602e047f5ab93e3dfb66195cb": {
     "model_module": "@jupyter-widgets/base",
     "model_module_version": "1.2.0",
     "model_name": "LayoutModel",
     "state": {
      "_model_module": "@jupyter-widgets/base",
      "_model_module_version": "1.2.0",
      "_model_name": "LayoutModel",
      "_view_count": null,
      "_view_module": "@jupyter-widgets/base",
      "_view_module_version": "1.2.0",
      "_view_name": "LayoutView",
      "align_content": null,
      "align_items": null,
      "align_self": null,
      "border": null,
      "bottom": null,
      "display": null,
      "flex": null,
      "flex_flow": null,
      "grid_area": null,
      "grid_auto_columns": null,
      "grid_auto_flow": null,
      "grid_auto_rows": null,
      "grid_column": null,
      "grid_gap": null,
      "grid_row": null,
      "grid_template_areas": null,
      "grid_template_columns": null,
      "grid_template_rows": null,
      "height": null,
      "justify_content": null,
      "justify_items": null,
      "left": null,
      "margin": null,
      "max_height": null,
      "max_width": null,
      "min_height": null,
      "min_width": null,
      "object_fit": null,
      "object_position": null,
      "order": null,
      "overflow": null,
      "overflow_x": null,
      "overflow_y": null,
      "padding": null,
      "right": null,
      "top": null,
      "visibility": null,
      "width": null
     }
    },
    "a93d3d99fab445ea80248bd9ae7b0d60": {
     "model_module": "@jupyter-widgets/controls",
     "model_module_version": "1.5.0",
     "model_name": "HBoxModel",
     "state": {
      "_dom_classes": [],
      "_model_module": "@jupyter-widgets/controls",
      "_model_module_version": "1.5.0",
      "_model_name": "HBoxModel",
      "_view_count": null,
      "_view_module": "@jupyter-widgets/controls",
      "_view_module_version": "1.5.0",
      "_view_name": "HBoxView",
      "box_style": "",
      "children": [
       "IPY_MODEL_fa68d1e07ae94cd2824d767335a63c64",
       "IPY_MODEL_f69e8de282434b9aa8a457a73593d080",
       "IPY_MODEL_1ed1c48157da42b7bc8719879f3c13c8"
      ],
      "layout": "IPY_MODEL_7093eae4a1e94e7fbc341564be6a727c"
     }
    },
    "a9503913e9204c7994b76af2f3fd7d3a": {
     "model_module": "@jupyter-widgets/base",
     "model_module_version": "1.2.0",
     "model_name": "LayoutModel",
     "state": {
      "_model_module": "@jupyter-widgets/base",
      "_model_module_version": "1.2.0",
      "_model_name": "LayoutModel",
      "_view_count": null,
      "_view_module": "@jupyter-widgets/base",
      "_view_module_version": "1.2.0",
      "_view_name": "LayoutView",
      "align_content": null,
      "align_items": null,
      "align_self": null,
      "border": null,
      "bottom": null,
      "display": null,
      "flex": null,
      "flex_flow": null,
      "grid_area": null,
      "grid_auto_columns": null,
      "grid_auto_flow": null,
      "grid_auto_rows": null,
      "grid_column": null,
      "grid_gap": null,
      "grid_row": null,
      "grid_template_areas": null,
      "grid_template_columns": null,
      "grid_template_rows": null,
      "height": null,
      "justify_content": null,
      "justify_items": null,
      "left": null,
      "margin": null,
      "max_height": null,
      "max_width": null,
      "min_height": null,
      "min_width": null,
      "object_fit": null,
      "object_position": null,
      "order": null,
      "overflow": null,
      "overflow_x": null,
      "overflow_y": null,
      "padding": null,
      "right": null,
      "top": null,
      "visibility": null,
      "width": null
     }
    },
    "b3910389daf34e31af5f33ef7d539625": {
     "model_module": "@jupyter-widgets/controls",
     "model_module_version": "1.5.0",
     "model_name": "ProgressStyleModel",
     "state": {
      "_model_module": "@jupyter-widgets/controls",
      "_model_module_version": "1.5.0",
      "_model_name": "ProgressStyleModel",
      "_view_count": null,
      "_view_module": "@jupyter-widgets/base",
      "_view_module_version": "1.2.0",
      "_view_name": "StyleView",
      "bar_color": null,
      "description_width": ""
     }
    },
    "baa09b17fcba4d8593e8155907a72c31": {
     "model_module": "@jupyter-widgets/controls",
     "model_module_version": "1.5.0",
     "model_name": "ProgressStyleModel",
     "state": {
      "_model_module": "@jupyter-widgets/controls",
      "_model_module_version": "1.5.0",
      "_model_name": "ProgressStyleModel",
      "_view_count": null,
      "_view_module": "@jupyter-widgets/base",
      "_view_module_version": "1.2.0",
      "_view_name": "StyleView",
      "bar_color": null,
      "description_width": ""
     }
    },
    "c7b849cdaf324e108283b9930d31ec7e": {
     "model_module": "@jupyter-widgets/controls",
     "model_module_version": "1.5.0",
     "model_name": "DescriptionStyleModel",
     "state": {
      "_model_module": "@jupyter-widgets/controls",
      "_model_module_version": "1.5.0",
      "_model_name": "DescriptionStyleModel",
      "_view_count": null,
      "_view_module": "@jupyter-widgets/base",
      "_view_module_version": "1.2.0",
      "_view_name": "StyleView",
      "description_width": ""
     }
    },
    "c9f368ede2d24e3095242e9a3cf8c545": {
     "model_module": "@jupyter-widgets/controls",
     "model_module_version": "1.5.0",
     "model_name": "HTMLModel",
     "state": {
      "_dom_classes": [],
      "_model_module": "@jupyter-widgets/controls",
      "_model_module_version": "1.5.0",
      "_model_name": "HTMLModel",
      "_view_count": null,
      "_view_module": "@jupyter-widgets/controls",
      "_view_module_version": "1.5.0",
      "_view_name": "HTMLView",
      "description": "",
      "description_tooltip": null,
      "layout": "IPY_MODEL_937dd0c1d06e4d69824b7be991cc52f0",
      "placeholder": "​",
      "style": "IPY_MODEL_11cc64e4ce0843ae88a651762d68b844",
      "value": "Downloading special_tokens_map.json: 100%"
     }
    },
    "cfd1b9e85db447fbaf01f66f6f0f6429": {
     "model_module": "@jupyter-widgets/controls",
     "model_module_version": "1.5.0",
     "model_name": "HTMLModel",
     "state": {
      "_dom_classes": [],
      "_model_module": "@jupyter-widgets/controls",
      "_model_module_version": "1.5.0",
      "_model_name": "HTMLModel",
      "_view_count": null,
      "_view_module": "@jupyter-widgets/controls",
      "_view_module_version": "1.5.0",
      "_view_name": "HTMLView",
      "description": "",
      "description_tooltip": null,
      "layout": "IPY_MODEL_2dc2139703bb4448969390f2a91e00f6",
      "placeholder": "​",
      "style": "IPY_MODEL_46351ebb1bfd41b5b9fbc4de40e218e3",
      "value": "Downloading tokenizer_config.json: 100%"
     }
    },
    "d2a46f9221b14f86a3330510812f258e": {
     "model_module": "@jupyter-widgets/controls",
     "model_module_version": "1.5.0",
     "model_name": "DescriptionStyleModel",
     "state": {
      "_model_module": "@jupyter-widgets/controls",
      "_model_module_version": "1.5.0",
      "_model_name": "DescriptionStyleModel",
      "_view_count": null,
      "_view_module": "@jupyter-widgets/base",
      "_view_module_version": "1.2.0",
      "_view_name": "StyleView",
      "description_width": ""
     }
    },
    "d337eb6795e241389d9b35805a59fc22": {
     "model_module": "@jupyter-widgets/controls",
     "model_module_version": "1.5.0",
     "model_name": "ProgressStyleModel",
     "state": {
      "_model_module": "@jupyter-widgets/controls",
      "_model_module_version": "1.5.0",
      "_model_name": "ProgressStyleModel",
      "_view_count": null,
      "_view_module": "@jupyter-widgets/base",
      "_view_module_version": "1.2.0",
      "_view_name": "StyleView",
      "bar_color": null,
      "description_width": ""
     }
    },
    "d6bc8aac6ca74bff92bba66f17c20b00": {
     "model_module": "@jupyter-widgets/controls",
     "model_module_version": "1.5.0",
     "model_name": "FloatProgressModel",
     "state": {
      "_dom_classes": [],
      "_model_module": "@jupyter-widgets/controls",
      "_model_module_version": "1.5.0",
      "_model_name": "FloatProgressModel",
      "_view_count": null,
      "_view_module": "@jupyter-widgets/controls",
      "_view_module_version": "1.5.0",
      "_view_name": "ProgressView",
      "bar_style": "success",
      "description": "",
      "description_tooltip": null,
      "layout": "IPY_MODEL_a0880f15772d4156a9eb94d6314c2d9e",
      "max": 805634,
      "min": 0,
      "orientation": "horizontal",
      "style": "IPY_MODEL_d337eb6795e241389d9b35805a59fc22",
      "value": 805634
     }
    },
    "d808ec79b0dd465a82077ca7f2c8feb6": {
     "model_module": "@jupyter-widgets/base",
     "model_module_version": "1.2.0",
     "model_name": "LayoutModel",
     "state": {
      "_model_module": "@jupyter-widgets/base",
      "_model_module_version": "1.2.0",
      "_model_name": "LayoutModel",
      "_view_count": null,
      "_view_module": "@jupyter-widgets/base",
      "_view_module_version": "1.2.0",
      "_view_name": "LayoutView",
      "align_content": null,
      "align_items": null,
      "align_self": null,
      "border": null,
      "bottom": null,
      "display": null,
      "flex": null,
      "flex_flow": null,
      "grid_area": null,
      "grid_auto_columns": null,
      "grid_auto_flow": null,
      "grid_auto_rows": null,
      "grid_column": null,
      "grid_gap": null,
      "grid_row": null,
      "grid_template_areas": null,
      "grid_template_columns": null,
      "grid_template_rows": null,
      "height": null,
      "justify_content": null,
      "justify_items": null,
      "left": null,
      "margin": null,
      "max_height": null,
      "max_width": null,
      "min_height": null,
      "min_width": null,
      "object_fit": null,
      "object_position": null,
      "order": null,
      "overflow": null,
      "overflow_x": null,
      "overflow_y": null,
      "padding": null,
      "right": null,
      "top": null,
      "visibility": null,
      "width": null
     }
    },
    "dd6aadfe79224713b5a47dd108ff71b9": {
     "model_module": "@jupyter-widgets/controls",
     "model_module_version": "1.5.0",
     "model_name": "HBoxModel",
     "state": {
      "_dom_classes": [],
      "_model_module": "@jupyter-widgets/controls",
      "_model_module_version": "1.5.0",
      "_model_name": "HBoxModel",
      "_view_count": null,
      "_view_module": "@jupyter-widgets/controls",
      "_view_module_version": "1.5.0",
      "_view_name": "HBoxView",
      "box_style": "",
      "children": [
       "IPY_MODEL_cfd1b9e85db447fbaf01f66f6f0f6429",
       "IPY_MODEL_705cf2ba17614d51853eeb9dfc74d540",
       "IPY_MODEL_83cf06c42be34c068dbbf6fcc5cfd6d5"
      ],
      "layout": "IPY_MODEL_9a9b67b9ebf94a13a95e759a696c884f"
     }
    },
    "e13d9164a1a6418b87f8fc9f2f5d10eb": {
     "model_module": "@jupyter-widgets/base",
     "model_module_version": "1.2.0",
     "model_name": "LayoutModel",
     "state": {
      "_model_module": "@jupyter-widgets/base",
      "_model_module_version": "1.2.0",
      "_model_name": "LayoutModel",
      "_view_count": null,
      "_view_module": "@jupyter-widgets/base",
      "_view_module_version": "1.2.0",
      "_view_name": "LayoutView",
      "align_content": null,
      "align_items": null,
      "align_self": null,
      "border": null,
      "bottom": null,
      "display": null,
      "flex": null,
      "flex_flow": null,
      "grid_area": null,
      "grid_auto_columns": null,
      "grid_auto_flow": null,
      "grid_auto_rows": null,
      "grid_column": null,
      "grid_gap": null,
      "grid_row": null,
      "grid_template_areas": null,
      "grid_template_columns": null,
      "grid_template_rows": null,
      "height": null,
      "justify_content": null,
      "justify_items": null,
      "left": null,
      "margin": null,
      "max_height": null,
      "max_width": null,
      "min_height": null,
      "min_width": null,
      "object_fit": null,
      "object_position": null,
      "order": null,
      "overflow": null,
      "overflow_x": null,
      "overflow_y": null,
      "padding": null,
      "right": null,
      "top": null,
      "visibility": null,
      "width": null
     }
    },
    "e72ccacac3434f939cd0e4adfb3bcc4d": {
     "model_module": "@jupyter-widgets/controls",
     "model_module_version": "1.5.0",
     "model_name": "HTMLModel",
     "state": {
      "_dom_classes": [],
      "_model_module": "@jupyter-widgets/controls",
      "_model_module_version": "1.5.0",
      "_model_name": "HTMLModel",
      "_view_count": null,
      "_view_module": "@jupyter-widgets/controls",
      "_view_module_version": "1.5.0",
      "_view_name": "HTMLView",
      "description": "",
      "description_tooltip": null,
      "layout": "IPY_MODEL_50d37681841a449094298dcb52ff9059",
      "placeholder": "​",
      "style": "IPY_MODEL_9f37d02a0ba944dc9633a68d71891f87",
      "value": " 479/479 [00:00&lt;00:00, 13.7kB/s]"
     }
    },
    "efd4beed83d947b9a5eec5918dcd2319": {
     "model_module": "@jupyter-widgets/base",
     "model_module_version": "1.2.0",
     "model_name": "LayoutModel",
     "state": {
      "_model_module": "@jupyter-widgets/base",
      "_model_module_version": "1.2.0",
      "_model_name": "LayoutModel",
      "_view_count": null,
      "_view_module": "@jupyter-widgets/base",
      "_view_module_version": "1.2.0",
      "_view_name": "LayoutView",
      "align_content": null,
      "align_items": null,
      "align_self": null,
      "border": null,
      "bottom": null,
      "display": null,
      "flex": null,
      "flex_flow": null,
      "grid_area": null,
      "grid_auto_columns": null,
      "grid_auto_flow": null,
      "grid_auto_rows": null,
      "grid_column": null,
      "grid_gap": null,
      "grid_row": null,
      "grid_template_areas": null,
      "grid_template_columns": null,
      "grid_template_rows": null,
      "height": null,
      "justify_content": null,
      "justify_items": null,
      "left": null,
      "margin": null,
      "max_height": null,
      "max_width": null,
      "min_height": null,
      "min_width": null,
      "object_fit": null,
      "object_position": null,
      "order": null,
      "overflow": null,
      "overflow_x": null,
      "overflow_y": null,
      "padding": null,
      "right": null,
      "top": null,
      "visibility": null,
      "width": null
     }
    },
    "f629f372d73b44efb31e8d7c5a45d4cd": {
     "model_module": "@jupyter-widgets/base",
     "model_module_version": "1.2.0",
     "model_name": "LayoutModel",
     "state": {
      "_model_module": "@jupyter-widgets/base",
      "_model_module_version": "1.2.0",
      "_model_name": "LayoutModel",
      "_view_count": null,
      "_view_module": "@jupyter-widgets/base",
      "_view_module_version": "1.2.0",
      "_view_name": "LayoutView",
      "align_content": null,
      "align_items": null,
      "align_self": null,
      "border": null,
      "bottom": null,
      "display": null,
      "flex": null,
      "flex_flow": null,
      "grid_area": null,
      "grid_auto_columns": null,
      "grid_auto_flow": null,
      "grid_auto_rows": null,
      "grid_column": null,
      "grid_gap": null,
      "grid_row": null,
      "grid_template_areas": null,
      "grid_template_columns": null,
      "grid_template_rows": null,
      "height": null,
      "justify_content": null,
      "justify_items": null,
      "left": null,
      "margin": null,
      "max_height": null,
      "max_width": null,
      "min_height": null,
      "min_width": null,
      "object_fit": null,
      "object_position": null,
      "order": null,
      "overflow": null,
      "overflow_x": null,
      "overflow_y": null,
      "padding": null,
      "right": null,
      "top": null,
      "visibility": null,
      "width": null
     }
    },
    "f69e8de282434b9aa8a457a73593d080": {
     "model_module": "@jupyter-widgets/controls",
     "model_module_version": "1.5.0",
     "model_name": "FloatProgressModel",
     "state": {
      "_dom_classes": [],
      "_model_module": "@jupyter-widgets/controls",
      "_model_module_version": "1.5.0",
      "_model_name": "FloatProgressModel",
      "_view_count": null,
      "_view_module": "@jupyter-widgets/controls",
      "_view_module_version": "1.5.0",
      "_view_name": "ProgressView",
      "bar_style": "success",
      "description": "",
      "description_tooltip": null,
      "layout": "IPY_MODEL_a6e9829602e047f5ab93e3dfb66195cb",
      "max": 445021143,
      "min": 0,
      "orientation": "horizontal",
      "style": "IPY_MODEL_baa09b17fcba4d8593e8155907a72c31",
      "value": 445021143
     }
    },
    "fa68d1e07ae94cd2824d767335a63c64": {
     "model_module": "@jupyter-widgets/controls",
     "model_module_version": "1.5.0",
     "model_name": "HTMLModel",
     "state": {
      "_dom_classes": [],
      "_model_module": "@jupyter-widgets/controls",
      "_model_module_version": "1.5.0",
      "_model_name": "HTMLModel",
      "_view_count": null,
      "_view_module": "@jupyter-widgets/controls",
      "_view_module_version": "1.5.0",
      "_view_name": "HTMLView",
      "description": "",
      "description_tooltip": null,
      "layout": "IPY_MODEL_e13d9164a1a6418b87f8fc9f2f5d10eb",
      "placeholder": "​",
      "style": "IPY_MODEL_c7b849cdaf324e108283b9930d31ec7e",
      "value": "Downloading pytorch_model.bin: 100%"
     }
    },
    "fe1020e5f4eb483fa3fce57764a2508c": {
     "model_module": "@jupyter-widgets/controls",
     "model_module_version": "1.5.0",
     "model_name": "DescriptionStyleModel",
     "state": {
      "_model_module": "@jupyter-widgets/controls",
      "_model_module_version": "1.5.0",
      "_model_name": "DescriptionStyleModel",
      "_view_count": null,
      "_view_module": "@jupyter-widgets/base",
      "_view_module_version": "1.2.0",
      "_view_name": "StyleView",
      "description_width": ""
     }
    }
   }
  }
 },
 "nbformat": 4,
 "nbformat_minor": 1
}
